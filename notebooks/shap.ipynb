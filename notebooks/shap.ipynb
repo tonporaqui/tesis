{
 "cells": [
  {
   "attachments": {},
   "cell_type": "markdown",
   "metadata": {},
   "source": [
    "# **Trabajo de investigacion de Modelo predictivo SHAP**\n",
    "# *SHAP(SHapley Additive exPlanations)*\n",
    "El objetivo: \n",
    "* tomar un dataFrame de ejemplo \n",
    "* aplicar analisis de dato\n",
    "* generar entrenamiento\n",
    "* visualizacion de datos"
   ]
  },
  {
   "cell_type": "code",
   "execution_count": null,
   "metadata": {},
   "outputs": [],
   "source": [
    "import numpy as np # linear algebra\n",
    "import matplotlib.pyplot as plt\n",
    "import seaborn as sns\n",
    "import shap\n",
    "from sklearn.model_selection import train_test_split\n",
    "from sklearn.ensemble import RandomForestRegressor\n",
    "# from lime import lime_tabular\n",
    "import warnings\n",
    "import pandas as pd # data processing, CSV file I/O (e.g. pd.read_csv)\n",
    "from sys import path\n",
    "import os\n",
    "for dirname, _, filenames in os.walk('../resources/'):\n",
    "    for filename in filenames:\n",
    "        print(os.path.join(dirname, filename))\n",
    "path.append(os.path.realpath('../'))\n",
    "\n",
    "from custom import funtions\n",
    "\n",
    "shap.initjs()\n"
   ]
  },
  {
   "cell_type": "code",
   "execution_count": null,
   "metadata": {},
   "outputs": [],
   "source": [
    "# Ignore warnings\n",
    "warnings.filterwarnings('ignore')"
   ]
  },
  {
   "cell_type": "code",
   "execution_count": null,
   "metadata": {},
   "outputs": [],
   "source": [
    "# Read and preview data\n",
    "# student = pd.read_csv('../resources/dataset_unab_ORIGINAL SIN P1.csv')\n",
    "student = pd.read_csv('../resources/dataset_unab_P1.csv')\n",
    "\n",
    "# df = df.rename({\n",
    "#     't1':'Total Nivel 1',\n",
    "#     'r1':'Cantidad de Reinicios Nivel 1',\n",
    "#     'p1':'Cantidad de Pruebas Nivel 1',\n",
    "#     's1':'Solución Nivel 1',\n",
    "#     'l1':'Largo de la Solución',\n",
    "#     't2':'Tiempo Total Nivel 2',\n",
    "#     'r2':'Cantidad de reinicios Nivel 2',\n",
    "#     'p2':'Cantidad de Pruebas del Nivel 2',\n",
    "#     's2':'Solución generada nivel 2',\n",
    "#     }, axis='columns')\n",
    "# student.head()"
   ]
  },
  {
   "cell_type": "code",
   "execution_count": null,
   "metadata": {},
   "outputs": [],
   "source": [
    "student.describe()"
   ]
  },
  {
   "cell_type": "code",
   "execution_count": null,
   "metadata": {},
   "outputs": [],
   "source": [
    "student['aprobado']=student.apply(lambda x: funtions.set_int_aprobado(x['estado']),axis = 1 )"
   ]
  },
  {
   "cell_type": "code",
   "execution_count": null,
   "metadata": {},
   "outputs": [],
   "source": [
    "y = student['aprobado']\n",
    "X = student[\n",
    "    [\n",
    "        'p1',\n",
    "        'r1',\n",
    "        'l1',\n",
    "        'p2',\n",
    "        'r2',\n",
    "        'l2',\n",
    "        'p3',\n",
    "        'r3',\n",
    "        'l3',\n",
    "        'p4',\n",
    "        'r4',\n",
    "        'l4',\n",
    "        'p5',\n",
    "        'r5',\n",
    "        'l5',\n",
    "        'p6',\n",
    "        'r6',\n",
    "        'l6',\n",
    "        'op1',\n",
    "        'op2',\n",
    "        'op3',\n",
    "        'op4',\n",
    "        'op5',\n",
    "        'op6',\n",
    "        'sv1',\n",
    "        'sv2',\n",
    "        'sv3',\n",
    "        'sv4',\n",
    "        'sv5',\n",
    "        'sv6',\n",
    "        'lt',\n",
    "        'pt',\n",
    "        'score',\n",
    "        'score_a',\n",
    "        'score_p',\n",
    "        'score_d',\n",
    "        'score_s',\n",
    "        'sol1'\n",
    "    ]]"
   ]
  },
  {
   "cell_type": "code",
   "execution_count": null,
   "metadata": {},
   "outputs": [],
   "source": [
    "X_train, X_test, y_train, y_test = train_test_split(X,y, test_size = 0.2,random_state= 1502)"
   ]
  },
  {
   "cell_type": "code",
   "execution_count": null,
   "metadata": {},
   "outputs": [],
   "source": [
    "model = RandomForestRegressor(random_state= 1502, n_estimators=200)\n",
    "model.fit(X_train,y_train)"
   ]
  },
  {
   "cell_type": "code",
   "execution_count": null,
   "metadata": {},
   "outputs": [],
   "source": [
    "explainer = shap.TreeExplainer(model)\n",
    "shap_values = explainer.shap_values(X_test)\n"
   ]
  },
  {
   "cell_type": "code",
   "execution_count": null,
   "metadata": {},
   "outputs": [],
   "source": [
    "shap.force_plot(explainer.expected_value, shap_values[0,:], X_test.iloc[0,:], link='logit', matplotlib=True)"
   ]
  },
  {
   "cell_type": "code",
   "execution_count": null,
   "metadata": {},
   "outputs": [],
   "source": [
    "shap.force_plot(explainer.expected_value, shap_values, X_test, link='logit')\n"
   ]
  },
  {
   "cell_type": "code",
   "execution_count": null,
   "metadata": {},
   "outputs": [],
   "source": [
    "shap.summary_plot(shap_values)"
   ]
  },
  {
   "cell_type": "code",
   "execution_count": null,
   "metadata": {},
   "outputs": [],
   "source": [
    "shap.summary_plot(shap_values, plot_type='violin')"
   ]
  }
 ],
 "metadata": {
  "kernelspec": {
   "display_name": "Python 3",
   "language": "python",
   "name": "python3"
  },
  "language_info": {
   "codemirror_mode": {
    "name": "ipython",
    "version": 3
   },
   "file_extension": ".py",
   "mimetype": "text/x-python",
   "name": "python",
   "nbconvert_exporter": "python",
   "pygments_lexer": "ipython3",
   "version": "3.10.9"
  },
  "orig_nbformat": 4,
  "vscode": {
   "interpreter": {
    "hash": "c415552e0e415da0ef3914158832441b5b59a36c5850220d8da448bcef999c61"
   }
  }
 },
 "nbformat": 4,
 "nbformat_minor": 2
}
