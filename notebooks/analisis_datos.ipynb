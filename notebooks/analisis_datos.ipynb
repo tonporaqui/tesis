{
 "cells": [
  {
   "cell_type": "code",
   "execution_count": 1,
   "metadata": {},
   "outputs": [
    {
     "name": "stdout",
     "output_type": "stream",
     "text": [
      "../resources/dataset_a_2021.csv\n",
      "../resources/dataset_a_2021v1.xlsx\n",
      "../resources/dataset_a_2021v2.xlsx\n",
      "../resources/dataset_a_2021v3.xlsx\n",
      "../resources/dataset_a_2021v4.xlsx\n",
      "../resources/dataset_unab_ORIGINAL SIN P1.csv\n",
      "../resources/dataset_unab_P1.csv\n"
     ]
    }
   ],
   "source": [
    "import pandas as pd # data processing, CSV file I/O (e.g. pd.read_csv)\n",
    "\n",
    "import numpy as np\n",
    "import missingno as msno\n",
    "import matplotlib.pyplot as plt\n",
    "import scipy.stats as stats\n",
    "from statsmodels.graphics.gofplots import qqplot\n",
    "import seaborn as sns\n",
    "from fancyimpute import IterativeImputer\n",
    "\n",
    "from sys import path # modificar la lista de rutas de búsqueda que el intérprete de Python utiliza para buscar módulos y paquetes.\n",
    "import os # interactua con el sistema operativo\n",
    "for dirname, _, filenames in os.walk('../resources/'):\n",
    "    for filename in filenames:\n",
    "        print(os.path.join(dirname, filename))\n",
    "path.append(os.path.realpath('../'))\n",
    "\n",
    "from custom import funtions"
   ]
  },
  {
   "cell_type": "code",
   "execution_count": 2,
   "metadata": {},
   "outputs": [
    {
     "data": {
      "text/html": [
       "<div>\n",
       "<style scoped>\n",
       "    .dataframe tbody tr th:only-of-type {\n",
       "        vertical-align: middle;\n",
       "    }\n",
       "\n",
       "    .dataframe tbody tr th {\n",
       "        vertical-align: top;\n",
       "    }\n",
       "\n",
       "    .dataframe thead th {\n",
       "        text-align: right;\n",
       "    }\n",
       "</style>\n",
       "<table border=\"1\" class=\"dataframe\">\n",
       "  <thead>\n",
       "    <tr style=\"text-align: right;\">\n",
       "      <th></th>\n",
       "      <th>exitosos</th>\n",
       "      <th>fallidos</th>\n",
       "      <th>envios</th>\n",
       "      <th>e0</th>\n",
       "      <th>e1</th>\n",
       "      <th>e2</th>\n",
       "      <th>e3</th>\n",
       "      <th>e4</th>\n",
       "      <th>e5</th>\n",
       "      <th>e6</th>\n",
       "      <th>...</th>\n",
       "      <th>e44</th>\n",
       "      <th>e45</th>\n",
       "      <th>e46</th>\n",
       "      <th>e47</th>\n",
       "      <th>e48</th>\n",
       "      <th>e49</th>\n",
       "      <th>e50</th>\n",
       "      <th>e51</th>\n",
       "      <th>e52</th>\n",
       "      <th>sol1</th>\n",
       "    </tr>\n",
       "  </thead>\n",
       "  <tbody>\n",
       "    <tr>\n",
       "      <th>0</th>\n",
       "      <td>10</td>\n",
       "      <td>21</td>\n",
       "      <td>31</td>\n",
       "      <td>1</td>\n",
       "      <td>0</td>\n",
       "      <td>0</td>\n",
       "      <td>1</td>\n",
       "      <td>1</td>\n",
       "      <td>0</td>\n",
       "      <td>0</td>\n",
       "      <td>...</td>\n",
       "      <td>0</td>\n",
       "      <td>0</td>\n",
       "      <td>0</td>\n",
       "      <td>0</td>\n",
       "      <td>0</td>\n",
       "      <td>0</td>\n",
       "      <td>0</td>\n",
       "      <td>0</td>\n",
       "      <td>0</td>\n",
       "      <td>1.0</td>\n",
       "    </tr>\n",
       "    <tr>\n",
       "      <th>1</th>\n",
       "      <td>7</td>\n",
       "      <td>9</td>\n",
       "      <td>16</td>\n",
       "      <td>1</td>\n",
       "      <td>0</td>\n",
       "      <td>0</td>\n",
       "      <td>0</td>\n",
       "      <td>1</td>\n",
       "      <td>0</td>\n",
       "      <td>0</td>\n",
       "      <td>...</td>\n",
       "      <td>0</td>\n",
       "      <td>0</td>\n",
       "      <td>0</td>\n",
       "      <td>0</td>\n",
       "      <td>0</td>\n",
       "      <td>0</td>\n",
       "      <td>0</td>\n",
       "      <td>0</td>\n",
       "      <td>0</td>\n",
       "      <td>1.0</td>\n",
       "    </tr>\n",
       "    <tr>\n",
       "      <th>2</th>\n",
       "      <td>6</td>\n",
       "      <td>10</td>\n",
       "      <td>16</td>\n",
       "      <td>1</td>\n",
       "      <td>0</td>\n",
       "      <td>0</td>\n",
       "      <td>0</td>\n",
       "      <td>0</td>\n",
       "      <td>0</td>\n",
       "      <td>0</td>\n",
       "      <td>...</td>\n",
       "      <td>0</td>\n",
       "      <td>0</td>\n",
       "      <td>0</td>\n",
       "      <td>0</td>\n",
       "      <td>0</td>\n",
       "      <td>0</td>\n",
       "      <td>0</td>\n",
       "      <td>0</td>\n",
       "      <td>0</td>\n",
       "      <td>1.0</td>\n",
       "    </tr>\n",
       "    <tr>\n",
       "      <th>3</th>\n",
       "      <td>0</td>\n",
       "      <td>0</td>\n",
       "      <td>0</td>\n",
       "      <td>0</td>\n",
       "      <td>0</td>\n",
       "      <td>0</td>\n",
       "      <td>0</td>\n",
       "      <td>0</td>\n",
       "      <td>0</td>\n",
       "      <td>0</td>\n",
       "      <td>...</td>\n",
       "      <td>0</td>\n",
       "      <td>0</td>\n",
       "      <td>0</td>\n",
       "      <td>0</td>\n",
       "      <td>0</td>\n",
       "      <td>0</td>\n",
       "      <td>0</td>\n",
       "      <td>0</td>\n",
       "      <td>0</td>\n",
       "      <td>1.0</td>\n",
       "    </tr>\n",
       "    <tr>\n",
       "      <th>4</th>\n",
       "      <td>0</td>\n",
       "      <td>0</td>\n",
       "      <td>0</td>\n",
       "      <td>0</td>\n",
       "      <td>0</td>\n",
       "      <td>0</td>\n",
       "      <td>0</td>\n",
       "      <td>0</td>\n",
       "      <td>0</td>\n",
       "      <td>0</td>\n",
       "      <td>...</td>\n",
       "      <td>0</td>\n",
       "      <td>0</td>\n",
       "      <td>0</td>\n",
       "      <td>0</td>\n",
       "      <td>0</td>\n",
       "      <td>0</td>\n",
       "      <td>0</td>\n",
       "      <td>0</td>\n",
       "      <td>0</td>\n",
       "      <td>1.0</td>\n",
       "    </tr>\n",
       "  </tbody>\n",
       "</table>\n",
       "<p>5 rows × 57 columns</p>\n",
       "</div>"
      ],
      "text/plain": [
       "   exitosos  fallidos  envios  e0  e1  e2  e3  e4  e5  e6  ...  e44  e45  e46   \n",
       "0        10        21      31   1   0   0   1   1   0   0  ...    0    0    0  \\\n",
       "1         7         9      16   1   0   0   0   1   0   0  ...    0    0    0   \n",
       "2         6        10      16   1   0   0   0   0   0   0  ...    0    0    0   \n",
       "3         0         0       0   0   0   0   0   0   0   0  ...    0    0    0   \n",
       "4         0         0       0   0   0   0   0   0   0   0  ...    0    0    0   \n",
       "\n",
       "   e47  e48  e49  e50  e51  e52  sol1  \n",
       "0    0    0    0    0    0    0   1.0  \n",
       "1    0    0    0    0    0    0   1.0  \n",
       "2    0    0    0    0    0    0   1.0  \n",
       "3    0    0    0    0    0    0   1.0  \n",
       "4    0    0    0    0    0    0   1.0  \n",
       "\n",
       "[5 rows x 57 columns]"
      ]
     },
     "execution_count": 2,
     "metadata": {},
     "output_type": "execute_result"
    }
   ],
   "source": [
    "df = pd.read_excel(open('../resources/dataset_a_2021v4.xlsx','rb'))\n",
    "df.head()"
   ]
  },
  {
   "cell_type": "code",
   "execution_count": 26,
   "metadata": {},
   "outputs": [
    {
     "data": {
      "text/plain": [
       "(839, 57)"
      ]
     },
     "execution_count": 26,
     "metadata": {},
     "output_type": "execute_result"
    }
   ],
   "source": [
    "# Dimensión del conjunto de datos\n",
    "df.shape"
   ]
  },
  {
   "cell_type": "code",
   "execution_count": 25,
   "metadata": {},
   "outputs": [
    {
     "data": {
      "text/html": [
       "<div>\n",
       "<style scoped>\n",
       "    .dataframe tbody tr th:only-of-type {\n",
       "        vertical-align: middle;\n",
       "    }\n",
       "\n",
       "    .dataframe tbody tr th {\n",
       "        vertical-align: top;\n",
       "    }\n",
       "\n",
       "    .dataframe thead th {\n",
       "        text-align: right;\n",
       "    }\n",
       "</style>\n",
       "<table border=\"1\" class=\"dataframe\">\n",
       "  <thead>\n",
       "    <tr style=\"text-align: right;\">\n",
       "      <th></th>\n",
       "      <th>exitosos</th>\n",
       "      <th>fallidos</th>\n",
       "      <th>envios</th>\n",
       "      <th>e0</th>\n",
       "      <th>e1</th>\n",
       "      <th>e2</th>\n",
       "      <th>e3</th>\n",
       "      <th>e4</th>\n",
       "      <th>e5</th>\n",
       "      <th>e6</th>\n",
       "      <th>...</th>\n",
       "      <th>e44</th>\n",
       "      <th>e45</th>\n",
       "      <th>e46</th>\n",
       "      <th>e47</th>\n",
       "      <th>e48</th>\n",
       "      <th>e49</th>\n",
       "      <th>e50</th>\n",
       "      <th>e51</th>\n",
       "      <th>e52</th>\n",
       "      <th>sol1</th>\n",
       "    </tr>\n",
       "  </thead>\n",
       "  <tbody>\n",
       "    <tr>\n",
       "      <th>0</th>\n",
       "      <td>10</td>\n",
       "      <td>21</td>\n",
       "      <td>31</td>\n",
       "      <td>1</td>\n",
       "      <td>0</td>\n",
       "      <td>0</td>\n",
       "      <td>1</td>\n",
       "      <td>1</td>\n",
       "      <td>0</td>\n",
       "      <td>0</td>\n",
       "      <td>...</td>\n",
       "      <td>0</td>\n",
       "      <td>0</td>\n",
       "      <td>0</td>\n",
       "      <td>0</td>\n",
       "      <td>0</td>\n",
       "      <td>0</td>\n",
       "      <td>0</td>\n",
       "      <td>0</td>\n",
       "      <td>0</td>\n",
       "      <td>1.0</td>\n",
       "    </tr>\n",
       "    <tr>\n",
       "      <th>1</th>\n",
       "      <td>7</td>\n",
       "      <td>9</td>\n",
       "      <td>16</td>\n",
       "      <td>1</td>\n",
       "      <td>0</td>\n",
       "      <td>0</td>\n",
       "      <td>0</td>\n",
       "      <td>1</td>\n",
       "      <td>0</td>\n",
       "      <td>0</td>\n",
       "      <td>...</td>\n",
       "      <td>0</td>\n",
       "      <td>0</td>\n",
       "      <td>0</td>\n",
       "      <td>0</td>\n",
       "      <td>0</td>\n",
       "      <td>0</td>\n",
       "      <td>0</td>\n",
       "      <td>0</td>\n",
       "      <td>0</td>\n",
       "      <td>1.0</td>\n",
       "    </tr>\n",
       "    <tr>\n",
       "      <th>2</th>\n",
       "      <td>6</td>\n",
       "      <td>10</td>\n",
       "      <td>16</td>\n",
       "      <td>1</td>\n",
       "      <td>0</td>\n",
       "      <td>0</td>\n",
       "      <td>0</td>\n",
       "      <td>0</td>\n",
       "      <td>0</td>\n",
       "      <td>0</td>\n",
       "      <td>...</td>\n",
       "      <td>0</td>\n",
       "      <td>0</td>\n",
       "      <td>0</td>\n",
       "      <td>0</td>\n",
       "      <td>0</td>\n",
       "      <td>0</td>\n",
       "      <td>0</td>\n",
       "      <td>0</td>\n",
       "      <td>0</td>\n",
       "      <td>1.0</td>\n",
       "    </tr>\n",
       "    <tr>\n",
       "      <th>3</th>\n",
       "      <td>0</td>\n",
       "      <td>0</td>\n",
       "      <td>0</td>\n",
       "      <td>0</td>\n",
       "      <td>0</td>\n",
       "      <td>0</td>\n",
       "      <td>0</td>\n",
       "      <td>0</td>\n",
       "      <td>0</td>\n",
       "      <td>0</td>\n",
       "      <td>...</td>\n",
       "      <td>0</td>\n",
       "      <td>0</td>\n",
       "      <td>0</td>\n",
       "      <td>0</td>\n",
       "      <td>0</td>\n",
       "      <td>0</td>\n",
       "      <td>0</td>\n",
       "      <td>0</td>\n",
       "      <td>0</td>\n",
       "      <td>1.0</td>\n",
       "    </tr>\n",
       "    <tr>\n",
       "      <th>4</th>\n",
       "      <td>0</td>\n",
       "      <td>0</td>\n",
       "      <td>0</td>\n",
       "      <td>0</td>\n",
       "      <td>0</td>\n",
       "      <td>0</td>\n",
       "      <td>0</td>\n",
       "      <td>0</td>\n",
       "      <td>0</td>\n",
       "      <td>0</td>\n",
       "      <td>...</td>\n",
       "      <td>0</td>\n",
       "      <td>0</td>\n",
       "      <td>0</td>\n",
       "      <td>0</td>\n",
       "      <td>0</td>\n",
       "      <td>0</td>\n",
       "      <td>0</td>\n",
       "      <td>0</td>\n",
       "      <td>0</td>\n",
       "      <td>1.0</td>\n",
       "    </tr>\n",
       "  </tbody>\n",
       "</table>\n",
       "<p>5 rows × 57 columns</p>\n",
       "</div>"
      ],
      "text/plain": [
       "   exitosos  fallidos  envios  e0  e1  e2  e3  e4  e5  e6  ...  e44  e45  e46   \n",
       "0        10        21      31   1   0   0   1   1   0   0  ...    0    0    0  \\\n",
       "1         7         9      16   1   0   0   0   1   0   0  ...    0    0    0   \n",
       "2         6        10      16   1   0   0   0   0   0   0  ...    0    0    0   \n",
       "3         0         0       0   0   0   0   0   0   0   0  ...    0    0    0   \n",
       "4         0         0       0   0   0   0   0   0   0   0  ...    0    0    0   \n",
       "\n",
       "   e47  e48  e49  e50  e51  e52  sol1  \n",
       "0    0    0    0    0    0    0   1.0  \n",
       "1    0    0    0    0    0    0   1.0  \n",
       "2    0    0    0    0    0    0   1.0  \n",
       "3    0    0    0    0    0    0   1.0  \n",
       "4    0    0    0    0    0    0   1.0  \n",
       "\n",
       "[5 rows x 57 columns]"
      ]
     },
     "execution_count": 25,
     "metadata": {},
     "output_type": "execute_result"
    }
   ],
   "source": [
    "# Imprimir las primeras filas\n",
    "df.head()"
   ]
  },
  {
   "cell_type": "code",
   "execution_count": 27,
   "metadata": {},
   "outputs": [
    {
     "name": "stdout",
     "output_type": "stream",
     "text": [
      "<class 'pandas.core.frame.DataFrame'>\n",
      "RangeIndex: 839 entries, 0 to 838\n",
      "Data columns (total 57 columns):\n",
      " #   Column    Non-Null Count  Dtype  \n",
      "---  ------    --------------  -----  \n",
      " 0   exitosos  839 non-null    int64  \n",
      " 1   fallidos  839 non-null    int64  \n",
      " 2   envios    839 non-null    int64  \n",
      " 3   e0        839 non-null    int64  \n",
      " 4   e1        839 non-null    int64  \n",
      " 5   e2        839 non-null    int64  \n",
      " 6   e3        839 non-null    int64  \n",
      " 7   e4        839 non-null    int64  \n",
      " 8   e5        839 non-null    int64  \n",
      " 9   e6        839 non-null    int64  \n",
      " 10  e7        839 non-null    int64  \n",
      " 11  e8        839 non-null    int64  \n",
      " 12  e9        839 non-null    int64  \n",
      " 13  e10       839 non-null    int64  \n",
      " 14  e11       839 non-null    int64  \n",
      " 15  e12       839 non-null    int64  \n",
      " 16  e13       839 non-null    int64  \n",
      " 17  e14       839 non-null    int64  \n",
      " 18  e15       839 non-null    int64  \n",
      " 19  e16       839 non-null    int64  \n",
      " 20  e17       839 non-null    int64  \n",
      " 21  e18       839 non-null    int64  \n",
      " 22  e19       839 non-null    int64  \n",
      " 23  e20       839 non-null    int64  \n",
      " 24  e21       839 non-null    int64  \n",
      " 25  e22       839 non-null    int64  \n",
      " 26  e23       839 non-null    int64  \n",
      " 27  e24       839 non-null    int64  \n",
      " 28  e25       839 non-null    int64  \n",
      " 29  e26       839 non-null    int64  \n",
      " 30  e27       839 non-null    int64  \n",
      " 31  e28       839 non-null    int64  \n",
      " 32  e29       839 non-null    int64  \n",
      " 33  e30       839 non-null    int64  \n",
      " 34  e31       839 non-null    int64  \n",
      " 35  e32       839 non-null    int64  \n",
      " 36  e33       839 non-null    int64  \n",
      " 37  e34       839 non-null    int64  \n",
      " 38  e35       839 non-null    int64  \n",
      " 39  e36       839 non-null    int64  \n",
      " 40  e37       839 non-null    int64  \n",
      " 41  e38       839 non-null    int64  \n",
      " 42  e39       839 non-null    int64  \n",
      " 43  e40       839 non-null    int64  \n",
      " 44  e41       839 non-null    int64  \n",
      " 45  e42       839 non-null    int64  \n",
      " 46  e43       839 non-null    int64  \n",
      " 47  e44       839 non-null    int64  \n",
      " 48  e45       839 non-null    int64  \n",
      " 49  e46       839 non-null    int64  \n",
      " 50  e47       839 non-null    int64  \n",
      " 51  e48       839 non-null    int64  \n",
      " 52  e49       839 non-null    int64  \n",
      " 53  e50       839 non-null    int64  \n",
      " 54  e51       839 non-null    int64  \n",
      " 55  e52       839 non-null    int64  \n",
      " 56  sol1      839 non-null    float64\n",
      "dtypes: float64(1), int64(56)\n",
      "memory usage: 373.7 KB\n"
     ]
    }
   ],
   "source": [
    "# Estructura de los datos\n",
    "df.info()"
   ]
  },
  {
   "cell_type": "code",
   "execution_count": 32,
   "metadata": {},
   "outputs": [],
   "source": [
    "# Visualización de datos faltantes\n",
    "# msno.matrix(df, sort='ascending')"
   ]
  },
  {
   "cell_type": "code",
   "execution_count": 31,
   "metadata": {},
   "outputs": [],
   "source": [
    "# Análisis de variables categóricas o enteras\n",
    "# df['fallidos'].value_counts()\n",
    "# df['exitosos'].value_counts()\n",
    "# df['envios'].value_counts()\n",
    "# df['sol1'].value_counts()"
   ]
  },
  {
   "cell_type": "code",
   "execution_count": 30,
   "metadata": {},
   "outputs": [],
   "source": [
    "# Análisis de variables numéricas\n",
    "# df['exitosos'].describe()\n",
    "# df['fallidos'].describe()\n",
    "# df['envios'].describe()\n",
    "# df['sol1'].describe()"
   ]
  },
  {
   "cell_type": "code",
   "execution_count": 6,
   "metadata": {},
   "outputs": [
    {
     "data": {
      "text/plain": [
       "0.033079652062595215"
      ]
     },
     "execution_count": 6,
     "metadata": {},
     "output_type": "execute_result"
    }
   ],
   "source": [
    "# Coeficiente de asimetría\n",
    "def c_skew(x):\n",
    "    m3 = np.mean((x - np.mean(x, axis=0)) ** 3, axis=0)\n",
    "    skew = m3 / (np.std(x, axis=0) ** 3)\n",
    "    return skew\n",
    "\n",
    "c_skew(df['exitosos'])\n",
    "c_skew(df['fallidos'])\n",
    "c_skew(df['envios'])\n",
    "c_skew(df['sol1'])"
   ]
  },
  {
   "cell_type": "code",
   "execution_count": 33,
   "metadata": {},
   "outputs": [
    {
     "data": {
      "text/plain": [
       "0.5027829289053924"
      ]
     },
     "execution_count": 33,
     "metadata": {},
     "output_type": "execute_result"
    }
   ],
   "source": [
    "# Coeficiente de variación\n",
    "def coef_var(x):\n",
    "    return np.std(x, axis=0) / np.mean(x, axis=0)\n",
    "\n",
    "# coef_var(df['exitosos'])\n",
    "# coef_var(df['fallidos'])\n",
    "# coef_var(df['envios'])\n",
    "coef_var(df['sol1'])"
   ]
  },
  {
   "cell_type": "code",
   "execution_count": 34,
   "metadata": {},
   "outputs": [
    {
     "data": {
      "text/plain": [
       "0.747107554625991"
      ]
     },
     "execution_count": 34,
     "metadata": {},
     "output_type": "execute_result"
    }
   ],
   "source": [
    "# Coeficiente de variación\n",
    "def coef_var(x):\n",
    "    return np.std(x, axis=0, ddof=1) / np.mean(x, axis=0)\n",
    "\n",
    "# coef_var(df['sol1'])\n",
    "# coef_var(df['exitosos'])\n",
    "coef_var(df['fallidos'])"
   ]
  },
  {
   "cell_type": "code",
   "execution_count": 11,
   "metadata": {},
   "outputs": [],
   "source": [
    "# Diagnóstico numérico con flextable\n",
    "# diagnosis_numeric = diagnose_numeric(df)\n",
    "# diagnosis_numeric_table = pd.DataFrame(diagnosis_numeric)\n"
   ]
  },
  {
   "cell_type": "code",
   "execution_count": 35,
   "metadata": {},
   "outputs": [],
   "source": [
    "# Eliminar filas con valores faltantes\n",
    "data2 = df.dropna()"
   ]
  },
  {
   "cell_type": "code",
   "execution_count": 36,
   "metadata": {},
   "outputs": [
    {
     "name": "stdout",
     "output_type": "stream",
     "text": [
      "              f_i  F_i       h_i       H_i\n",
      "sol1.cut                                  \n",
      "(0.0, 0.56]     0    0  0.000000  0.000000\n",
      "(0.56, 1.12]  152  152  0.181168  0.181168\n",
      "(1.12, 1.68]   21  173  0.025030  0.206198\n",
      "(1.68, 2.24]   66  239  0.078665  0.284863\n",
      "(2.24, 2.8]    79  318  0.094160  0.379023\n",
      "(2.8, 3.36]    34  352  0.040524  0.419547\n",
      "(3.36, 3.92]  103  455  0.122765  0.542312\n",
      "(3.92, 4.48]   76  531  0.090584  0.632896\n",
      "(4.48, 5.04]   87  618  0.103695  0.736591\n",
      "(5.04, 5.6]    81  699  0.096544  0.833135\n",
      "(5.6, 6.16]    53  752  0.063170  0.896305\n",
      "(6.16, 6.72]   57  809  0.067938  0.964243\n",
      "(6.72, 7.28]   30  839  0.035757  1.000000\n"
     ]
    }
   ],
   "source": [
    "# Tabla de frecuencias\n",
    "n = len(data2['sol1'])\n",
    "amplitud = (np.nanmax(data2['sol1']) - np.nanmin(data2['sol1'])) / (1 + 3.322 * np.log10(n))\n",
    "data2['sol1.cut'] = pd.cut(data2['sol1'], bins=np.arange(0, 7.56, 0.56))\n",
    "f_i = data2['sol1.cut'].value_counts().sort_index().values\n",
    "F_i = f_i.cumsum()\n",
    "h_i = f_i / len(data2['sol1'])\n",
    "H_i = F_i / len(data2['sol1'])\n",
    "\n",
    "table = pd.DataFrame({'f_i': f_i, 'F_i': F_i, 'h_i': h_i, 'H_i': H_i}, index=data2['sol1.cut'].value_counts().sort_index().index)\n",
    "print(table)\n"
   ]
  },
  {
   "cell_type": "code",
   "execution_count": null,
   "metadata": {},
   "outputs": [],
   "source": [
    "# Diagnóstico de categorías con flextable\n",
    "# table = FlexTable()\n",
    "# table.add_df(diagnose_category(data2, 'sol1.cut'))\n",
    "# table"
   ]
  },
  {
   "cell_type": "code",
   "execution_count": 37,
   "metadata": {},
   "outputs": [
    {
     "data": {
      "image/png": "[encoded data removed]",
      "text/plain": [
       "<Figure size 800x600 with 1 Axes>"
      ]
     },
     "metadata": {},
     "output_type": "display_data"
    }
   ],
   "source": [
    "# Histograma con curva de densidad\n",
    "plt.figure(figsize=(8, 6))\n",
    "plt.hist(data2['sol1'], bins=np.arange(0, 7.56, 0.56), density=True, color='green', alpha=0.2, edgecolor='black')\n",
    "mu = np.mean(data2['sol1'])\n",
    "sigma = np.std(data2['sol1'])\n",
    "x = np.linspace(0, 7, 100)\n",
    "plt.plot(x, stats.norm.pdf(x, mu, sigma), color='red', linewidth=1)\n",
    "plt.xlabel('Solemne')\n",
    "plt.ylabel('Density')\n",
    "plt.title('Histogram with Density Curve')\n",
    "plt.grid(True)\n",
    "plt.show()"
   ]
  },
  {
   "cell_type": "code",
   "execution_count": 38,
   "metadata": {},
   "outputs": [
    {
     "data": {
      "image/png": "[encoded data removed]",
      "text/plain": [
       "<Figure size 800x600 with 1 Axes>"
      ]
     },
     "metadata": {},
     "output_type": "display_data"
    }
   ],
   "source": [
    "# Distribución empírica acumulada\n",
    "plt.figure(figsize=(8, 6))\n",
    "plt.step(np.sort(data2['sol1']), np.arange(1, len(data2['sol1']) + 1) / len(data2['sol1']), where='post')\n",
    "plt.xlabel('Solemne')\n",
    "plt.ylabel('F(X)')\n",
    "plt.title('Empirical Cumulative Distribution')\n",
    "plt.grid(True)\n",
    "plt.show()"
   ]
  },
  {
   "cell_type": "code",
   "execution_count": 39,
   "metadata": {},
   "outputs": [
    {
     "data": {
      "image/png": "[encoded data removed]",
      "text/plain": [
       "<Figure size 800x600 with 1 Axes>"
      ]
     },
     "metadata": {},
     "output_type": "display_data"
    }
   ],
   "source": [
    "# Q-Q plot\n",
    "plt.figure(figsize=(8, 6))\n",
    "stats.probplot(data2['sol1'], dist=\"norm\", plot=plt)\n",
    "plt.xlabel('Q-Normal')\n",
    "plt.ylabel('Q-Solemne (ppb)')\n",
    "plt.title('Q-Q Plot')\n",
    "plt.grid(True)\n",
    "plt.show()"
   ]
  },
  {
   "cell_type": "code",
   "execution_count": 40,
   "metadata": {},
   "outputs": [
    {
     "name": "stdout",
     "output_type": "stream",
     "text": [
      "KS test p-value: 4.916091422695989e-08\n",
      "Shapiro-Wilk test p-value: 1.9628936378879243e-17\n"
     ]
    }
   ],
   "source": [
    "# Prueba de normalidad\n",
    "kstest_result = stats.kstest(data2['sol1'], 'norm', args=(np.mean(data2['sol1']), np.std(data2['sol1'])))\n",
    "shapiro_result = stats.shapiro(data2['sol1'])\n",
    "print('KS test p-value:', kstest_result.pvalue)\n",
    "print('Shapiro-Wilk test p-value:', shapiro_result.pvalue)"
   ]
  },
  {
   "cell_type": "code",
   "execution_count": null,
   "metadata": {},
   "outputs": [],
   "source": [
    "# Diagnóstico de normalidad con flextable\n",
    "# table = FlexTable()\n",
    "# table.add_df(normality(data2))\n",
    "# table"
   ]
  },
  {
   "cell_type": "code",
   "execution_count": null,
   "metadata": {},
   "outputs": [],
   "source": [
    "# Detección de valores atípicos\n",
    "# outlier_table = FlexTable()\n",
    "# outlier_table.add_df(diagnose_outlier(data2))\n",
    "# outlier_table"
   ]
  },
  {
   "cell_type": "code",
   "execution_count": 41,
   "metadata": {},
   "outputs": [
    {
     "data": {
      "image/png": "[encoded data removed]",
      "text/plain": [
       "<Figure size 800x600 with 1 Axes>"
      ]
     },
     "metadata": {},
     "output_type": "display_data"
    }
   ],
   "source": [
    "# Boxplot\n",
    "plt.figure(figsize=(8, 6))\n",
    "sns.boxplot(data=data2, y='sol1', color='lightgreen', width=0.5)\n",
    "plt.xlabel('')\n",
    "plt.ylabel('Sl (ppb)')\n",
    "plt.title('Boxplot')\n",
    "plt.grid(True)\n",
    "plt.show()"
   ]
  },
  {
   "cell_type": "code",
   "execution_count": 42,
   "metadata": {},
   "outputs": [
    {
     "data": {
      "image/png": "[encoded data removed]",
      "text/plain": [
       "<Figure size 800x600 with 1 Axes>"
      ]
     },
     "metadata": {},
     "output_type": "display_data"
    }
   ],
   "source": [
    "# Boxplot por meses\n",
    "plt.figure(figsize=(8, 6))\n",
    "sns.boxplot(data=data2, x='exitosos', y='sol1', color='lightgreen', width=0.5)\n",
    "plt.xlabel('exitosos')\n",
    "plt.ylabel('Sl (ppb)')\n",
    "plt.title('Boxplot by Months')\n",
    "plt.grid(True)\n",
    "plt.show()"
   ]
  },
  {
   "cell_type": "code",
   "execution_count": 45,
   "metadata": {},
   "outputs": [
    {
     "name": "stdout",
     "output_type": "stream",
     "text": [
      "    Variable  Missing Count\n",
      "0   exitosos              0\n",
      "1   fallidos              0\n",
      "2     envios              0\n",
      "3         e0              0\n",
      "4         e1              0\n",
      "5         e2              0\n",
      "6         e3              0\n",
      "7         e4              0\n",
      "8         e5              0\n",
      "9         e6              0\n",
      "10        e7              0\n",
      "11        e8              0\n",
      "12        e9              0\n",
      "13       e10              0\n",
      "14       e11              0\n",
      "15       e12              0\n",
      "16       e13              0\n",
      "17       e14              0\n",
      "18       e15              0\n",
      "19       e16              0\n",
      "20       e17              0\n",
      "21       e18              0\n",
      "22       e19              0\n",
      "23       e20              0\n",
      "24       e21              0\n",
      "25       e22              0\n",
      "26       e23              0\n",
      "27       e24              0\n",
      "28       e25              0\n",
      "29       e26              0\n",
      "30       e27              0\n",
      "31       e28              0\n",
      "32       e29              0\n",
      "33       e30              0\n",
      "34       e31              0\n",
      "35       e32              0\n",
      "36       e33              0\n",
      "37       e34              0\n",
      "38       e35              0\n",
      "39       e36              0\n",
      "40       e37              0\n",
      "41       e38              0\n",
      "42       e39              0\n",
      "43       e40              0\n",
      "44       e41              0\n",
      "45       e42              0\n",
      "46       e43              0\n",
      "47       e44              0\n",
      "48       e45              0\n",
      "49       e46              0\n",
      "50       e47              0\n",
      "51       e48              0\n",
      "52       e49              0\n",
      "53       e50              0\n",
      "54       e51              0\n",
      "55       e52              0\n",
      "56      sol1              0\n",
      "57  sol1.cut              0\n"
     ]
    }
   ],
   "source": [
    "# Análisis e imputación de datos faltantes\n",
    "missing_data = data2.isnull().sum()\n",
    "missing_data_table = pd.DataFrame({'Variable': missing_data.index, 'Missing Count': missing_data.values})\n",
    "print(missing_data_table)"
   ]
  },
  {
   "cell_type": "code",
   "execution_count": 48,
   "metadata": {},
   "outputs": [],
   "source": [
    "# Imputación de valores perdidos\n",
    "# imputer = IterativeImputer(random_state=46)\n",
    "# imputed_data = imputer.fit_transform(data2.iloc[:, :6])\n",
    "# imputed_data = pd.DataFrame(imputed_data, columns=data2.columns[:6])\n",
    "# imputed_data['sol1']\n",
    "# completed_data = imputed_data\n",
    "# diagnose(completed_data)"
   ]
  }
 ],
 "metadata": {
  "kernelspec": {
   "display_name": "Python 3",
   "language": "python",
   "name": "python3"
  },
  "language_info": {
   "codemirror_mode": {
    "name": "ipython",
    "version": 3
   },
   "file_extension": ".py",
   "mimetype": "text/x-python",
   "name": "python",
   "nbconvert_exporter": "python",
   "pygments_lexer": "ipython3",
   "version": "3.10.9"
  },
  "orig_nbformat": 4
 },
 "nbformat": 4,
 "nbformat_minor": 2
}
