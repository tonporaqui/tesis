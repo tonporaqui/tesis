{
 "cells": [
  {
   "cell_type": "code",
   "execution_count": 50,
   "metadata": {},
   "outputs": [
    {
     "name": "stdout",
     "output_type": "stream",
     "text": [
      "../resources/dataset_unab_ORIGINAL SIN P1.csv\n",
      "../resources/dataset_unab_P1.csv\n"
     ]
    }
   ],
   "source": [
    "import numpy as np # linear algebra\n",
    "import matplotlib.pyplot as plt\n",
    "import seaborn as sns\n",
    "from sklearn.model_selection import train_test_split\n",
    "from sklearn.ensemble import RandomForestRegressor\n",
    "import warnings\n",
    "import pandas as pd # data processing, CSV file I/O (e.g. pd.read_csv)\n",
    "import os\n",
    "for dirname, _, filenames in os.walk('../resources/'):\n",
    "    for filename in filenames:\n",
    "        print(os.path.join(dirname, filename))"
   ]
  },
  {
   "cell_type": "code",
   "execution_count": 51,
   "metadata": {},
   "outputs": [],
   "source": [
    "# Ignore warnings\n",
    "warnings.filterwarnings('ignore')"
   ]
  },
  {
   "cell_type": "code",
   "execution_count": 52,
   "metadata": {},
   "outputs": [
    {
     "data": {
      "text/html": [
       "<div>\n",
       "<style scoped>\n",
       "    .dataframe tbody tr th:only-of-type {\n",
       "        vertical-align: middle;\n",
       "    }\n",
       "\n",
       "    .dataframe tbody tr th {\n",
       "        vertical-align: top;\n",
       "    }\n",
       "\n",
       "    .dataframe thead th {\n",
       "        text-align: right;\n",
       "    }\n",
       "</style>\n",
       "<table border=\"1\" class=\"dataframe\">\n",
       "  <thead>\n",
       "    <tr style=\"text-align: right;\">\n",
       "      <th></th>\n",
       "      <th>rut</th>\n",
       "      <th>t1</th>\n",
       "      <th>r1</th>\n",
       "      <th>p1</th>\n",
       "      <th>s1</th>\n",
       "      <th>l1</th>\n",
       "      <th>t2</th>\n",
       "      <th>r2</th>\n",
       "      <th>p2</th>\n",
       "      <th>s2</th>\n",
       "      <th>...</th>\n",
       "      <th>pt</th>\n",
       "      <th>game_score</th>\n",
       "      <th>score</th>\n",
       "      <th>score_a</th>\n",
       "      <th>score_p</th>\n",
       "      <th>score_d</th>\n",
       "      <th>score_s</th>\n",
       "      <th>programa</th>\n",
       "      <th>sol1</th>\n",
       "      <th>estado</th>\n",
       "    </tr>\n",
       "  </thead>\n",
       "  <tbody>\n",
       "    <tr>\n",
       "      <th>0</th>\n",
       "      <td>179</td>\n",
       "      <td>26.500.862</td>\n",
       "      <td>1</td>\n",
       "      <td>1</td>\n",
       "      <td>[3 3 ] [1 1 2 2 2 ]</td>\n",
       "      <td>7</td>\n",
       "      <td>167.471.077</td>\n",
       "      <td>3</td>\n",
       "      <td>10</td>\n",
       "      <td>[2 3 3 3 3 ] [1 1 1 1 2 ]</td>\n",
       "      <td>...</td>\n",
       "      <td>43</td>\n",
       "      <td>1.874.461.038</td>\n",
       "      <td>8</td>\n",
       "      <td>5</td>\n",
       "      <td>3</td>\n",
       "      <td>3</td>\n",
       "      <td>2</td>\n",
       "      <td>INGENIERIA EN COMPUTACION E INFORMATICA</td>\n",
       "      <td>5.9</td>\n",
       "      <td>A</td>\n",
       "    </tr>\n",
       "    <tr>\n",
       "      <th>1</th>\n",
       "      <td>195</td>\n",
       "      <td>626.875.896</td>\n",
       "      <td>1</td>\n",
       "      <td>1</td>\n",
       "      <td>[3 3 3 ] [2 1 1 2 ]</td>\n",
       "      <td>7</td>\n",
       "      <td>1.405.363.876</td>\n",
       "      <td>9</td>\n",
       "      <td>8</td>\n",
       "      <td>[2 3 3 3 3 3 ] [1 1 1 1 ]</td>\n",
       "      <td>...</td>\n",
       "      <td>25</td>\n",
       "      <td>1.526.019.867</td>\n",
       "      <td>6</td>\n",
       "      <td>4</td>\n",
       "      <td>2</td>\n",
       "      <td>3</td>\n",
       "      <td>2</td>\n",
       "      <td>INGENIERIA CIVIL INDUSTRIAL</td>\n",
       "      <td>6.7</td>\n",
       "      <td>A</td>\n",
       "    </tr>\n",
       "    <tr>\n",
       "      <th>2</th>\n",
       "      <td>218</td>\n",
       "      <td>4.895.157.267</td>\n",
       "      <td>2</td>\n",
       "      <td>8</td>\n",
       "      <td>[3 3 3 0 0 3 3 ] []</td>\n",
       "      <td>7</td>\n",
       "      <td>1.148.441.373</td>\n",
       "      <td>4</td>\n",
       "      <td>36</td>\n",
       "      <td>[2 3 3 3 3 3 0 ] [1 1 1 ]</td>\n",
       "      <td>...</td>\n",
       "      <td>141</td>\n",
       "      <td>2.049.771.962</td>\n",
       "      <td>7</td>\n",
       "      <td>5</td>\n",
       "      <td>2</td>\n",
       "      <td>2</td>\n",
       "      <td>3</td>\n",
       "      <td>INGENIERIA EN COMPUTACION E INFORMATICA</td>\n",
       "      <td>5.0</td>\n",
       "      <td>A</td>\n",
       "    </tr>\n",
       "    <tr>\n",
       "      <th>3</th>\n",
       "      <td>316</td>\n",
       "      <td>444.682.093</td>\n",
       "      <td>1</td>\n",
       "      <td>16</td>\n",
       "      <td>[3 1 3 3 3 0 3 0 0 ] []</td>\n",
       "      <td>9</td>\n",
       "      <td>507.365.574</td>\n",
       "      <td>2</td>\n",
       "      <td>14</td>\n",
       "      <td>[2 3 3 3 3 3 ] [1 1 1 1 ]</td>\n",
       "      <td>...</td>\n",
       "      <td>65</td>\n",
       "      <td>1.498.582.485</td>\n",
       "      <td>7</td>\n",
       "      <td>4</td>\n",
       "      <td>3</td>\n",
       "      <td>2</td>\n",
       "      <td>3</td>\n",
       "      <td>INGENIERIA EN COMPUTACION E INFORMATICA</td>\n",
       "      <td>6.9</td>\n",
       "      <td>A</td>\n",
       "    </tr>\n",
       "    <tr>\n",
       "      <th>4</th>\n",
       "      <td>330</td>\n",
       "      <td>2.581.874.334</td>\n",
       "      <td>1</td>\n",
       "      <td>2</td>\n",
       "      <td>[0 3 3 3 ] [2 2 1 ]</td>\n",
       "      <td>7</td>\n",
       "      <td>3.928.607.833</td>\n",
       "      <td>2</td>\n",
       "      <td>5</td>\n",
       "      <td>[2 3 3 3 3 ] [1 1 1 1 2 ]</td>\n",
       "      <td>...</td>\n",
       "      <td>26</td>\n",
       "      <td>9.693.081.204</td>\n",
       "      <td>5</td>\n",
       "      <td>3</td>\n",
       "      <td>2</td>\n",
       "      <td>2</td>\n",
       "      <td>1</td>\n",
       "      <td>INGENIERIA CIVIL INDUSTRIAL</td>\n",
       "      <td>5.8</td>\n",
       "      <td>A</td>\n",
       "    </tr>\n",
       "  </tbody>\n",
       "</table>\n",
       "<p>5 rows × 55 columns</p>\n",
       "</div>"
      ],
      "text/plain": [
       "   rut             t1  r1  p1                       s1  l1             t2  r2  \\\n",
       "0  179     26.500.862   1   1      [3 3 ] [1 1 2 2 2 ]   7    167.471.077   3   \n",
       "1  195    626.875.896   1   1      [3 3 3 ] [2 1 1 2 ]   7  1.405.363.876   9   \n",
       "2  218  4.895.157.267   2   8      [3 3 3 0 0 3 3 ] []   7  1.148.441.373   4   \n",
       "3  316    444.682.093   1  16  [3 1 3 3 3 0 3 0 0 ] []   9    507.365.574   2   \n",
       "4  330  2.581.874.334   1   2      [0 3 3 3 ] [2 2 1 ]   7  3.928.607.833   2   \n",
       "\n",
       "   p2                         s2  ...   pt     game_score  score  score_a  \\\n",
       "0  10  [2 3 3 3 3 ] [1 1 1 1 2 ]  ...   43  1.874.461.038      8        5   \n",
       "1   8  [2 3 3 3 3 3 ] [1 1 1 1 ]  ...   25  1.526.019.867      6        4   \n",
       "2  36  [2 3 3 3 3 3 0 ] [1 1 1 ]  ...  141  2.049.771.962      7        5   \n",
       "3  14  [2 3 3 3 3 3 ] [1 1 1 1 ]  ...   65  1.498.582.485      7        4   \n",
       "4   5  [2 3 3 3 3 ] [1 1 1 1 2 ]  ...   26  9.693.081.204      5        3   \n",
       "\n",
       "  score_p  score_d score_s                                 programa  sol1  \\\n",
       "0       3        3       2  INGENIERIA EN COMPUTACION E INFORMATICA   5.9   \n",
       "1       2        3       2              INGENIERIA CIVIL INDUSTRIAL   6.7   \n",
       "2       2        2       3  INGENIERIA EN COMPUTACION E INFORMATICA   5.0   \n",
       "3       3        2       3  INGENIERIA EN COMPUTACION E INFORMATICA   6.9   \n",
       "4       2        2       1              INGENIERIA CIVIL INDUSTRIAL   5.8   \n",
       "\n",
       "  estado  \n",
       "0      A  \n",
       "1      A  \n",
       "2      A  \n",
       "3      A  \n",
       "4      A  \n",
       "\n",
       "[5 rows x 55 columns]"
      ]
     },
     "execution_count": 52,
     "metadata": {},
     "output_type": "execute_result"
    }
   ],
   "source": [
    "# Read and preview data\n",
    "student = pd.read_csv('../resources/dataset_unab_P1.csv')\n",
    "# df = df.rename({\n",
    "#     't1':'Total Nivel 1',\n",
    "#     'r1':'Cantidad de Reinicios Nivel 1',\n",
    "#     'p1':'Cantidad de Pruebas Nivel 1',\n",
    "#     's1':'Solución Nivel 1',\n",
    "#     'l1':'Largo de la Solución',\n",
    "#     't2':'Tiempo Total Nivel 2',\n",
    "#     'r2':'Cantidad de reinicios Nivel 2',\n",
    "#     'p2':'Cantidad de Pruebas del Nivel 2',\n",
    "#     's2':'Solución generada nivel 2',\n",
    "#     }, axis='columns')\n",
    "student.head()"
   ]
  },
  {
   "cell_type": "code",
   "execution_count": 53,
   "metadata": {},
   "outputs": [
    {
     "name": "stdout",
     "output_type": "stream",
     "text": [
      "<class 'pandas.core.frame.DataFrame'>\n",
      "RangeIndex: 47 entries, 0 to 46\n",
      "Data columns (total 55 columns):\n",
      " #   Column      Non-Null Count  Dtype  \n",
      "---  ------      --------------  -----  \n",
      " 0   rut         47 non-null     int64  \n",
      " 1   t1          47 non-null     object \n",
      " 2   r1          47 non-null     int64  \n",
      " 3   p1          47 non-null     int64  \n",
      " 4   s1          47 non-null     object \n",
      " 5   l1          47 non-null     int64  \n",
      " 6   t2          47 non-null     object \n",
      " 7   r2          47 non-null     int64  \n",
      " 8   p2          47 non-null     int64  \n",
      " 9   s2          47 non-null     object \n",
      " 10  l2          47 non-null     int64  \n",
      " 11  t3          47 non-null     object \n",
      " 12  r3          47 non-null     int64  \n",
      " 13  p3          47 non-null     int64  \n",
      " 14  s3          47 non-null     object \n",
      " 15  l3          47 non-null     int64  \n",
      " 16  t4          47 non-null     object \n",
      " 17  r4          47 non-null     int64  \n",
      " 18  p4          47 non-null     int64  \n",
      " 19  s4          47 non-null     object \n",
      " 20  l4          47 non-null     int64  \n",
      " 21  t5          47 non-null     object \n",
      " 22  r5          47 non-null     int64  \n",
      " 23  p5          47 non-null     int64  \n",
      " 24  s5          47 non-null     object \n",
      " 25  l5          47 non-null     int64  \n",
      " 26  t6          47 non-null     object \n",
      " 27  r6          47 non-null     int64  \n",
      " 28  p6          47 non-null     int64  \n",
      " 29  s6          47 non-null     object \n",
      " 30  l6          47 non-null     int64  \n",
      " 31  op1         47 non-null     int64  \n",
      " 32  op2         47 non-null     int64  \n",
      " 33  op3         47 non-null     int64  \n",
      " 34  op4         47 non-null     int64  \n",
      " 35  op5         47 non-null     int64  \n",
      " 36  op6         47 non-null     int64  \n",
      " 37  sv1         47 non-null     int64  \n",
      " 38  sv2         47 non-null     int64  \n",
      " 39  sv3         47 non-null     int64  \n",
      " 40  sv4         47 non-null     int64  \n",
      " 41  sv5         47 non-null     int64  \n",
      " 42  sv6         47 non-null     int64  \n",
      " 43  lt          47 non-null     int64  \n",
      " 44  tt          47 non-null     object \n",
      " 45  pt          47 non-null     int64  \n",
      " 46  game_score  47 non-null     object \n",
      " 47  score       47 non-null     int64  \n",
      " 48  score_a     47 non-null     int64  \n",
      " 49  score_p     47 non-null     int64  \n",
      " 50  score_d     47 non-null     int64  \n",
      " 51  score_s     47 non-null     int64  \n",
      " 52  programa    47 non-null     object \n",
      " 53  sol1        47 non-null     float64\n",
      " 54  estado      47 non-null     object \n",
      "dtypes: float64(1), int64(38), object(16)\n",
      "memory usage: 20.3+ KB\n"
     ]
    }
   ],
   "source": [
    "student.info()\n"
   ]
  },
  {
   "cell_type": "code",
   "execution_count": 54,
   "metadata": {},
   "outputs": [
    {
     "data": {
      "text/plain": [
       "Index(['rut', 't1', 'r1', 'p1', 's1', 'l1', 't2', 'r2', 'p2', 's2', 'l2', 't3',\n",
       "       'r3', 'p3', 's3', 'l3', 't4', 'r4', 'p4', 's4', 'l4', 't5', 'r5', 'p5',\n",
       "       's5', 'l5', 't6', 'r6', 'p6', 's6', 'l6', 'op1', 'op2', 'op3', 'op4',\n",
       "       'op5', 'op6', 'sv1', 'sv2', 'sv3', 'sv4', 'sv5', 'sv6', 'lt', 'tt',\n",
       "       'pt', 'game_score', 'score', 'score_a', 'score_p', 'score_d', 'score_s',\n",
       "       'programa', 'sol1', 'estado'],\n",
       "      dtype='object')"
      ]
     },
     "execution_count": 54,
     "metadata": {},
     "output_type": "execute_result"
    }
   ],
   "source": [
    "student.columns"
   ]
  },
  {
   "cell_type": "code",
   "execution_count": 55,
   "metadata": {},
   "outputs": [
    {
     "data": {
      "text/plain": [
       "rut           0\n",
       "t1            0\n",
       "r1            0\n",
       "p1            0\n",
       "s1            0\n",
       "l1            0\n",
       "t2            0\n",
       "r2            0\n",
       "p2            0\n",
       "s2            0\n",
       "l2            0\n",
       "t3            0\n",
       "r3            0\n",
       "p3            0\n",
       "s3            0\n",
       "l3            0\n",
       "t4            0\n",
       "r4            0\n",
       "p4            0\n",
       "s4            0\n",
       "l4            0\n",
       "t5            0\n",
       "r5            0\n",
       "p5            0\n",
       "s5            0\n",
       "l5            0\n",
       "t6            0\n",
       "r6            0\n",
       "p6            0\n",
       "s6            0\n",
       "l6            0\n",
       "op1           0\n",
       "op2           0\n",
       "op3           0\n",
       "op4           0\n",
       "op5           0\n",
       "op6           0\n",
       "sv1           0\n",
       "sv2           0\n",
       "sv3           0\n",
       "sv4           0\n",
       "sv5           0\n",
       "sv6           0\n",
       "lt            0\n",
       "tt            0\n",
       "pt            0\n",
       "game_score    0\n",
       "score         0\n",
       "score_a       0\n",
       "score_p       0\n",
       "score_d       0\n",
       "score_s       0\n",
       "programa      0\n",
       "sol1          0\n",
       "estado        0\n",
       "dtype: int64"
      ]
     },
     "execution_count": 55,
     "metadata": {},
     "output_type": "execute_result"
    }
   ],
   "source": [
    "#checking if there is any column which contains null values\n",
    "student.isna().sum()"
   ]
  },
  {
   "cell_type": "code",
   "execution_count": 56,
   "metadata": {},
   "outputs": [
    {
     "data": {
      "text/plain": [
       "t1            47\n",
       "s1            38\n",
       "t2            47\n",
       "s2            16\n",
       "t3            47\n",
       "s3            32\n",
       "t4            47\n",
       "s4            25\n",
       "t5            47\n",
       "s5            27\n",
       "t6            47\n",
       "s6            34\n",
       "tt            47\n",
       "game_score    47\n",
       "programa       5\n",
       "estado         2\n",
       "dtype: int64"
      ]
     },
     "execution_count": 56,
     "metadata": {},
     "output_type": "execute_result"
    }
   ],
   "source": [
    "student.select_dtypes('object').nunique()"
   ]
  },
  {
   "cell_type": "code",
   "execution_count": 57,
   "metadata": {},
   "outputs": [
    {
     "name": "stdout",
     "output_type": "stream",
     "text": [
      "programa  ['INGENIERIA EN COMPUTACION E INFORMATICA' 'INGENIERIA CIVIL INDUSTRIAL'\n",
      " 'INGENIERIA CIVIL INFORMATICA' 'BACHILLERATO EN CIENCIAS'\n",
      " 'INGENIERIA INDUSTRIAL']\n",
      "estado:  ['A' 'R']\n",
      "game_score:  ['1.874.461.038' '1.526.019.867' '2.049.771.962' '1.498.582.485'\n",
      " '9.693.081.204' '1.684.331.613' '2.484.673.692' '1.771.366.176'\n",
      " '1.744.534.334' '2.234.538.878' '169.975.717' '1.382.697.083'\n",
      " '2.163.294.689' '1.651.923.078' '1.837.074.224' '1.573.325.139'\n",
      " '3.869.618.936' '1.216.731.512' '1.596.391.043' '2.167.759.692'\n",
      " '1.098.797.548' '1.933.030.169' '1.507.972.337' '128.064.068'\n",
      " '2.324.487.272' '1.374.539.278' '3.288.088.712' '2.618.568.187'\n",
      " '1.578.127.218' '2.052.113.795' '4.619.991.073' '1.268.842.576'\n",
      " '1.774.143.651' '1.381.356.521' '1.652.244.621' '2.016.702.781'\n",
      " '2.750.980.789' '1.636.468.565' '1.401.018.797' '2.501.291.017'\n",
      " '2.273.063.887' '157.214.572' '1.169.242.368' '2.032.284.487'\n",
      " '2.407.674.442' '164.685.076' '1.310.270.026']\n",
      "P1:  [  1   8  16   2  10 130  41   7  11  12  90   6   9  15  31   5  32  33\n",
      "   4  22  14  24  17  27]\n",
      "score:  [ 8  6  7  5  3 10  4  9]\n"
     ]
    }
   ],
   "source": [
    "print(\"programa \",end=\" \")\n",
    "print(student['programa'].unique())\n",
    "print(\"estado: \",end=\" \")\n",
    "print(student['estado'].unique())\n",
    "print(\"game_score: \",end=\" \")\n",
    "print(student['game_score'].unique())\n",
    "print(\"P1: \",end=\" \")\n",
    "print(student['p1'].unique())\n",
    "print(\"score: \",end=\" \")\n",
    "print(student['score'].unique())"
   ]
  },
  {
   "cell_type": "code",
   "execution_count": 58,
   "metadata": {},
   "outputs": [
    {
     "data": {
      "text/plain": [
       "A    42\n",
       "R     5\n",
       "Name: estado, dtype: int64"
      ]
     },
     "execution_count": 58,
     "metadata": {},
     "output_type": "execute_result"
    }
   ],
   "source": [
    "student['estado'].value_counts()"
   ]
  },
  {
   "cell_type": "code",
   "execution_count": 59,
   "metadata": {},
   "outputs": [
    {
     "data": {
      "text/plain": [
       "Text(0.5, 1.0, 'Percentage of students Passed/Failed')"
      ]
     },
     "execution_count": 59,
     "metadata": {},
     "output_type": "execute_result"
    },
    {
     "data": {
      "image/png": "[encoded data removed]",
      "text/plain": [
       "<Figure size 640x480 with 1 Axes>"
      ]
     },
     "metadata": {},
     "output_type": "display_data"
    }
   ],
   "source": [
    "plt.pie(student['estado'].value_counts(),labels=['A','R'],autopct='%1.1f%%')\n",
    "plt.title('Porcentaje de estudiantes Aprobados/Reprobados')"
   ]
  },
  {
   "cell_type": "code",
   "execution_count": 60,
   "metadata": {},
   "outputs": [
    {
     "data": {
      "text/plain": [
       "INGENIERIA CIVIL INDUSTRIAL                24\n",
       "INGENIERIA EN COMPUTACION E INFORMATICA    14\n",
       "INGENIERIA CIVIL INFORMATICA                7\n",
       "BACHILLERATO EN CIENCIAS                    1\n",
       "INGENIERIA INDUSTRIAL                       1\n",
       "Name: programa, dtype: int64"
      ]
     },
     "execution_count": 60,
     "metadata": {},
     "output_type": "execute_result"
    }
   ],
   "source": [
    "student['programa'].value_counts()"
   ]
  },
  {
   "cell_type": "code",
   "execution_count": 61,
   "metadata": {},
   "outputs": [
    {
     "name": "stdout",
     "output_type": "stream",
     "text": [
      "Percentage of ING. CIVIL INDUSTRIAL students passed: 95.83%\n",
      "Percentage of ING. EN COMPUTACION E INFORMATICA students passed: 85.71%\n",
      "Percentage of ING. CIVIL INFORMATICA students passed: 85.71%\n",
      "Percentage of BACHILLERATO EN CIENCIAS students passed: 100.00%\n",
      "Percentage of INGENIERIA INDUSTRIAL students passed: 0.00%\n"
     ]
    }
   ],
   "source": [
    "#to find out the percentage of female students passed\n",
    "print(\"Percentage of ING. CIVIL INDUSTRIAL students passed: {0:.2f}%\"\n",
    "    .format((student[(student['programa']=='INGENIERIA CIVIL INDUSTRIAL') & \n",
    "    (student['estado']=='A')].shape[0]/student[student['programa']=='INGENIERIA CIVIL INDUSTRIAL'].shape[0])*100))\n",
    "\n",
    "print(\"Percentage of ING. EN COMPUTACION E INFORMATICA students passed: {0:.2f}%\"\n",
    "    .format((student[(student['programa']=='INGENIERIA EN COMPUTACION E INFORMATICA') & \n",
    "    (student['estado']=='A')].shape[0]/student[student['programa']=='INGENIERIA EN COMPUTACION E INFORMATICA'].shape[0])*100))\n",
    "\n",
    "print(\"Percentage of ING. CIVIL INFORMATICA students passed: {0:.2f}%\"\n",
    "    .format((student[(student['programa']=='INGENIERIA CIVIL INFORMATICA') & \n",
    "    (student['estado']=='A')].shape[0]/student[student['programa']=='INGENIERIA CIVIL INFORMATICA'].shape[0])*100))\n",
    "\n",
    "print(\"Percentage of BACHILLERATO EN CIENCIAS students passed: {0:.2f}%\"\n",
    "    .format((student[(student['programa']=='BACHILLERATO EN CIENCIAS') & \n",
    "    (student['estado']=='A')].shape[0]/student[student['programa']=='BACHILLERATO EN CIENCIAS'].shape[0])*100))\n",
    "\n",
    "print(\"Percentage of INGENIERIA INDUSTRIAL students passed: {0:.2f}%\"\n",
    "    .format((student[(student['programa']=='INGENIERIA INDUSTRIAL') & \n",
    "    (student['estado']=='A')].shape[0]/student[student['programa']=='INGENIERIA INDUSTRIAL'].shape[0])*100))"
   ]
  },
  {
   "cell_type": "code",
   "execution_count": 62,
   "metadata": {},
   "outputs": [
    {
     "data": {
      "text/plain": [
       "Text(0, 0.5, 'Number of students')"
      ]
     },
     "execution_count": 62,
     "metadata": {},
     "output_type": "execute_result"
    },
    {
     "data": {
      "image/png": "[encoded data removed]",
      "text/plain": [
       "<Figure size 640x480 with 1 Axes>"
      ]
     },
     "metadata": {},
     "output_type": "display_data"
    }
   ],
   "source": [
    "sns.countplot(x=student['estado'], hue=student['programa'])\n",
    "plt.ylabel('Numero de estudiantes A/R por carrera')"
   ]
  }
 ],
 "metadata": {
  "kernelspec": {
   "display_name": "Python 3",
   "language": "python",
   "name": "python3"
  },
  "language_info": {
   "codemirror_mode": {
    "name": "ipython",
    "version": 3
   },
   "file_extension": ".py",
   "mimetype": "text/x-python",
   "name": "python",
   "nbconvert_exporter": "python",
   "pygments_lexer": "ipython3",
   "version": "3.11.2"
  },
  "orig_nbformat": 4,
  "vscode": {
   "interpreter": {
    "hash": "35d5e62c5c9c7d9e4b8fa4bb7690d00b3a7b7d63db467eeaf2951c2cfdc993e3"
   }
  }
 },
 "nbformat": 4,
 "nbformat_minor": 2
}
