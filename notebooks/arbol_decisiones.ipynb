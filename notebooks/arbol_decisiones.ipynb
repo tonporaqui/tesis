{
 "cells": [
  {
   "cell_type": "code",
   "execution_count": 2,
   "metadata": {},
   "outputs": [
    {
     "name": "stdout",
     "output_type": "stream",
     "text": [
      "../resources/dataset_a_2021.csv\n",
      "../resources/dataset_a_2021v1.xlsx\n",
      "../resources/dataset_a_2021v2.xlsx\n",
      "../resources/dataset_a_2021v3.xlsx\n",
      "../resources/dataset_a_2021v4.xlsx\n",
      "../resources/dataset_a_2021v4_col0DExitoSol1.xlsx\n",
      "../resources/dataset_unab_ORIGINAL SIN P1.csv\n",
      "../resources/dataset_unab_P1.csv\n"
     ]
    }
   ],
   "source": [
    "import pandas as pd\n",
    "from sklearn.tree import DecisionTreeClassifier\n",
    "from sklearn.model_selection import train_test_split\n",
    "from sklearn.metrics import accuracy_score\n",
    "from sklearn.preprocessing import LabelEncoder\n",
    "import matplotlib.pyplot as plt\n",
    "\n",
    "\n",
    "from sys import path # modificar la lista de rutas de búsqueda que el intérprete de Python utiliza para buscar módulos y paquetes.\n",
    "import os # interactua con el sistema operativo\n",
    "for dirname, _, filenames in os.walk('../resources/'):\n",
    "    for filename in filenames:\n",
    "        print(os.path.join(dirname, filename))\n",
    "path.append(os.path.realpath('../'))\n",
    "\n",
    "# Cargar los datos desde un archivo Excel\n",
    "datos = pd.read_excel(open('../resources/dataset_a_2021v4_col0DExitoSol1.xlsx','rb'))"
   ]
  },
  {
   "cell_type": "code",
   "execution_count": 3,
   "metadata": {},
   "outputs": [],
   "source": [
    "# Dividir los datos en características (X) y etiquetas (y)\n",
    "X = datos.iloc[:, :-1]\n",
    "y = datos.iloc[:, -1]\n",
    "\n",
    "# Convertir las etiquetas continuas a etiquetas categóricas\n",
    "label_encoder = LabelEncoder()\n",
    "y = label_encoder.fit_transform(y)\n",
    "\n",
    "\n",
    "# Dividir los datos en conjuntos de entrenamiento y prueba\n",
    "X_train, X_test, y_train, y_test = train_test_split(X, y, test_size=0.2, random_state=42)\n",
    "\n",
    "# Crear el clasificador del árbol de decisiones\n",
    "clf = DecisionTreeClassifier()"
   ]
  },
  {
   "cell_type": "code",
   "execution_count": 5,
   "metadata": {},
   "outputs": [
    {
     "name": "stdout",
     "output_type": "stream",
     "text": [
      "Precisión: 0.11904761904761904\n",
      "% Precisión: 11.90%\n"
     ]
    }
   ],
   "source": [
    "# Entrenar el clasificador utilizando los datos de entrenamiento\n",
    "clf.fit(X_train, y_train)\n",
    "\n",
    "# Predecir las etiquetas para los datos de prueba\n",
    "y_pred = clf.predict(X_test)\n",
    "\n",
    "# Calcular la precisión del modelo\n",
    "precision = accuracy_score(y_test, y_pred)\n",
    "precision_porcentaje = precision * 100\n",
    "print(\"Precisión:\", precision)\n",
    "print(\"% Precisión: {:.2f}%\".format(precision_porcentaje))\n"
   ]
  }
 ],
 "metadata": {
  "kernelspec": {
   "display_name": "Python 3",
   "language": "python",
   "name": "python3"
  },
  "language_info": {
   "codemirror_mode": {
    "name": "ipython",
    "version": 3
   },
   "file_extension": ".py",
   "mimetype": "text/x-python",
   "name": "python",
   "nbconvert_exporter": "python",
   "pygments_lexer": "ipython3",
   "version": "3.10.9"
  },
  "orig_nbformat": 4
 },
 "nbformat": 4,
 "nbformat_minor": 2
}
