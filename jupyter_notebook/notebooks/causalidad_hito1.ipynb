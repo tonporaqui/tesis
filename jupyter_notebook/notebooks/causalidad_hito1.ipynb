{
 "cells": [
  {
   "cell_type": "code",
   "execution_count": 16,
   "metadata": {},
   "outputs": [
    {
     "name": "stdout",
     "output_type": "stream",
     "text": [
      "../resources/allColProSol.xlsx\n",
      "../resources/dataset_a_2021.csv\n",
      "../resources/dataset_a_2021c2.csv\n",
      "../resources/dataset_a_2021v1.xlsx\n",
      "../resources/dataset_unab_ORIGINAL SIN P1.csv\n",
      "../resources/dataset_unab_P1.csv\n",
      "../resources/exitoFallidoEnviosProgramaSol.xlsx\n",
      "../resources/exitoFallidoProgramaSol.xlsx\n",
      "../resources/exitosoFallidosEnviosAllColProSol.xlsx\n",
      "../resources/exitosoFallidosEnviosAllColSol.xlsx\n",
      "../resources/exitososFallidosEnviosSol.xlsx\n",
      "../resources/Hito12sinColCeroExitosoFallidosSol.xlsx\n",
      "../resources/sinColCeroExitosoFallidosEnviosSol.xlsx\n",
      "../resources/sinColCeroExitosoFallidosSol.xlsx\n",
      "../resources/v2_hitosExitoFalloColESol1.csv\n",
      "../resources/v2_hitosExitoFalloColESol1Prograna.csv\n",
      "../resources/v2_hitosExitoFalloSol1Programa.csv\n",
      "../resources/causalidad\\causalidad_e29.dot\n",
      "../resources/causalidad\\graph_causal_model_e29.png\n",
      "../resources/causalidad\\graph_causal_model_e29_with_unobserved.png\n",
      "../resources/causalidad\\graph_causal_model_e3.png\n",
      "../resources/causalidad\\graph_causal_model_e35.png\n",
      "../resources/causalidad\\graph_causal_model_e35_with_unobserved.png\n",
      "../resources/causalidad\\graph_causal_model_e3_2.png\n",
      "../resources/causalidad\\graph_causal_model_e3_full.png\n",
      "../resources/causalidad\\graph_causal_model_e3_full_with_unobserved.png\n",
      "../resources/causalidad\\graph_causal_model_e3_with_unobserved.png\n",
      "../resources/causalidad\\graph_causal_model_e42.png\n",
      "../resources/causalidad\\graph_causal_model_e42_with_unobserved.png\n",
      "../resources/causalidad\\graph_causal_model_hito1_with_unobserved.png\n"
     ]
    }
   ],
   "source": [
    "import dowhy\n",
    "from dowhy import CausalModel\n",
    "import matplotlib.pyplot as plt\n",
    "from sklearn.ensemble import RandomForestRegressor\n",
    "from IPython.display import Image, display\n",
    "\n",
    "import pandas as pd  # data processing, CSV file I/O (e.g. pd.read_csv)\n",
    "import warnings\n",
    "from sys import path\n",
    "import os\n",
    "\n",
    "for dirname, _, filenames in os.walk(\"../resources/\"):\n",
    "    for filename in filenames:\n",
    "        print(os.path.join(dirname, filename))\n",
    "path.append(os.path.realpath(\"../\"))\n",
    "\n",
    "from custom import functions\n",
    "\n",
    "warnings.filterwarnings(\"ignore\")"
   ]
  },
  {
   "cell_type": "code",
   "execution_count": 17,
   "metadata": {},
   "outputs": [],
   "source": [
    "# Read and preview data\n",
    "df = pd.read_csv(\n",
    "    \"../resources/v2_hitosExitoFalloColESol1.csv\", delimiter=\";\", skipinitialspace=True\n",
    ")"
   ]
  },
  {
   "cell_type": "code",
   "execution_count": 18,
   "metadata": {},
   "outputs": [
    {
     "name": "stdout",
     "output_type": "stream",
     "text": [
      "Index(['hito1', 'hito2', 'exitosos', 'fallidos', 'e0', 'e1', 'e2', 'e3', 'e4',\n",
      "       'e5', 'e6', 'e7', 'e8', 'e9', 'e10', 'e11', 'e12', 'e13', 'e14', 'e15',\n",
      "       'e16', 'e17', 'e18', 'e19', 'e20', 'e21', 'e22', 'e23', 'e24', 'e25',\n",
      "       'e26', 'e27', 'e28', 'e29', 'e30', 'e31', 'e32', 'e33', 'e34', 'e35',\n",
      "       'e36', 'e37', 'e38', 'e39', 'e40', 'e41', 'e42', 'e43', 'e44', 'e45',\n",
      "       'e46', 'e47', 'e48', 'e49', 'e50', 'e51', 'e52', 'sol1', 'aprobado'],\n",
      "      dtype='object')\n"
     ]
    }
   ],
   "source": [
    "# creando columna aprobado y con la funcion set_in_aprobado_nota poblamos la nueva columna.\n",
    "df[\"aprobado\"] = df.apply(lambda x: functions.set_in_aprobado_nota(x[\"sol1\"]), axis=1)\n",
    "# revisamos la existencia de la nueva columna.\n",
    "print(df.columns)"
   ]
  },
  {
   "cell_type": "code",
   "execution_count": 19,
   "metadata": {},
   "outputs": [],
   "source": [
    "# Paso 1: Modelar un problema causal\n",
    "model = CausalModel(\n",
    "    data=df,\n",
    "    treatment=\"hito1\",  # Variable tratada (exposición)\n",
    "    outcome=\"aprobado\",  # Variable de resultado\n",
    "    common_causes=[\n",
    "        \"fallidos\",\n",
    "        \"exitosos\",\n",
    "        \"e29\",\n",
    "        \"e35\",\n",
    "        \"e3\",\n",
    "        \"e42\",\n",
    "    ],  # Variables de causa común\n",
    ")\n",
    "# Visualizar el modelo causal con la variable de causa común no observada\n",
    "model.view_model(\n",
    "    layout=\"gml\",\n",
    "    file_name=\"../resources/causalidad/graph_causal_model_hito1_with_unobserved\",\n",
    ")"
   ]
  },
  {
   "cell_type": "code",
   "execution_count": 20,
   "metadata": {},
   "outputs": [],
   "source": [
    "# Paso 2: Identificar el estimando objetivo bajo el modelo\n",
    "identified_estimand = model.identify_effect(proceed_when_unidentifiable=True)"
   ]
  },
  {
   "cell_type": "code",
   "execution_count": 23,
   "metadata": {},
   "outputs": [
    {
     "name": "stdout",
     "output_type": "stream",
     "text": [
      "*** Causal Estimate ***\n",
      "\n",
      "## Identified estimand\n",
      "Estimand type: nonparametric-ate\n",
      "\n",
      "### Estimand : 1\n",
      "Estimand name: backdoor\n",
      "Estimand expression:\n",
      "   d                                                  \n",
      "────────(E[aprobado|e35,exitosos,e42,e29,e3,fallidos])\n",
      "d[hito₁]                                              \n",
      "Estimand assumption 1, Unconfoundedness: If U→{hito1} and U→aprobado then P(aprobado|hito1,e35,exitosos,e42,e29,e3,fallidos,U) = P(aprobado|hito1,e35,exitosos,e42,e29,e3,fallidos)\n",
      "\n",
      "## Realized estimand\n",
      "b: aprobado~hito1+e35+exitosos+e42+e29+e3+fallidos | \n",
      "Target units: ate\n",
      "\n",
      "## Estimate\n",
      "Mean value: 0.12910879594561164\n",
      "Effect estimates: [0.1291088 0.1291088 0.1291088 0.1291088 0.1291088 0.1291088 0.1291088\n",
      " 0.1291088 0.1291088 0.1291088 0.1291088 0.1291088 0.1291088 0.1291088\n",
      " 0.1291088 0.1291088 0.1291088 0.1291088 0.1291088 0.1291088 0.1291088\n",
      " 0.1291088 0.1291088 0.1291088 0.1291088 0.1291088 0.1291088 0.1291088\n",
      " 0.1291088 0.1291088 0.1291088 0.1291088 0.1291088 0.1291088 0.1291088\n",
      " 0.1291088 0.1291088 0.1291088 0.1291088 0.1291088 0.1291088 0.1291088\n",
      " 0.1291088 0.1291088 0.1291088 0.1291088 0.1291088 0.1291088 0.1291088\n",
      " 0.1291088 0.1291088 0.1291088 0.1291088 0.1291088 0.1291088 0.1291088\n",
      " 0.1291088 0.1291088 0.1291088 0.1291088 0.1291088 0.1291088 0.1291088\n",
      " 0.1291088 0.1291088 0.1291088 0.1291088 0.1291088 0.1291088 0.1291088\n",
      " 0.1291088 0.1291088 0.1291088 0.1291088 0.1291088 0.1291088 0.1291088\n",
      " 0.1291088 0.1291088 0.1291088 0.1291088 0.1291088 0.1291088 0.1291088\n",
      " 0.1291088 0.1291088 0.1291088 0.1291088 0.1291088 0.1291088 0.1291088\n",
      " 0.1291088 0.1291088 0.1291088 0.1291088 0.1291088 0.1291088 0.1291088\n",
      " 0.1291088 0.1291088 0.1291088 0.1291088 0.1291088 0.1291088 0.1291088\n",
      " 0.1291088 0.1291088 0.1291088 0.1291088 0.1291088 0.1291088 0.1291088\n",
      " 0.1291088 0.1291088 0.1291088 0.1291088 0.1291088 0.1291088 0.1291088\n",
      " 0.1291088 0.1291088 0.1291088 0.1291088 0.1291088 0.1291088 0.1291088\n",
      " 0.1291088 0.1291088 0.1291088 0.1291088 0.1291088 0.1291088 0.1291088\n",
      " 0.1291088 0.1291088 0.1291088 0.1291088 0.1291088 0.1291088 0.1291088\n",
      " 0.1291088 0.1291088 0.1291088 0.1291088 0.1291088 0.1291088 0.1291088\n",
      " 0.1291088 0.1291088 0.1291088 0.1291088 0.1291088 0.1291088 0.1291088\n",
      " 0.1291088 0.1291088 0.1291088 0.1291088 0.1291088 0.1291088 0.1291088\n",
      " 0.1291088 0.1291088 0.1291088 0.1291088 0.1291088 0.1291088 0.1291088\n",
      " 0.1291088 0.1291088 0.1291088 0.1291088 0.1291088 0.1291088 0.1291088\n",
      " 0.1291088 0.1291088 0.1291088 0.1291088 0.1291088 0.1291088 0.1291088\n",
      " 0.1291088 0.1291088 0.1291088 0.1291088 0.1291088 0.1291088 0.1291088\n",
      " 0.1291088 0.1291088 0.1291088 0.1291088 0.1291088 0.1291088 0.1291088\n",
      " 0.1291088 0.1291088 0.1291088 0.1291088 0.1291088 0.1291088 0.1291088\n",
      " 0.1291088 0.1291088 0.1291088 0.1291088 0.1291088 0.1291088 0.1291088\n",
      " 0.1291088 0.1291088 0.1291088 0.1291088 0.1291088 0.1291088 0.1291088\n",
      " 0.1291088 0.1291088 0.1291088 0.1291088 0.1291088 0.1291088 0.1291088\n",
      " 0.1291088 0.1291088 0.1291088 0.1291088 0.1291088 0.1291088 0.1291088\n",
      " 0.1291088 0.1291088 0.1291088 0.1291088 0.1291088 0.1291088 0.1291088\n",
      " 0.1291088 0.1291088 0.1291088 0.1291088 0.1291088 0.1291088 0.1291088\n",
      " 0.1291088 0.1291088 0.1291088 0.1291088 0.1291088 0.1291088 0.1291088\n",
      " 0.1291088 0.1291088 0.1291088 0.1291088 0.1291088 0.1291088 0.1291088\n",
      " 0.1291088 0.1291088 0.1291088 0.1291088 0.1291088 0.1291088 0.1291088\n",
      " 0.1291088 0.1291088 0.1291088 0.1291088 0.1291088 0.1291088 0.1291088\n",
      " 0.1291088 0.1291088 0.1291088 0.1291088 0.1291088 0.1291088 0.1291088\n",
      " 0.1291088 0.1291088 0.1291088 0.1291088 0.1291088 0.1291088 0.1291088\n",
      " 0.1291088 0.1291088 0.1291088 0.1291088 0.1291088 0.1291088 0.1291088\n",
      " 0.1291088 0.1291088 0.1291088 0.1291088 0.1291088 0.1291088 0.1291088\n",
      " 0.1291088 0.1291088 0.1291088 0.1291088 0.1291088 0.1291088 0.1291088\n",
      " 0.1291088 0.1291088 0.1291088 0.1291088 0.1291088 0.1291088 0.1291088\n",
      " 0.1291088 0.1291088 0.1291088 0.1291088 0.1291088 0.1291088 0.1291088\n",
      " 0.1291088 0.1291088 0.1291088 0.1291088 0.1291088 0.1291088 0.1291088\n",
      " 0.1291088 0.1291088 0.1291088 0.1291088 0.1291088 0.1291088 0.1291088\n",
      " 0.1291088 0.1291088 0.1291088 0.1291088 0.1291088 0.1291088 0.1291088\n",
      " 0.1291088 0.1291088 0.1291088 0.1291088 0.1291088 0.1291088 0.1291088\n",
      " 0.1291088 0.1291088 0.1291088 0.1291088 0.1291088 0.1291088 0.1291088\n",
      " 0.1291088 0.1291088 0.1291088 0.1291088 0.1291088 0.1291088 0.1291088\n",
      " 0.1291088 0.1291088 0.1291088 0.1291088 0.1291088 0.1291088 0.1291088\n",
      " 0.1291088 0.1291088 0.1291088 0.1291088 0.1291088 0.1291088 0.1291088\n",
      " 0.1291088 0.1291088 0.1291088 0.1291088 0.1291088 0.1291088 0.1291088\n",
      " 0.1291088 0.1291088 0.1291088 0.1291088 0.1291088 0.1291088 0.1291088\n",
      " 0.1291088 0.1291088 0.1291088 0.1291088 0.1291088 0.1291088 0.1291088\n",
      " 0.1291088 0.1291088 0.1291088 0.1291088 0.1291088 0.1291088 0.1291088\n",
      " 0.1291088 0.1291088 0.1291088 0.1291088 0.1291088 0.1291088 0.1291088\n",
      " 0.1291088 0.1291088 0.1291088 0.1291088 0.1291088 0.1291088 0.1291088\n",
      " 0.1291088 0.1291088 0.1291088 0.1291088 0.1291088 0.1291088 0.1291088\n",
      " 0.1291088 0.1291088 0.1291088 0.1291088 0.1291088 0.1291088 0.1291088\n",
      " 0.1291088 0.1291088 0.1291088 0.1291088 0.1291088 0.1291088 0.1291088\n",
      " 0.1291088 0.1291088 0.1291088 0.1291088 0.1291088 0.1291088 0.1291088\n",
      " 0.1291088 0.1291088 0.1291088 0.1291088 0.1291088 0.1291088 0.1291088\n",
      " 0.1291088 0.1291088 0.1291088 0.1291088 0.1291088 0.1291088 0.1291088\n",
      " 0.1291088 0.1291088 0.1291088 0.1291088 0.1291088 0.1291088 0.1291088\n",
      " 0.1291088 0.1291088 0.1291088 0.1291088 0.1291088 0.1291088 0.1291088\n",
      " 0.1291088 0.1291088 0.1291088 0.1291088 0.1291088 0.1291088 0.1291088\n",
      " 0.1291088 0.1291088 0.1291088 0.1291088 0.1291088 0.1291088 0.1291088\n",
      " 0.1291088 0.1291088 0.1291088 0.1291088 0.1291088 0.1291088 0.1291088\n",
      " 0.1291088 0.1291088 0.1291088 0.1291088 0.1291088 0.1291088 0.1291088\n",
      " 0.1291088 0.1291088 0.1291088 0.1291088 0.1291088 0.1291088 0.1291088\n",
      " 0.1291088 0.1291088 0.1291088 0.1291088 0.1291088 0.1291088 0.1291088\n",
      " 0.1291088 0.1291088 0.1291088 0.1291088 0.1291088 0.1291088 0.1291088\n",
      " 0.1291088 0.1291088 0.1291088 0.1291088 0.1291088 0.1291088 0.1291088\n",
      " 0.1291088 0.1291088 0.1291088 0.1291088 0.1291088 0.1291088 0.1291088\n",
      " 0.1291088 0.1291088 0.1291088 0.1291088 0.1291088 0.1291088 0.1291088\n",
      " 0.1291088 0.1291088 0.1291088 0.1291088 0.1291088 0.1291088 0.1291088\n",
      " 0.1291088 0.1291088 0.1291088 0.1291088 0.1291088 0.1291088 0.1291088\n",
      " 0.1291088 0.1291088 0.1291088 0.1291088 0.1291088 0.1291088 0.1291088\n",
      " 0.1291088 0.1291088 0.1291088 0.1291088 0.1291088 0.1291088 0.1291088\n",
      " 0.1291088 0.1291088 0.1291088 0.1291088 0.1291088 0.1291088 0.1291088\n",
      " 0.1291088 0.1291088 0.1291088 0.1291088 0.1291088 0.1291088 0.1291088\n",
      " 0.1291088 0.1291088 0.1291088 0.1291088 0.1291088 0.1291088 0.1291088\n",
      " 0.1291088 0.1291088 0.1291088 0.1291088 0.1291088 0.1291088 0.1291088\n",
      " 0.1291088 0.1291088 0.1291088 0.1291088 0.1291088 0.1291088 0.1291088\n",
      " 0.1291088 0.1291088 0.1291088 0.1291088 0.1291088 0.1291088 0.1291088\n",
      " 0.1291088 0.1291088 0.1291088 0.1291088 0.1291088 0.1291088 0.1291088\n",
      " 0.1291088 0.1291088 0.1291088 0.1291088 0.1291088 0.1291088 0.1291088\n",
      " 0.1291088 0.1291088 0.1291088 0.1291088 0.1291088 0.1291088 0.1291088\n",
      " 0.1291088 0.1291088 0.1291088 0.1291088 0.1291088 0.1291088 0.1291088\n",
      " 0.1291088 0.1291088 0.1291088 0.1291088 0.1291088 0.1291088 0.1291088\n",
      " 0.1291088 0.1291088 0.1291088 0.1291088 0.1291088 0.1291088 0.1291088\n",
      " 0.1291088 0.1291088 0.1291088 0.1291088 0.1291088 0.1291088 0.1291088\n",
      " 0.1291088 0.1291088 0.1291088 0.1291088 0.1291088 0.1291088 0.1291088\n",
      " 0.1291088 0.1291088 0.1291088 0.1291088 0.1291088 0.1291088 0.1291088\n",
      " 0.1291088 0.1291088 0.1291088 0.1291088 0.1291088 0.1291088 0.1291088\n",
      " 0.1291088 0.1291088 0.1291088 0.1291088 0.1291088 0.1291088 0.1291088\n",
      " 0.1291088 0.1291088 0.1291088 0.1291088 0.1291088 0.1291088 0.1291088\n",
      " 0.1291088 0.1291088 0.1291088 0.1291088 0.1291088 0.1291088 0.1291088\n",
      " 0.1291088 0.1291088 0.1291088 0.1291088 0.1291088 0.1291088 0.1291088\n",
      " 0.1291088 0.1291088 0.1291088 0.1291088 0.1291088 0.1291088 0.1291088\n",
      " 0.1291088 0.1291088 0.1291088 0.1291088 0.1291088 0.1291088 0.1291088\n",
      " 0.1291088 0.1291088 0.1291088 0.1291088 0.1291088 0.1291088 0.1291088\n",
      " 0.1291088 0.1291088 0.1291088 0.1291088 0.1291088 0.1291088 0.1291088\n",
      " 0.1291088 0.1291088 0.1291088 0.1291088 0.1291088 0.1291088 0.1291088\n",
      " 0.1291088 0.1291088 0.1291088 0.1291088 0.1291088 0.1291088 0.1291088\n",
      " 0.1291088 0.1291088 0.1291088 0.1291088 0.1291088 0.1291088 0.1291088\n",
      " 0.1291088 0.1291088 0.1291088 0.1291088 0.1291088 0.1291088 0.1291088\n",
      " 0.1291088 0.1291088 0.1291088 0.1291088 0.1291088 0.1291088 0.1291088\n",
      " 0.1291088 0.1291088 0.1291088 0.1291088 0.1291088 0.1291088 0.1291088\n",
      " 0.1291088 0.1291088 0.1291088 0.1291088 0.1291088 0.1291088 0.1291088\n",
      " 0.1291088 0.1291088 0.1291088 0.1291088 0.1291088 0.1291088 0.1291088\n",
      " 0.1291088 0.1291088 0.1291088 0.1291088 0.1291088 0.1291088 0.1291088\n",
      " 0.1291088 0.1291088 0.1291088 0.1291088 0.1291088 0.1291088 0.1291088\n",
      " 0.1291088 0.1291088 0.1291088 0.1291088 0.1291088 0.1291088 0.1291088\n",
      " 0.1291088 0.1291088 0.1291088 0.1291088 0.1291088 0.1291088 0.1291088\n",
      " 0.1291088 0.1291088 0.1291088 0.1291088 0.1291088 0.1291088 0.1291088\n",
      " 0.1291088 0.1291088 0.1291088 0.1291088 0.1291088 0.1291088]\n",
      "\n"
     ]
    }
   ],
   "source": [
    "# Paso 3: Estimar el efecto causal usando un método basado en árboles\n",
    "estimate = model.estimate_effect(\n",
    "    identified_estimand,\n",
    "    method_name=\"backdoor.econml.dml.DML\",\n",
    "    control_value=0,\n",
    "    treatment_value=1,\n",
    "    target_units=\"ate\",  # Average Treatment Effect\n",
    "    method_params={\n",
    "        \"init_params\": {\n",
    "            \"model_y\": RandomForestRegressor(),\n",
    "            \"model_t\": RandomForestRegressor(),\n",
    "            \"model_final\": RandomForestRegressor(\n",
    "                max_depth=10,\n",
    "                min_samples_split=10,\n",
    "                min_samples_leaf=5,\n",
    "                random_state=1502,\n",
    "                n_estimators=500,\n",
    "            ),\n",
    "            \"featurizer\": None,\n",
    "        },\n",
    "        \"fit_params\": {},\n",
    "    },\n",
    ")\n",
    "\n",
    "print(estimate)"
   ]
  },
  {
   "cell_type": "code",
   "execution_count": 24,
   "metadata": {},
   "outputs": [
    {
     "name": "stdout",
     "output_type": "stream",
     "text": [
      "Refute: Add a random common cause\n",
      "Estimated effect:0.12910879594561164\n",
      "New effect:-0.004278656195072509\n",
      "p value:0.3999999999999999\n",
      "\n"
     ]
    }
   ],
   "source": [
    "# Refutador de datos aleatorios\n",
    "refute1 = model.refute_estimate(\n",
    "    identified_estimand, estimate, method_name=\"random_common_cause\"\n",
    ")\n",
    "print(refute1)"
   ]
  },
  {
   "cell_type": "code",
   "execution_count": 25,
   "metadata": {},
   "outputs": [
    {
     "data": {
      "image/png": "[encoded data removed]",
      "text/plain": [
       "<Figure size 800x600 with 1 Axes>"
      ]
     },
     "metadata": {},
     "output_type": "display_data"
    }
   ],
   "source": [
    "# Refutador de causa común no observada\n",
    "refute2 = model.refute_estimate(\n",
    "    identified_estimand,\n",
    "    estimate,\n",
    "    method_name=\"add_unobserved_common_cause\",\n",
    "    confounders_effect_on_treatment=\"binary_flip\",\n",
    "    confounders_effect_on_outcome=\"linear\",\n",
    "    effect_strength_on_treatment=0.01,\n",
    "    effect_strength_on_outcome=0.02,\n",
    ")"
   ]
  },
  {
   "cell_type": "code",
   "execution_count": 26,
   "metadata": {},
   "outputs": [
    {
     "name": "stdout",
     "output_type": "stream",
     "text": [
      "Refute: Use a Placebo Treatment\n",
      "Estimated effect:0.12910879594561164\n",
      "New effect:0.013452121422523534\n",
      "p value:0.9\n",
      "\n"
     ]
    }
   ],
   "source": [
    "# Paso 4: Refutar el estimado obtenido\n",
    "refute3 = model.refute_estimate(\n",
    "    identified_estimand,\n",
    "    estimate,\n",
    "    method_name=\"placebo_treatment_refuter\",\n",
    "    placebo_type=\"permute\",\n",
    ")\n",
    "print(refute3)"
   ]
  }
 ],
 "metadata": {
  "kernelspec": {
   "display_name": "py3113",
   "language": "python",
   "name": "python3"
  },
  "language_info": {
   "codemirror_mode": {
    "name": "ipython",
    "version": 3
   },
   "file_extension": ".py",
   "mimetype": "text/x-python",
   "name": "python",
   "nbconvert_exporter": "python",
   "pygments_lexer": "ipython3",
   "version": "3.11.3"
  },
  "orig_nbformat": 4
 },
 "nbformat": 4,
 "nbformat_minor": 2
}
