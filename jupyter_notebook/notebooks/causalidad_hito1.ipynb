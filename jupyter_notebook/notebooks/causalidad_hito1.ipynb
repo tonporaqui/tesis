{
 "cells": [
  {
   "cell_type": "code",
   "execution_count": 1,
   "metadata": {},
   "outputs": [
    {
     "ename": "ModuleNotFoundError",
     "evalue": "No module named 'dowhy'",
     "output_type": "error",
     "traceback": [
      "\u001b[1;31m---------------------------------------------------------------------------\u001b[0m",
      "\u001b[1;31mModuleNotFoundError\u001b[0m                       Traceback (most recent call last)",
      "Cell \u001b[1;32mIn[1], line 1\u001b[0m\n\u001b[1;32m----> 1\u001b[0m \u001b[39mimport\u001b[39;00m \u001b[39mdowhy\u001b[39;00m\n\u001b[0;32m      2\u001b[0m \u001b[39mfrom\u001b[39;00m \u001b[39mdowhy\u001b[39;00m \u001b[39mimport\u001b[39;00m CausalModel\n\u001b[0;32m      3\u001b[0m \u001b[39mimport\u001b[39;00m \u001b[39mmatplotlib\u001b[39;00m\u001b[39m.\u001b[39;00m\u001b[39mpyplot\u001b[39;00m \u001b[39mas\u001b[39;00m \u001b[39mplt\u001b[39;00m\n",
      "\u001b[1;31mModuleNotFoundError\u001b[0m: No module named 'dowhy'"
     ]
    }
   ],
   "source": [
    "import dowhy\n",
    "from dowhy import CausalModel\n",
    "import matplotlib.pyplot as plt\n",
    "from sklearn.ensemble import RandomForestRegressor\n",
    "from IPython.display import Image, display\n",
    "\n",
    "import pandas as pd  # data processing, CSV file I/O (e.g. pd.read_csv)\n",
    "import warnings\n",
    "from sys import path\n",
    "import os\n",
    "\n",
    "for dirname, _, filenames in os.walk(\"../resources/\"):\n",
    "    for filename in filenames:\n",
    "        print(os.path.join(dirname, filename))\n",
    "path.append(os.path.realpath(\"../\"))\n",
    "\n",
    "from custom import functions\n",
    "\n",
    "warnings.filterwarnings(\"ignore\")"
   ]
  },
  {
   "cell_type": "code",
   "execution_count": null,
   "metadata": {},
   "outputs": [],
   "source": [
    "# Read and preview data\n",
    "df = pd.read_csv(\n",
    "    \"../resources/v2_hitosExitoFalloColESol1.csv\", delimiter=\";\", skipinitialspace=True\n",
    ")"
   ]
  },
  {
   "cell_type": "code",
   "execution_count": null,
   "metadata": {},
   "outputs": [],
   "source": [
    "# creando columna aprobado y con la funcion set_in_aprobado_nota poblamos la nueva columna.\n",
    "df[\"aprobado\"] = df.apply(lambda x: functions.set_in_aprobado_nota(x[\"sol1\"]), axis=1)\n",
    "# revisamos la existencia de la nueva columna.\n",
    "print(df.columns)"
   ]
  },
  {
   "cell_type": "code",
   "execution_count": null,
   "metadata": {},
   "outputs": [],
   "source": [
    "# Paso 1: Modelar un problema causal\n",
    "model = CausalModel(\n",
    "    data=df,\n",
    "    treatment=\"hito1\",  # Variable tratada (exposición)\n",
    "    outcome=\"aprobado\",  # Variable de resultado\n",
    "    common_causes=[\n",
    "        \"fallidos\",\n",
    "        \"exitosos\",\n",
    "        \"e29\",\n",
    "        \"e35\",\n",
    "        \"e3\",\n",
    "        \"e42\",\n",
    "    ],  # Variables de causa común\n",
    ")\n",
    "# Visualizar el modelo causal con la variable de causa común no observada\n",
    "model.view_model(\n",
    "    layout=\"gml\",\n",
    "    file_name=\"../resources/causalidad/graph_causal_model_hito1_with_unobserved\",\n",
    ")"
   ]
  },
  {
   "cell_type": "code",
   "execution_count": null,
   "metadata": {},
   "outputs": [],
   "source": [
    "# Paso 2: Identificar el estimando objetivo bajo el modelo\n",
    "identified_estimand = model.identify_effect(proceed_when_unidentifiable=True)"
   ]
  },
  {
   "cell_type": "code",
   "execution_count": null,
   "metadata": {},
   "outputs": [],
   "source": [
    "# Paso 3: Estimar el efecto causal usando un método basado en árboles\n",
    "estimate = model.estimate_effect(\n",
    "    identified_estimand,\n",
    "    method_name=\"backdoor.econml.dml.DML\",\n",
    "    control_value=0,\n",
    "    treatment_value=1,\n",
    "    target_units=\"ate\",  # Average Treatment Effect\n",
    "    method_params={\n",
    "        \"init_params\": {\n",
    "            \"model_y\": RandomForestRegressor(),\n",
    "            \"model_t\": RandomForestRegressor(),\n",
    "            \"model_final\": RandomForestRegressor(\n",
    "                max_depth=10,\n",
    "                min_samples_split=10,\n",
    "                min_samples_leaf=5,\n",
    "                random_state=1502,\n",
    "                n_estimators=500,\n",
    "            ),\n",
    "            \"featurizer\": None,\n",
    "        },\n",
    "        \"fit_params\": {},\n",
    "    },\n",
    ")\n",
    "\n",
    "print(estimate)"
   ]
  },
  {
   "cell_type": "code",
   "execution_count": null,
   "metadata": {},
   "outputs": [],
   "source": [
    "# Refutador de datos aleatorios\n",
    "refute1 = model.refute_estimate(\n",
    "    identified_estimand, estimate, method_name=\"random_common_cause\"\n",
    ")\n",
    "print(refute1)"
   ]
  },
  {
   "cell_type": "code",
   "execution_count": null,
   "metadata": {},
   "outputs": [],
   "source": [
    "# Refutador de causa común no observada\n",
    "refute2 = model.refute_estimate(\n",
    "    identified_estimand,\n",
    "    estimate,\n",
    "    method_name=\"add_unobserved_common_cause\",\n",
    "    confounders_effect_on_treatment=\"binary_flip\",\n",
    "    confounders_effect_on_outcome=\"linear\",\n",
    "    effect_strength_on_treatment=0.01,\n",
    "    effect_strength_on_outcome=0.02,\n",
    ")"
   ]
  },
  {
   "cell_type": "code",
   "execution_count": null,
   "metadata": {},
   "outputs": [],
   "source": [
    "# Paso 4: Refutar el estimado obtenido\n",
    "refute3 = model.refute_estimate(\n",
    "    identified_estimand,\n",
    "    estimate,\n",
    "    method_name=\"placebo_treatment_refuter\",\n",
    "    placebo_type=\"permute\",\n",
    ")\n",
    "print(refute3)"
   ]
  }
 ],
 "metadata": {
  "kernelspec": {
   "display_name": "py3113",
   "language": "python",
   "name": "python3"
  },
  "language_info": {
   "codemirror_mode": {
    "name": "ipython",
    "version": 3
   },
   "file_extension": ".py",
   "mimetype": "text/x-python",
   "name": "python",
   "nbconvert_exporter": "python",
   "pygments_lexer": "ipython3",
   "version": "3.11.3"
  },
  "orig_nbformat": 4
 },
 "nbformat": 4,
 "nbformat_minor": 2
}
