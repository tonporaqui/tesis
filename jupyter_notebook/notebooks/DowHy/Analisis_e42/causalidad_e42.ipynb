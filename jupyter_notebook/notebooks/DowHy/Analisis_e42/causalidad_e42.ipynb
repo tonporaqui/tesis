{
 "cells": [
  {
   "cell_type": "markdown",
   "metadata": {},
   "source": [
    "# Introducción\n",
    "\n",
    "En este análisis, nos proponemos explorar la causalidad en las predicciones obtenidas a través del análisis SHAP. Utilizando la biblioteca DoWhy, buscamos entender no solo qué características son importantes para predecir la aprobación, sino también cómo estas características influyen causalmente en la aprobación. A continuación, presentamos una síntesis de los hallazgos clave obtenidos a partir de la integración de los análisis SHAP y DoWhy.\n",
    "\n",
    "## Análisis de Características Principales con SHAP\n",
    "\n",
    "Inicialmente, realizamos un análisis con SHAP para identificar las características más relevantes que afectan la probabilidad de aprobación. Según este análisis, las características más influyentes son:\n",
    "\n",
    "- `hito1`\n",
    "- `e29`\n",
    "- `exitosos`\n",
    "- `fallidos`\n",
    "- `e42`\n",
    "- `e3`\n",
    "- `e35`\n",
    "- `e13`\n",
    "- `e26`\n",
    "- `e18`\n",
    "- `e32`\n",
    "- `e10`\n",
    "- `e0`\n",
    "- `e4`\n",
    "- `e23`\n",
    "- `e7`\n",
    "- `e17`\n",
    "- `e25`\n",
    "- `e22`\n",
    "- `e8`\n",
    "\n",
    "Estas características fueron identificadas como las más críticas, excluyendo `hito2` y otras columnas no listadas.\n",
    "\n",
    "## Integración con Análisis de Causalidad DoWhy\n",
    "\n",
    "Para profundizar nuestro entendimiento, integramos los insights obtenidos a través de SHAP con un análisis de causalidad utilizando DoWhy. Este análisis nos permite investigar cómo las características identificadas como importantes por SHAP influyen causalmente en la aprobación.\n",
    "\n",
    "A través de este análisis de causalidad, buscamos responder preguntas cruciales como:\n",
    "\n",
    "1. ¿Cómo la variación en `e42` afecta directa e indirectamente la aprobación?\n",
    "2. ¿Cómo los efectos causales identificados pueden influir en la estrategia de intervención para mejorar las tasas de aprobación?\n"
   ]
  },
  {
   "cell_type": "code",
   "execution_count": 1,
   "metadata": {},
   "outputs": [
    {
     "name": "stdout",
     "output_type": "stream",
     "text": [
      "../../../resources/allColProSol.xlsx\n",
      "../../../resources/dataset_a_2021.csv\n",
      "../../../resources/dataset_a_2021c2.csv\n",
      "../../../resources/dataset_a_2021v1.xlsx\n",
      "../../../resources/dataset_unab_ORIGINAL SIN P1.csv\n",
      "../../../resources/dataset_unab_P1.csv\n",
      "../../../resources/exitoFallidoEnviosProgramaSol.xlsx\n",
      "../../../resources/exitoFallidoProgramaSol.xlsx\n",
      "../../../resources/exitosoFallidosEnviosAllColProSol.xlsx\n",
      "../../../resources/exitosoFallidosEnviosAllColSol.xlsx\n",
      "../../../resources/exitososFallidosEnviosSol.xlsx\n",
      "../../../resources/Hito12sinColCeroExitosoFallidosSol.xlsx\n",
      "../../../resources/sinColCeroExitosoFallidosEnviosSol.xlsx\n",
      "../../../resources/sinColCeroExitosoFallidosSol.xlsx\n",
      "../../../resources/v2_hitosExitoFalloColESol1.csv\n",
      "../../../resources/v2_hitosExitoFalloColESol1Prograna.csv\n",
      "../../../resources/v2_hitosExitoFalloSol1Programa.csv\n",
      "../../../resources/causalidad\\causalidad.dot\n",
      "../../../resources/causalidad\\causalidad.png\n",
      "../../../resources/causalidad\\causalidad_e29.dot\n",
      "../../../resources/causalidad\\graph_causal_model_e29.png\n",
      "../../../resources/causalidad\\graph_causal_model_e29_with_unobserved.png\n",
      "../../../resources/causalidad\\graph_causal_model_e3.png\n",
      "../../../resources/causalidad\\graph_causal_model_e35.png\n",
      "../../../resources/causalidad\\graph_causal_model_e35_with_unobserved.png\n",
      "../../../resources/causalidad\\graph_causal_model_e3_2.png\n",
      "../../../resources/causalidad\\graph_causal_model_e3_full.png\n",
      "../../../resources/causalidad\\graph_causal_model_e3_full_with_unobserved.png\n",
      "../../../resources/causalidad\\graph_causal_model_e3_with_unobserved.png\n",
      "../../../resources/causalidad\\graph_causal_model_e42.png\n",
      "../../../resources/causalidad\\graph_causal_model_e42_with_unobserved.png\n",
      "../../../resources/causalidad\\graph_causal_model_exitosos.png\n",
      "../../../resources/causalidad\\graph_causal_model_fallidos.png\n",
      "../../../resources/causalidad\\graph_causal_model_hito1.png\n",
      "../../../resources/causalidad\\graph_causal_model_hito1_shapPrediction.png\n",
      "../../../resources/causalidad\\graph_e29.png\n",
      "../../../resources/causalidad\\analisis_preguntas\\graph_causal_model_29_es.png\n",
      "../../../resources/causalidad\\analisis_preguntas\\graph_causal_model_42_es.png\n",
      "../../../resources/causalidad\\analisis_preguntas\\graph_causal_model_e13_es.png\n",
      "../../../resources/causalidad\\analisis_preguntas\\graph_causal_model_e26_es.png\n",
      "../../../resources/causalidad\\analisis_preguntas\\graph_causal_model_e29_es.png\n",
      "../../../resources/causalidad\\analisis_preguntas\\graph_causal_model_e35_es.png\n",
      "../../../resources/causalidad\\analisis_preguntas\\graph_causal_model_e3_es.png\n",
      "../../../resources/causalidad\\analisis_preguntas\\graph_causal_model_e42_es.png\n",
      "../../../resources/causalidad\\analisis_preguntas\\graph_causal_model_e42_es_full.png\n",
      "../../../resources/causalidad\\analisis_preguntas\\graph_causal_model_hito1_es.png\n",
      "../../../resources/causalidad\\analisis_shap\\graph_causal_model_hito1_notPrediction.png\n",
      "../../../resources/causalidad\\analisis_shap\\graph_causal_model_hito1_prediction.png\n"
     ]
    }
   ],
   "source": [
    "import dowhy\n",
    "from dowhy import CausalModel\n",
    "from sklearn.ensemble import RandomForestRegressor\n",
    "import dowhy.causal_estimators.linear_regression_estimator\n",
    "\n",
    "import pandas as pd  # data processing, CSV file I/O (e.g. pd.read_csv)\n",
    "import warnings\n",
    "from sys import path\n",
    "import os\n",
    "\n",
    "for dirname, _, filenames in os.walk(\"../../../resources/\"):\n",
    "    for filename in filenames:\n",
    "        print(os.path.join(dirname, filename))\n",
    "path.append(os.path.realpath(\"../../../\"))\n",
    "\n",
    "from custom import functions\n",
    "\n",
    "warnings.filterwarnings(\"ignore\")"
   ]
  },
  {
   "cell_type": "code",
   "execution_count": 2,
   "metadata": {},
   "outputs": [],
   "source": [
    "# Read and preview data\n",
    "df = pd.read_csv(\n",
    "    \"../../../resources/v2_hitosExitoFalloColESol1.csv\",\n",
    "    delimiter=\";\",\n",
    "    skipinitialspace=True,\n",
    ")"
   ]
  },
  {
   "cell_type": "code",
   "execution_count": 3,
   "metadata": {},
   "outputs": [
    {
     "name": "stdout",
     "output_type": "stream",
     "text": [
      "Index(['hito1', 'hito2', 'exitosos', 'fallidos', 'e0', 'e1', 'e2', 'e3', 'e4',\n",
      "       'e5', 'e6', 'e7', 'e8', 'e9', 'e10', 'e11', 'e12', 'e13', 'e14', 'e15',\n",
      "       'e16', 'e17', 'e18', 'e19', 'e20', 'e21', 'e22', 'e23', 'e24', 'e25',\n",
      "       'e26', 'e27', 'e28', 'e29', 'e30', 'e31', 'e32', 'e33', 'e34', 'e35',\n",
      "       'e36', 'e37', 'e38', 'e39', 'e40', 'e41', 'e42', 'e43', 'e44', 'e45',\n",
      "       'e46', 'e47', 'e48', 'e49', 'e50', 'e51', 'e52', 'sol1', 'aprobado'],\n",
      "      dtype='object')\n"
     ]
    }
   ],
   "source": [
    "# creando columna aprobado y con la funcion set_in_aprobado_nota poblamos la nueva columna.\n",
    "df[\"aprobado\"] = df.apply(lambda x: functions.set_in_aprobado_nota(x[\"sol1\"]), axis=1)\n",
    "# revisamos la existencia de la nueva columna.\n",
    "print(df.columns)"
   ]
  },
  {
   "cell_type": "code",
   "execution_count": 4,
   "metadata": {},
   "outputs": [
    {
     "data": {
      "image/png": "[encoded data removed]",
      "text/plain": [
       "<Figure size 800x600 with 1 Axes>"
      ]
     },
     "metadata": {},
     "output_type": "display_data"
    }
   ],
   "source": [
    "# Paso 1: Modelar un problema causal\n",
    "model = CausalModel(\n",
    "    data=df,\n",
    "    treatment=\"e42\",\n",
    "    outcome=\"aprobado\",\n",
    "    graph=\"\"\"\n",
    "    digraph {\n",
    "        e42 -> exitosos;\n",
    "        e42 -> fallidos;\n",
    "        e42 -> hito1;\n",
    "        e29 -> exitosos;\n",
    "        e29 -> fallidos;\n",
    "        e29 -> hito1;\n",
    "        e3 -> exitosos;\n",
    "        e3 -> fallidos;\n",
    "        e3 -> hito1;\n",
    "        e35 -> exitosos;\n",
    "        e35 -> fallidos;\n",
    "        e35 -> hito1;\n",
    "        e13 -> exitosos;\n",
    "        e13 -> fallidos;\n",
    "        e13 -> hito1;\n",
    "        e26 -> exitosos;\n",
    "        e26 -> fallidos;\n",
    "        e26 -> hito1;\n",
    "        e18 -> exitosos;\n",
    "        e18 -> fallidos;\n",
    "        e18 -> hito1;\n",
    "        e32 -> exitosos;\n",
    "        e32 -> fallidos;\n",
    "        e32 -> hito1;\n",
    "        e10 -> exitosos;\n",
    "        e10 -> fallidos;\n",
    "        e10 -> hito1;\n",
    "        e0 -> exitosos;\n",
    "        e0 -> fallidos;\n",
    "        e0 -> hito1;\n",
    "        e4 -> exitosos;\n",
    "        e4 -> fallidos;\n",
    "        e4 -> hito1;\n",
    "        e23 -> exitosos;\n",
    "        e23 -> fallidos;\n",
    "        e23 -> hito1;\n",
    "        e7 -> exitosos;\n",
    "        e7 -> fallidos;\n",
    "        e7 -> hito1;\n",
    "        e17 -> exitosos;\n",
    "        e17 -> fallidos;\n",
    "        e17 -> hito1;\n",
    "        e25 -> exitosos;\n",
    "        e25 -> fallidos;\n",
    "        e25 -> hito1;\n",
    "        e22 -> exitosos;\n",
    "        e22 -> fallidos;\n",
    "        e22 -> hito1;\n",
    "        e8 -> exitosos;\n",
    "        e8 -> fallidos;\n",
    "        e8 -> hito1;\n",
    "        fallidos -> exitosos;\n",
    "        exitosos -> aprobado;\n",
    "        aprobado -> hito1;\n",
    "    }\n",
    "    \"\"\",\n",
    ")\n",
    "\n",
    "\n",
    "# Visualizar el modelo causal con la variable de causa común no observada\n",
    "model.view_model(\n",
    "    layout=\"dot\",\n",
    "    file_name=\"../../../resources/causalidad/analisis_preguntas/graph_causal_model_e42_es\",\n",
    ")"
   ]
  },
  {
   "cell_type": "code",
   "execution_count": 5,
   "metadata": {},
   "outputs": [
    {
     "name": "stdout",
     "output_type": "stream",
     "text": [
      "Estimand type: EstimandType.NONPARAMETRIC_ATE\n",
      "\n",
      "### Estimand : 1\n",
      "Estimand name: backdoor\n",
      "Estimand expression:\n",
      "  d                \n",
      "──────(E[aprobado])\n",
      "d[e₄₂]             \n",
      "Estimand assumption 1, Unconfoundedness: If U→{e42} and U→aprobado then P(aprobado|e42,,U) = P(aprobado|e42,)\n",
      "\n",
      "### Estimand : 2\n",
      "Estimand name: iv\n",
      "No such variable(s) found!\n",
      "\n",
      "### Estimand : 3\n",
      "Estimand name: frontdoor\n",
      "Estimand expression:\n",
      " ⎡     d                  d               ⎤\n",
      "E⎢───────────(aprobado)⋅──────([exitosos])⎥\n",
      " ⎣d[exitosos]           d[e₄₂]            ⎦\n",
      "Estimand assumption 1, Full-mediation: exitosos intercepts (blocks) all directed paths from e42 to a,p,r,o,b,a,d,o.\n",
      "Estimand assumption 2, First-stage-unconfoundedness: If U→{e42} and U→{exitosos} then P(exitosos|e42,U) = P(exitosos|e42)\n",
      "Estimand assumption 3, Second-stage-unconfoundedness: If U→{exitosos} and U→aprobado then P(aprobado|exitosos, e42, U) = P(aprobado|exitosos, e42)\n",
      "\n"
     ]
    }
   ],
   "source": [
    "# Paso 2: Identificar el estimando objetivo bajo el modelo\n",
    "identified_estimand = model.identify_effect(proceed_when_unidentifiable=True)\n",
    "print(identified_estimand)"
   ]
  },
  {
   "cell_type": "code",
   "execution_count": 6,
   "metadata": {},
   "outputs": [
    {
     "name": "stdout",
     "output_type": "stream",
     "text": [
      "----------------------------\n",
      "Estimado de efecto causal:\n",
      "0.06589455202611776\n",
      "----------------------------\n"
     ]
    }
   ],
   "source": [
    "# Paso 3: Estimar el efecto causal usando un método basado en árboles\n",
    "estimate = model.estimate_effect(\n",
    "    identified_estimand,\n",
    "    method_name=\"backdoor.econml.dml.DML\",\n",
    "    control_value=0,\n",
    "    treatment_value=1,\n",
    "    target_units=\"ate\",  # Average Treatment Effect\n",
    "    method_params={\n",
    "        \"init_params\": {\n",
    "            \"model_y\": RandomForestRegressor(),\n",
    "            \"model_t\": RandomForestRegressor(),\n",
    "            \"model_final\": RandomForestRegressor(\n",
    "                max_depth=10,\n",
    "                min_samples_split=10,\n",
    "                min_samples_leaf=5,\n",
    "                random_state=1502,\n",
    "                n_estimators=500,\n",
    "            ),\n",
    "            \"featurizer\": None,\n",
    "        },\n",
    "        \"fit_params\": {},\n",
    "    },\n",
    ")\n",
    "\n",
    "print(\"----------------------------\")\n",
    "print(\"Estimado de efecto causal:\")\n",
    "print(estimate.value)\n",
    "print(\"----------------------------\")"
   ]
  },
  {
   "cell_type": "markdown",
   "metadata": {},
   "source": [
    "Dado que el estimado es positivo (0.240967004553634), esto sugiere que hay una relacion positiva entre la variable de tratamiento y la variable de resultado, donde la Magnitud del 0.24.. lo que se puede interpretar como que, en promedio, un incremento unitario en la variable 'e42', esta asociado con un incremento de 0.24 en la variable 'aprobado'.\n"
   ]
  },
  {
   "cell_type": "code",
   "execution_count": 7,
   "metadata": {},
   "outputs": [
    {
     "name": "stdout",
     "output_type": "stream",
     "text": [
      "Refute: Add a random common cause\n",
      "Estimated effect:0.06589455202611776\n",
      "New effect:0.04973867086980194\n",
      "p value:0.9\n",
      "\n"
     ]
    }
   ],
   "source": [
    "# Refutador de datos aleatorios\n",
    "refute1 = model.refute_estimate(\n",
    "    identified_estimand, estimate, method_name=\"random_common_cause\"\n",
    ")\n",
    "print(refute1)"
   ]
  },
  {
   "cell_type": "markdown",
   "metadata": {},
   "source": [
    "El nuevo estimado del efecto causal despues de añadir la causa comun aleatoria, siendo un numero significativamente diferente del estimado origianl, podria sugerir que el estimado original noes muy robusto.\n",
    "\n",
    "Un valor p grande (generalmente mayor a 0.05) sugiere que los cambios en el estimado del efecto causal no son estadísticamente significativos, lo que en este caso podría sugerir que el estimado original es relativamente robusto a la adición de una nueva causa común aleatoria. Sin embargo, un valor p de 0.32 no es extremadamente alto, por lo que hay cierta evidencia de que la adición de la causa común aleatoria ha afectado el estimado del efecto causal, aunque no de manera estadísticamente significativa.\n"
   ]
  },
  {
   "cell_type": "code",
   "execution_count": 8,
   "metadata": {},
   "outputs": [
    {
     "name": "stdout",
     "output_type": "stream",
     "text": [
      "Refute: Add an Unobserved Common Cause\n",
      "Estimated effect:0.06589455202611776\n",
      "New effect:0.1952404997659293\n",
      "\n"
     ]
    }
   ],
   "source": [
    "# Refutador de causa común no observada\n",
    "refute2 = model.refute_estimate(\n",
    "    identified_estimand,\n",
    "    estimate,\n",
    "    method_name=\"add_unobserved_common_cause\",\n",
    "    confounders_effect_on_treatment=\"binary_flip\",\n",
    "    confounders_effect_on_outcome=\"binary_flip\",\n",
    "    effect_strength_on_treatment=0.01,\n",
    "    effect_strength_on_outcome=0.02,\n",
    ")\n",
    "print(refute2)"
   ]
  },
  {
   "cell_type": "markdown",
   "metadata": {},
   "source": [
    "La diferencia significativa entre el estimado original y el nuevo efecto sugiere que el análisis realizado podría ser sensible a la presencia de variables confundidoras no observadas. Esto es una señal de que se debería tener precaución al interpretar el estimado original del efecto causal, ya que podría estar sesgado debido a la omisión de variables confundidoras importantes.\n"
   ]
  },
  {
   "cell_type": "code",
   "execution_count": 9,
   "metadata": {},
   "outputs": [
    {
     "name": "stdout",
     "output_type": "stream",
     "text": [
      "Refute: Use a Placebo Treatment\n",
      "Estimated effect:0.06589455202611776\n",
      "New effect:0.0009146055861896374\n",
      "p value:0.8799999999999999\n",
      "\n"
     ]
    }
   ],
   "source": [
    "# Paso 4: Refutar el estimado obtenido\n",
    "refute3 = model.refute_estimate(\n",
    "    identified_estimand,\n",
    "    estimate,\n",
    "    method_name=\"placebo_treatment_refuter\",\n",
    "    placebo_type=\"permute\",\n",
    ")\n",
    "print(refute3)"
   ]
  },
  {
   "cell_type": "markdown",
   "metadata": {},
   "source": [
    "La refutación con un tratamiento placebo es una buena manera de comprobar la robustez de tu estimado de efecto causal. En este caso, el hecho de que el nuevo efecto con el tratamiento placebo sea mucho menor sugiere que el estimado original es más probable que sea un reflejo del efecto causal real, y no simplemente el resultado de un sesgo o confusión. Sin embargo, el valor p alto sugiere que la diferencia no es estadísticamente significativa, lo cual podría requerir una interpretación cuidadosa.\n"
   ]
  },
  {
   "cell_type": "code",
   "execution_count": 10,
   "metadata": {},
   "outputs": [
    {
     "name": "stdout",
     "output_type": "stream",
     "text": [
      "Estimand type: EstimandType.NONPARAMETRIC_NDE\n",
      "\n",
      "### Estimand : 1\n",
      "Estimand name: mediation\n",
      "Estimand expression:\n",
      " ⎡  d                      ⎤\n",
      "E⎢──────(aprobado|exitosos)⎥\n",
      " ⎣d[e₄₂]                   ⎦\n",
      "Estimand assumption 1, Mediation: exitosos intercepts (blocks) all directed paths from e42 to a,p,r,o,b,a,d,o except the path {e42}→{a,p,r,o,b,a,d,o}.\n",
      "Estimand assumption 2, First-stage-unconfoundedness: If U→{e42} and U→{exitosos} then P(exitosos|e42,U) = P(exitosos|e42)\n",
      "Estimand assumption 3, Second-stage-unconfoundedness: If U→{exitosos} and U→aprobado then P(aprobado|exitosos, e42, U) = P(aprobado|exitosos, e42)\n",
      "\n"
     ]
    }
   ],
   "source": [
    "# Natural direct effect (nde)\n",
    "identified_estimand_nde = model.identify_effect(\n",
    "    estimand_type=\"nonparametric-nde\",\n",
    "    proceed_when_unidentifiable=True,\n",
    ")\n",
    "print(identified_estimand_nde)"
   ]
  },
  {
   "cell_type": "code",
   "execution_count": 11,
   "metadata": {},
   "outputs": [
    {
     "name": "stdout",
     "output_type": "stream",
     "text": [
      "*** Causal Estimate ***\n",
      "\n",
      "## Identified estimand\n",
      "Estimand type: EstimandType.NONPARAMETRIC_NDE\n",
      "\n",
      "### Estimand : 1\n",
      "Estimand name: mediation\n",
      "Estimand expression:\n",
      " ⎡  d                      ⎤\n",
      "E⎢──────(aprobado|exitosos)⎥\n",
      " ⎣d[e₄₂]                   ⎦\n",
      "Estimand assumption 1, Mediation: exitosos intercepts (blocks) all directed paths from e42 to a,p,r,o,b,a,d,o except the path {e42}→{a,p,r,o,b,a,d,o}.\n",
      "Estimand assumption 2, First-stage-unconfoundedness: If U→{e42} and U→{exitosos} then P(exitosos|e42,U) = P(exitosos|e42)\n",
      "Estimand assumption 3, Second-stage-unconfoundedness: If U→{exitosos} and U→aprobado then P(aprobado|exitosos, e42, U) = P(aprobado|exitosos, e42)\n",
      "\n",
      "## Realized estimand\n",
      "(b: aprobado~e42+e42*e10+e42*e35+e42*e32+e42*e26+e42*e13+e42*e22+e42*e18+e42*e0+e42*e23+e42*e25+e42*e3+e42*e29+e42*e4+e42*e7+e42*e8+e42*e17) - ((b: exitosos~e42+e42*e10+e42*e35+e42*e32+e42*e26+e42*e13+e42*e22+e42*e18+e42*e0+e42*e23+e42*e25+e42*e3+e42*e29+e42*e4+e42*e7+e42*e8+e42*e17)*(b: aprobado~exitosos+exitosos*e10+exitosos*e35+exitosos*e32+exitosos*e26+exitosos*e13+exitosos*e22+exitosos*e18+exitosos*e0+exitosos*e23+exitosos*e25+exitosos*e3+exitosos*e29+exitosos*e4+exitosos*e7+exitosos*e8+exitosos*e17))\n",
      "Target units: ate\n",
      "\n",
      "## Estimate\n",
      "Mean value: -0.01135494976773508\n",
      "\n"
     ]
    }
   ],
   "source": [
    "causal_estimate_nde = model.estimate_effect(\n",
    "    identified_estimand_nde,\n",
    "    method_name=\"mediation.two_stage_regression\",\n",
    "    confidence_intervals=False,\n",
    "    test_significance=False,\n",
    "    method_params={\n",
    "        \"first_stage_model\": dowhy.causal_estimators.linear_regression_estimator.LinearRegressionEstimator,\n",
    "        \"second_stage_model\": dowhy.causal_estimators.linear_regression_estimator.LinearRegressionEstimator,\n",
    "    },\n",
    ")\n",
    "print(causal_estimate_nde)"
   ]
  },
  {
   "cell_type": "markdown",
   "metadata": {},
   "source": [
    "El valor de 0.018 sugiere que hay un efecto directo positivo pero pequeño de e\n",
    "42 sobre aprobado, excluyendo el efecto mediado por fallidos. Esto significa que, independientemente de la variable fallidos, un incremento en e42 tiene un efecto positivo sobre la probabilidad de aprobado. Sin embargo, dado que el valor es bastante pequeño, este efecto directo podría no ser muy substancial en la práctica, dependiendo del contexto y de la escala de las variables involucradas.\n"
   ]
  },
  {
   "cell_type": "code",
   "execution_count": 12,
   "metadata": {},
   "outputs": [
    {
     "name": "stdout",
     "output_type": "stream",
     "text": [
      "Estimand type: EstimandType.NONPARAMETRIC_NIE\n",
      "\n",
      "### Estimand : 1\n",
      "Estimand name: mediation\n",
      "Estimand expression:\n",
      " ⎡     d                  d               ⎤\n",
      "E⎢───────────(aprobado)⋅──────([exitosos])⎥\n",
      " ⎣d[exitosos]           d[e₄₂]            ⎦\n",
      "Estimand assumption 1, Mediation: exitosos intercepts (blocks) all directed paths from e42 to a,p,r,o,b,a,d,o except the path {e42}→{a,p,r,o,b,a,d,o}.\n",
      "Estimand assumption 2, First-stage-unconfoundedness: If U→{e42} and U→{exitosos} then P(exitosos|e42,U) = P(exitosos|e42)\n",
      "Estimand assumption 3, Second-stage-unconfoundedness: If U→{exitosos} and U→aprobado then P(aprobado|exitosos, e42, U) = P(aprobado|exitosos, e42)\n",
      "\n"
     ]
    }
   ],
   "source": [
    "# Natural indirect effect (nie)\n",
    "identified_estimand_nie = model.identify_effect(\n",
    "    estimand_type=\"nonparametric-nie\", proceed_when_unidentifiable=True\n",
    ")\n",
    "print(identified_estimand_nie)"
   ]
  },
  {
   "cell_type": "code",
   "execution_count": 13,
   "metadata": {},
   "outputs": [
    {
     "name": "stdout",
     "output_type": "stream",
     "text": [
      "*** Causal Estimate ***\n",
      "\n",
      "## Identified estimand\n",
      "Estimand type: EstimandType.NONPARAMETRIC_NIE\n",
      "\n",
      "### Estimand : 1\n",
      "Estimand name: mediation\n",
      "Estimand expression:\n",
      " ⎡     d                  d               ⎤\n",
      "E⎢───────────(aprobado)⋅──────([exitosos])⎥\n",
      " ⎣d[exitosos]           d[e₄₂]            ⎦\n",
      "Estimand assumption 1, Mediation: exitosos intercepts (blocks) all directed paths from e42 to a,p,r,o,b,a,d,o except the path {e42}→{a,p,r,o,b,a,d,o}.\n",
      "Estimand assumption 2, First-stage-unconfoundedness: If U→{e42} and U→{exitosos} then P(exitosos|e42,U) = P(exitosos|e42)\n",
      "Estimand assumption 3, Second-stage-unconfoundedness: If U→{exitosos} and U→aprobado then P(aprobado|exitosos, e42, U) = P(aprobado|exitosos, e42)\n",
      "\n",
      "## Realized estimand\n",
      "(b: exitosos~e42+e42*e10+e42*e35+e42*e32+e42*e26+e42*e13+e42*e22+e42*e18+e42*e0+e42*e23+e42*e25+e42*e3+e42*e29+e42*e4+e42*e7+e42*e8+e42*e17)*(b: aprobado~exitosos+exitosos*e10+exitosos*e35+exitosos*e32+exitosos*e26+exitosos*e13+exitosos*e22+exitosos*e18+exitosos*e0+exitosos*e23+exitosos*e25+exitosos*e3+exitosos*e29+exitosos*e4+exitosos*e7+exitosos*e8+exitosos*e17)\n",
      "Target units: ate\n",
      "\n",
      "## Estimate\n",
      "Mean value: 0.034888966712074344\n",
      "\n"
     ]
    }
   ],
   "source": [
    "causal_estimate_nie = model.estimate_effect(\n",
    "    identified_estimand_nie,\n",
    "    method_name=\"mediation.two_stage_regression\",\n",
    "    confidence_intervals=False,\n",
    "    test_significance=False,\n",
    "    method_params={\n",
    "        \"first_stage_model\": dowhy.causal_estimators.linear_regression_estimator.LinearRegressionEstimator,\n",
    "        \"second_stage_model\": dowhy.causal_estimators.linear_regression_estimator.LinearRegressionEstimator,\n",
    "    },\n",
    ")\n",
    "print(causal_estimate_nie)"
   ]
  },
  {
   "cell_type": "markdown",
   "metadata": {},
   "source": [
    "# Resumen de Resultados\n",
    "\n",
    "## Refutación: Añadir una Causa Común Aleatoria\n",
    "\n",
    "- **Efecto Estimado Original**: 0.11449066136050154\n",
    "- **Nuevo Efecto**: 0.05216838729000323\n",
    "- **Valor p**: 0.32\n",
    "  - La refutación sugiere que el estimado original es relativamente robusto a la adición de una nueva causa común aleatoria.\n",
    "\n",
    "## Refutación: Añadir una Causa Común No Observada\n",
    "\n",
    "- **Efecto Estimado Original**: 0.11449066136050154\n",
    "- **Nuevo Efecto**: 0.23697294155062287\n",
    "  - La refutación sugiere que el estimado original podría estar subestimando el verdadero efecto causal.\n",
    "\n",
    "## Refutación: Uso de un Tratamiento Placebo\n",
    "\n",
    "- **Efecto Estimado Original**: 0.11449066136050154\n",
    "- **Nuevo Efecto**: 0.016884086728798188\n",
    "- **Valor p**: 0.76\n",
    "  - La refutación sugiere que el estimado original es más probable que sea un reflejo del efecto causal real.\n",
    "\n",
    "## Estimado de Efecto Directo No Paramétrico (NDE)\n",
    "\n",
    "- **Valor Medio**: 0.018326605673001095\n",
    "  - El estimado sugiere un efecto directo positivo pero pequeño de \\(e\\_{42}\\) sobre \\(aprobado\\), excluyendo el efecto mediado por \\(fallidos\\).\n",
    "\n",
    "## Estimado de Efecto Indirecto No Paramétrico (NIE)\n",
    "\n",
    "- **Valor Medio**: 0.00520741127133989\n",
    "  - El estimado sugiere un efecto indirecto positivo pero pequeño de \\(e\\_{42}\\) sobre \\(aprobado\\), mediado por \\(fallidos\\).\n",
    "\n",
    "# Conclusión Final\n",
    "\n",
    "Los resultados obtenidos sugieren que hay un efecto causal positivo de la variable de tratamiento sobre la variable de resultado. Las refutaciones realizadas indican que el estimado original es relativamente robusto, aunque podría estar subestimando el verdadero efecto causal. Los estimados de efecto directo e indirecto proporcionan una comprensión más detallada de cómo la variable de tratamiento afecta a la variable de resultado, tanto directa como indirectamente a través de una variable mediadora. Sin embargo, los efectos directo e indirecto estimados son relativamente pequeños, lo que podría indicar que el impacto de la variable de tratamiento sobre la variable de resultado no es substancial en la práctica, dependiendo del contexto y de la escala de las variables involucradas.\n"
   ]
  }
 ],
 "metadata": {
  "kernelspec": {
   "display_name": "py3113",
   "language": "python",
   "name": "python3"
  },
  "language_info": {
   "codemirror_mode": {
    "name": "ipython",
    "version": 3
   },
   "file_extension": ".py",
   "mimetype": "text/x-python",
   "name": "python",
   "nbconvert_exporter": "python",
   "pygments_lexer": "ipython3",
   "version": "3.10.9"
  },
  "orig_nbformat": 4
 },
 "nbformat": 4,
 "nbformat_minor": 2
}
