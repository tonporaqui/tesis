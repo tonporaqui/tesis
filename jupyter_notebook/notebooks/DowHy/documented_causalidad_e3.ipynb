{
 "cells": [
  {
   "cell_type": "markdown",
   "id": "c99d6ea4",
   "metadata": {},
   "source": [
    "# Análisis de Causalidad para la variable `e3`"
   ]
  },
  {
   "cell_type": "markdown",
   "id": "346d9f8a",
   "metadata": {},
   "source": [
    "## Introducción\n",
    "\n",
    "Este notebook se centra en el análisis de causalidad de la variable `e3` en relación con el resultado `aprobado`. Se utiliza un enfoque de modelado causal para estimar el efecto de `e3` en `aprobado` después de controlar posibles variables confusoras.\n",
    "El análisis se basa en datos extraídos del archivo `v2_hitosExitoFalloColESol1.csv`."
   ]
  },
  {
   "cell_type": "markdown",
   "id": "25372e87",
   "metadata": {},
   "source": [
    "## Metodología\n",
    "\n",
    "Se emplea un modelo de regresión para estimar el efecto causal, controlando las posibles variables confusoras `e29`, `e35` y `e42`. El estimador utilizado se basa en el criterio de puerta trasera (backdoor criterion), que busca variables que, una vez controladas, bloquean todos los caminos de retroceso desde la variable de tratamiento hasta el resultado.\n",
    "Además, se realiza un test de refutación utilizando un tratamiento placebo para evaluar la robustez de los resultados obtenidos."
   ]
  },
  {
   "cell_type": "markdown",
   "id": "39e4171a",
   "metadata": {},
   "source": [
    "## Resultados\n",
    "\n",
    "### Estimado de Efecto Causal\n",
    "El valor estimado del efecto causal de `e3` sobre `aprobado` es 0.1649. Esto sugiere que, después de controlar por las variables `e29`, `e42` y `e35`, un cambio en `e3` de 0 a 1 se asocia con un aumento promedio de 0.1649 en la probabilidad de ser `aprobado`.\n",
    "\n",
    "### Puerta Trasera (Backdoor Criterion)\n",
    "Se ha identificado un camino de puerta trasera utilizando las variables `e29`, `e42` y `e35`. La suposición esencial es la \"Unconfoundedness\", que indica que después de controlar por estas variables, la asignación al tratamiento `e3` es como si fuera aleatoria.\n",
    "\n",
    "### Refutación\n",
    "Se utilizó un \"Placebo Treatment\" como refutación, reemplazando `e3` por una variable ficticia. El nuevo efecto estimado con el placebo es -0.0019, que es esencialmente cero y muy diferente del efecto original de 0.1649. Esto sugiere que el efecto original es robusto y no es probable que sea el resultado de variables confusas no observadas."
   ]
  },
  {
   "cell_type": "markdown",
   "id": "7b6ef55f",
   "metadata": {},
   "source": [
    "## Conclusión\n",
    "\n",
    "El análisis revela que la variable `e3` tiene un impacto causal positivo y significativo en la probabilidad de ser `aprobado`. Las pruebas de refutación confirman la robustez de este resultado. Estos hallazgos tienen implicaciones para las intervenciones dirigidas a mejorar las tasas de aprobación."
   ]
  }
 ],
 "metadata": {
  "kernelspec": {
   "display_name": "Python 3",
   "language": "python",
   "name": "python3"
  },
  "language_info": {
   "name": "python",
   "version": "3.10.9"
  }
 },
 "nbformat": 4,
 "nbformat_minor": 5
}
