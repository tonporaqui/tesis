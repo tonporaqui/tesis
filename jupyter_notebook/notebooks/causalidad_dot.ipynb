{
 "cells": [
  {
   "cell_type": "code",
   "execution_count": 1,
   "metadata": {},
   "outputs": [
    {
     "name": "stdout",
     "output_type": "stream",
     "text": [
      "../resources/allColProSol.xlsx\n",
      "../resources/dataset_a_2021.csv\n",
      "../resources/dataset_a_2021c2.csv\n",
      "../resources/dataset_a_2021v1.xlsx\n",
      "../resources/dataset_unab_ORIGINAL SIN P1.csv\n",
      "../resources/dataset_unab_P1.csv\n",
      "../resources/exitoFallidoEnviosProgramaSol.xlsx\n",
      "../resources/exitoFallidoProgramaSol.xlsx\n",
      "../resources/exitosoFallidosEnviosAllColProSol.xlsx\n",
      "../resources/exitosoFallidosEnviosAllColSol.xlsx\n",
      "../resources/exitososFallidosEnviosSol.xlsx\n",
      "../resources/Hito12sinColCeroExitosoFallidosSol.xlsx\n",
      "../resources/sinColCeroExitosoFallidosEnviosSol.xlsx\n",
      "../resources/sinColCeroExitosoFallidosSol.xlsx\n",
      "../resources/v2_hitosExitoFalloColESol1.csv\n",
      "../resources/v2_hitosExitoFalloColESol1Prograna.csv\n",
      "../resources/v2_hitosExitoFalloSol1Programa.csv\n",
      "../resources/causalidad\\causalidad.png\n",
      "../resources/causalidad\\causalidad2.dot\n",
      "../resources/causalidad\\causalidad_exitosos.dot\n",
      "../resources/causalidad\\causalidad_hito1.dot\n",
      "../resources/causalidad\\graph_exitosos.png\n",
      "../resources/causalidad\\graph_hito1.png\n"
     ]
    }
   ],
   "source": [
    "import pandas as pd\n",
    "import pygraphviz as pgv\n",
    "from IPython.display import Image\n",
    "\n",
    "import warnings\n",
    "from sys import path\n",
    "import os\n",
    "for dirname, _, filenames in os.walk('../resources/'):\n",
    "    for filename in filenames:\n",
    "        print(os.path.join(dirname, filename))\n",
    "path.append(os.path.realpath('../'))\n",
    "\n",
    "from custom import functions\n",
    "\n",
    "warnings.filterwarnings('ignore')"
   ]
  },
  {
   "cell_type": "code",
   "execution_count": 2,
   "metadata": {},
   "outputs": [],
   "source": [
    "df = pd.read_csv(\"../resources/v2_hitosExitoFalloColESol1.csv\", delimiter=\";\", skipinitialspace=True)"
   ]
  },
  {
   "cell_type": "code",
   "execution_count": 3,
   "metadata": {},
   "outputs": [],
   "source": [
    "# Convertir la columna \"sol1\" a números de punto flotante\n",
    "df['sol1'] = df['sol1'].astype(float)\n",
    "df['exitosos'] = df['exitosos'].astype(int)\n",
    "df['fallidos'] = df['fallidos'].astype(int)"
   ]
  },
  {
   "cell_type": "code",
   "execution_count": 4,
   "metadata": {},
   "outputs": [
    {
     "name": "stdout",
     "output_type": "stream",
     "text": [
      "Index(['hito1', 'hito2', 'exitosos', 'fallidos', 'e0', 'e1', 'e2', 'e3', 'e4',\n",
      "       'e5', 'e6', 'e7', 'e8', 'e9', 'e10', 'e11', 'e12', 'e13', 'e14', 'e15',\n",
      "       'e16', 'e17', 'e18', 'e19', 'e20', 'e21', 'e22', 'e23', 'e24', 'e25',\n",
      "       'e26', 'e27', 'e28', 'e29', 'e30', 'e31', 'e32', 'e33', 'e34', 'e35',\n",
      "       'e36', 'e37', 'e38', 'e39', 'e40', 'e41', 'e42', 'e43', 'e44', 'e45',\n",
      "       'e46', 'e47', 'e48', 'e49', 'e50', 'e51', 'e52', 'sol1', 'aprobado',\n",
      "       'hito1_binario', 'hito2_binario', 'exitosos_binario',\n",
      "       'fallidos_binario'],\n",
      "      dtype='object')\n"
     ]
    }
   ],
   "source": [
    "#creando columna aprobado y con la funcion set_in_aprobado_nota poblamos la nueva columna.\n",
    "df['aprobado']=df.apply(lambda x: functions.set_in_aprobado_nota(x['sol1']),axis = 1 )\n",
    "# df[\"hito1_binario\"] = df[\"hito1\"].apply(lambda x: 1 if x > 0 else 0)\n",
    "# df[\"hito2_binario\"] = df[\"hito2\"].apply(lambda x: 1 if x > 0 else 0)\n",
    "# df[\"exitosos_binario\"] = df[\"exitosos\"].apply(lambda x: 1 if x > 0 else 0)\n",
    "# df[\"fallidos_binario\"] = df[\"fallidos\"].apply(lambda x: 1 if x > 0 else 0)\n",
    "#revisamos la existencia de la nueva columna.\n",
    "\n",
    "print(df.columns)"
   ]
  },
  {
   "cell_type": "code",
   "execution_count": 5,
   "metadata": {},
   "outputs": [],
   "source": [
    "G = pgv.AGraph(directed=True)"
   ]
  },
  {
   "cell_type": "code",
   "execution_count": 6,
   "metadata": {},
   "outputs": [],
   "source": [
    "for columna in df.columns:\n",
    "    if columna.startswith('e29'):\n",
    "        G.add_node(columna)\n",
    "        G.add_edge(columna, 'exitosos')\n",
    "    elif columna == 'exitosos':\n",
    "        G.add_node(columna)\n",
    "        G.add_edge(columna, 'hito1')\n",
    "    elif columna == 'hito1':\n",
    "        G.add_node(columna)\n",
    "        G.add_edge(columna, 'hito2')\n",
    "    elif columna == 'hito2':\n",
    "        G.add_node(columna)\n",
    "        G.add_edge(columna, 'aprobado')\n",
    "    elif columna == 'aprobado':\n",
    "        G.add_node(columna)"
   ]
  },
  {
   "cell_type": "code",
   "execution_count": 7,
   "metadata": {},
   "outputs": [],
   "source": [
    "G.write('../resources/causalidad/causalidad.dot')"
   ]
  },
  {
   "cell_type": "code",
   "execution_count": 8,
   "metadata": {},
   "outputs": [],
   "source": [
    "G.draw('../resources/causalidad/causalidad.png', prog='dot', format='png')"
   ]
  },
  {
   "cell_type": "code",
   "execution_count": 9,
   "metadata": {},
   "outputs": [
    {
     "data": {
      "image/png": "[encoded data removed]",
      "text/plain": [
       "<IPython.core.display.Image object>"
      ]
     },
     "execution_count": 9,
     "metadata": {},
     "output_type": "execute_result"
    }
   ],
   "source": [
    "Image('../resources/causalidad/causalidad.png')\n"
   ]
  }
 ],
 "metadata": {
  "kernelspec": {
   "display_name": "py3113",
   "language": "python",
   "name": "python3"
  },
  "language_info": {
   "codemirror_mode": {
    "name": "ipython",
    "version": 3
   },
   "file_extension": ".py",
   "mimetype": "text/x-python",
   "name": "python",
   "nbconvert_exporter": "python",
   "pygments_lexer": "ipython3",
   "version": "3.11.3"
  },
  "orig_nbformat": 4
 },
 "nbformat": 4,
 "nbformat_minor": 2
}
