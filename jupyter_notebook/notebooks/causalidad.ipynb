{
 "cells": [
  {
   "cell_type": "code",
   "execution_count": 1,
   "metadata": {},
   "outputs": [
    {
     "name": "stdout",
     "output_type": "stream",
     "text": [
      "../resources/allColProSol.xlsx\n",
      "../resources/dataset_a_2021.csv\n",
      "../resources/dataset_a_2021c2.csv\n",
      "../resources/dataset_a_2021v1.xlsx\n",
      "../resources/dataset_unab_ORIGINAL SIN P1.csv\n",
      "../resources/dataset_unab_P1.csv\n",
      "../resources/exitoFallidoEnviosProgramaSol.xlsx\n",
      "../resources/exitoFallidoProgramaSol.xlsx\n",
      "../resources/exitosoFallidosEnviosAllColProSol.xlsx\n",
      "../resources/exitosoFallidosEnviosAllColSol.xlsx\n",
      "../resources/exitososFallidosEnviosSol.xlsx\n",
      "../resources/Hito12sinColCeroExitosoFallidosSol.xlsx\n",
      "../resources/sinColCeroExitosoFallidosEnviosSol.xlsx\n",
      "../resources/sinColCeroExitosoFallidosSol.xlsx\n",
      "../resources/v2_hitosExitoFalloColESol1.csv\n",
      "../resources/v2_hitosExitoFalloColESol1Prograna.csv\n",
      "../resources/v2_hitosExitoFalloSol1Programa.csv\n",
      "../resources/causalidad\\causalidad.dot\n",
      "../resources/causalidad\\causalidad.png\n",
      "../resources/causalidad\\causalidad2.dot\n",
      "../resources/causalidad\\causalidad_e29.dot\n",
      "../resources/causalidad\\causalidad_exitosos.dot\n",
      "../resources/causalidad\\causalidad_hito1.dot\n",
      "../resources/causalidad\\graph_e29.png\n",
      "../resources/causalidad\\graph_exitosos.png\n",
      "../resources/causalidad\\graph_hito1.png\n"
     ]
    }
   ],
   "source": [
    "import pygraphviz as pgv\n",
    "import pandas as pd\n",
    "import numpy as np\n",
    "\n",
    "import dowhy\n",
    "from dowhy import CausalModel\n",
    "import matplotlib.pyplot as plt\n",
    "import statsmodels.api as sm\n",
    "import warnings\n",
    "import pandas as pd # data processing, CSV file I/O (e.g. pd.read_csv)\n",
    "from sys import path\n",
    "import os\n",
    "for dirname, _, filenames in os.walk('../resources/'):\n",
    "    for filename in filenames:\n",
    "        print(os.path.join(dirname, filename))\n",
    "path.append(os.path.realpath('../'))\n",
    "\n",
    "from custom import functions\n",
    "\n",
    "warnings.filterwarnings('ignore')"
   ]
  },
  {
   "cell_type": "code",
   "execution_count": 2,
   "metadata": {},
   "outputs": [],
   "source": [
    "# Read and preview data\n",
    "df = pd.read_csv(\"../resources/v2_hitosExitoFalloColESol1.csv\", delimiter=\";\", skipinitialspace=True)"
   ]
  },
  {
   "cell_type": "code",
   "execution_count": 3,
   "metadata": {},
   "outputs": [],
   "source": [
    "# Convertir la columna \"sol1\" a números de punto flotante\n",
    "df['sol1'] = df['sol1'].astype(float)\n",
    "df['exitosos'] = df['exitosos'].astype(int)\n",
    "df['fallidos'] = df['fallidos'].astype(int)"
   ]
  },
  {
   "cell_type": "code",
   "execution_count": 4,
   "metadata": {},
   "outputs": [
    {
     "name": "stdout",
     "output_type": "stream",
     "text": [
      "Index(['e0', 'e1', 'e2', 'e3', 'e4', 'e5', 'e6', 'e7', 'e8', 'e9', 'e10',\n",
      "       'e11', 'e12', 'e13', 'e14', 'e15', 'e16', 'e17', 'e18', 'e19', 'e20',\n",
      "       'e21', 'e22', 'e23', 'e24', 'e25', 'e26', 'e27', 'e28', 'e29', 'e30',\n",
      "       'e31', 'e32', 'e33', 'e34', 'e35', 'e36', 'e37', 'e38', 'e39', 'e40',\n",
      "       'e41', 'e42', 'e43', 'e44', 'e45', 'e46', 'e47', 'e48', 'e49', 'e50',\n",
      "       'e51', 'e52', 'aprobado'],\n",
      "      dtype='object')\n"
     ]
    }
   ],
   "source": [
    "#creando columna aprobado y con la funcion set_in_aprobado_nota poblamos la nueva columna.\n",
    "df['aprobado']=df.apply(lambda x: functions.set_in_aprobado_nota(x['sol1']),axis = 1 )\n",
    "# df.drop(['hito1', 'hito2', 'exitosos', 'fallidos','sol1','e45', 'e46', 'e47', 'e48', 'e49', 'e50', 'e51', 'e52'], axis=1, inplace=True)\n",
    "df.drop(['hito1', 'hito2', 'exitosos', 'fallidos','sol1'], axis=1, inplace=True)\n",
    "\n",
    "#revisamos la existencia de la nueva columna.\n",
    "print(df.columns)"
   ]
  },
  {
   "cell_type": "code",
   "execution_count": 5,
   "metadata": {},
   "outputs": [],
   "source": [
    "# Crear un objeto del tipo AGraph\n",
    "graph = pgv.AGraph(directed=True)"
   ]
  },
  {
   "cell_type": "code",
   "execution_count": 6,
   "metadata": {},
   "outputs": [],
   "source": [
    "# Agregar nodos al gráfico\n",
    "for column in df.columns:\n",
    "    graph.add_node(column)\n",
    "\n",
    "# Agregar aristas al gráfico\n",
    "for column in df.columns:\n",
    "    if column != 'e29' and column != 'aprobado':\n",
    "        graph.add_edge(column, 'e29')\n",
    "        graph.add_edge(column, 'aprobado')\n",
    "\n",
    "# Guardar el grafo en un archivo DOT en la ruta deseada\n",
    "graph.write(\"../resources/causalidad/causalidad_e29.dot\")\n",
    "# Visualizar el gráfico\n",
    "graph.layout(prog='dot')\n",
    "graph.draw('../resources/causalidad/graph_e29.png')"
   ]
  },
  {
   "cell_type": "code",
   "execution_count": 7,
   "metadata": {},
   "outputs": [],
   "source": [
    "# Lee el archivo DOT\n",
    "graph_path = \"../resources/causalidad/causalidad_e29.dot\"\n",
    "model = CausalModel(\n",
    "    data=df,\n",
    "    graph=graph_path,\n",
    "    treatment='e29',\n",
    "    outcome='aprobado'\n",
    ")"
   ]
  },
  {
   "cell_type": "code",
   "execution_count": 8,
   "metadata": {},
   "outputs": [
    {
     "name": "stdout",
     "output_type": "stream",
     "text": [
      "propensity_score_matching\n",
      "*** Causal Estimate ***\n",
      "\n",
      "## Identified estimand\n",
      "No directed path from ['e29'] to ['aprobado'] in the causal graph.\n",
      "Causal effect is zero.\n",
      "## Realized estimand\n",
      "None\n",
      "## Estimate\n",
      "Mean value: 0\n",
      "\n"
     ]
    }
   ],
   "source": [
    "# Identificar el estimando causal\n",
    "identified_estimand = model.identify_effect()\n",
    "\n",
    "# Estimar el efecto causal utilizando propensity score matching\n",
    "estimate = model.estimate_effect(\n",
    "    identified_estimand, method_name=\"backdoor.propensity_score_matching\"\n",
    ")\n",
    "\n",
    "# Imprimir el resultado\n",
    "print(estimate)\n"
   ]
  },
  {
   "attachments": {},
   "cell_type": "markdown",
   "metadata": {},
   "source": [
    "El grafo causal especifica las siguientes relaciones:\n",
    "\n",
    "La variable hito1 tiene una flecha dirigida hacia la variable exitosos, lo cual indica que hito1 es una causa directa o un factor que puede influir en exitosos. Esta relación implica que los valores de hito1 pueden afectar los valores de exitosos.\n",
    "\n",
    "La variable hito1 también tiene una flecha dirigida hacia la variable aprobado, lo cual indica que hito1 es una causa directa o un factor que puede influir en aprobado. Esta relación implica que los valores de hito1 pueden afectar los valores de aprobado.\n",
    "\n",
    "La variable exitosos también tiene una flecha dirigida hacia la variable aprobado, lo cual indica que exitosos es una causa directa o un factor que puede influir en aprobado. Esta relación implica que los valores de exitosos pueden afectar los valores de aprobado."
   ]
  },
  {
   "cell_type": "code",
   "execution_count": 9,
   "metadata": {},
   "outputs": [],
   "source": [
    "#creando graph manual.\n",
    "causal_graph = \"\"\"\n",
    "digraph {\n",
    "    e29 -> aprobado;\n",
    "    e29 -> e42;\n",
    "    e29 -> e35;\n",
    "    e29 -> e3;\n",
    "    e49 -> aprobado;\n",
    "    e35 -> aprobado;\n",
    "    e33 -> aprobado;\n",
    "}\n",
    "\"\"\""
   ]
  },
  {
   "cell_type": "code",
   "execution_count": 10,
   "metadata": {},
   "outputs": [],
   "source": [
    "#creando objeto causal\n",
    "model = CausalModel(data=df, graph=causal_graph, treatment='e29', outcome='aprobado')\n"
   ]
  },
  {
   "cell_type": "code",
   "execution_count": 11,
   "metadata": {},
   "outputs": [
    {
     "name": "stdout",
     "output_type": "stream",
     "text": [
      "linear_regression\n",
      "{'control_value': 0, 'treatment_value': 1, 'test_significance': None, 'evaluate_effect_strength': False, 'confidence_intervals': False, 'target_units': 'ate', 'effect_modifiers': ['e33', 'e49']}\n",
      "*** Causal Estimate ***\n",
      "\n",
      "## Identified estimand\n",
      "Estimand type: nonparametric-ate\n",
      "\n",
      "### Estimand : 1\n",
      "Estimand name: backdoor\n",
      "Estimand expression:\n",
      "  d                \n",
      "──────(E[aprobado])\n",
      "d[e₂₉]             \n",
      "Estimand assumption 1, Unconfoundedness: If U→{e29} and U→aprobado then P(aprobado|e29,,U) = P(aprobado|e29,)\n",
      "\n",
      "## Realized estimand\n",
      "b: aprobado~e29+e29*e33+e29*e49\n",
      "Target units: ate\n",
      "\n",
      "## Estimate\n",
      "Mean value: 0.33230805216069464\n",
      "### Conditional Estimates\n",
      "Empty DataFrame\n",
      "Columns: [e0, e1, e2, e3, e4, e5, e6, e7, e8, e9, e10, e11, e12, e13, e14, e15, e16, e17, e18, e19, e20, e21, e22, e23, e24, e25, e26, e27, e28, e29, e30, e31, e32, e33, e34, e35, e36, e37, e38, e39, e40, e41, e42, e43, e44, e45, e46, e47, e48, e49, e50, e51, e52, aprobado, __categorical__e33, __categorical__e49]\n",
      "Index: []\n",
      "\n",
      "[0 rows x 56 columns]\n"
     ]
    }
   ],
   "source": [
    "# Identificar el estimando causal utilizando regresión lineal\n",
    "identified_estimand = model.identify_effect(proceed_when_unidentifiable=True)\n",
    "# Estimar el efecto causal utilizando el método de regresión lineal de covariables\n",
    "estimate = model.estimate_effect(identified_estimand, method_name=\"backdoor.linear_regression\")\n",
    "# Imprimir el resultado de la estimación\n",
    "print(estimate)\n"
   ]
  },
  {
   "cell_type": "code",
   "execution_count": 13,
   "metadata": {},
   "outputs": [
    {
     "name": "stdout",
     "output_type": "stream",
     "text": [
      "aprobado    1.000000e+00\n",
      "e45         0.000000e+00\n",
      "e29_0      -4.560895e-17\n",
      "dtype: float64\n"
     ]
    }
   ],
   "source": [
    "# Discretizar la variable continua en intervalos\n",
    "num_bins = 5\n",
    "df['e29_bins'] = pd.qcut(df['e29'], q=num_bins, labels=False, duplicates='drop')\n",
    "\n",
    "# Crear variables dummy para cada categoría de tratamiento\n",
    "dummy_variables = pd.get_dummies(df['e29_bins'], prefix='e29')\n",
    "\n",
    "# Combinar las variables dummy con las covariables\n",
    "covariates = pd.concat([df[['aprobado', 'e45']], dummy_variables], axis=1)\n",
    "\n",
    "# Ajustar un modelo de regresión múltiple\n",
    "model = sm.OLS(df['aprobado'], sm.add_constant(covariates))\n",
    "results = model.fit()\n",
    "\n",
    "# Obtener los coeficientes de regresión\n",
    "coefficients = results.params\n",
    "\n",
    "# Imprimir los coeficientes de regresión\n",
    "print(coefficients)"
   ]
  },
  {
   "cell_type": "code",
   "execution_count": 14,
   "metadata": {},
   "outputs": [],
   "source": [
    "# Paso 1: Modelar un problema causal\n",
    "model = CausalModel(\n",
    "    data=df,\n",
    "    treatment='e29',  # Variable tratada (exposición)\n",
    "    outcome='aprobado',  # Variable de resultado\n",
    "    common_causes=['e0', 'e1', 'e2', 'e3', 'e4', 'e5', 'e6', 'e7', 'e8', 'e9', 'e10',\n",
    "       'e11', 'e12', 'e13', 'e14', 'e15', 'e16', 'e17', 'e18', 'e19', 'e20',\n",
    "       'e21', 'e22', 'e23', 'e24', 'e25', 'e26', 'e27', 'e28', 'e30',\n",
    "       'e31', 'e32', 'e33', 'e34', 'e35', 'e36', 'e37', 'e38', 'e39', 'e40',\n",
    "       'e41', 'e42', 'e43', 'e44', 'e45', 'e46', 'e47', 'e48', 'e49', 'e50',\n",
    "       'e51', 'e52']  # Variables de causa común\n",
    ")"
   ]
  },
  {
   "cell_type": "code",
   "execution_count": 15,
   "metadata": {},
   "outputs": [],
   "source": [
    "# Paso 2: Identificar el estimando objetivo bajo el modelo\n",
    "identified_estimand = model.identify_effect(proceed_when_unidentifiable=True)"
   ]
  },
  {
   "cell_type": "code",
   "execution_count": 16,
   "metadata": {},
   "outputs": [
    {
     "name": "stdout",
     "output_type": "stream",
     "text": [
      "propensity_score_matching\n",
      "*** Causal Estimate ***\n",
      "\n",
      "## Identified estimand\n",
      "Estimand type: nonparametric-ate\n",
      "\n",
      "### Estimand : 1\n",
      "Estimand name: backdoor\n",
      "Estimand expression:\n",
      "  d                                                                           \n",
      "──────(E[aprobado|e0,e8,e17,e40,e20,e25,e38,e52,e49,e37,e14,e4,e24,e30,e10,e27\n",
      "d[e₂₉]                                                                        \n",
      "\n",
      "                                                                              \n",
      ",e31,e3,e33,e2,e12,e41,e5,e9,e13,e47,e48,e50,e51,e28,e7,e34,e26,e42,e22,e1,e18\n",
      "                                                                              \n",
      "\n",
      "                                                             \n",
      ",e36,e32,e39,e44,e35,e23,e46,e16,e45,e43,e11,e21,e19,e6,e15])\n",
      "                                                             \n",
      "Estimand assumption 1, Unconfoundedness: If U→{e29} and U→aprobado then P(aprobado|e29,e0,e8,e17,e40,e20,e25,e38,e52,e49,e37,e14,e4,e24,e30,e10,e27,e31,e3,e33,e2,e12,e41,e5,e9,e13,e47,e48,e50,e51,e28,e7,e34,e26,e42,e22,e1,e18,e36,e32,e39,e44,e35,e23,e46,e16,e45,e43,e11,e21,e19,e6,e15,U) = P(aprobado|e29,e0,e8,e17,e40,e20,e25,e38,e52,e49,e37,e14,e4,e24,e30,e10,e27,e31,e3,e33,e2,e12,e41,e5,e9,e13,e47,e48,e50,e51,e28,e7,e34,e26,e42,e22,e1,e18,e36,e32,e39,e44,e35,e23,e46,e16,e45,e43,e11,e21,e19,e6,e15)\n",
      "\n",
      "## Realized estimand\n",
      "b: aprobado~e29+e0+e8+e17+e40+e20+e25+e38+e52+e49+e37+e14+e4+e24+e30+e10+e27+e31+e3+e33+e2+e12+e41+e5+e9+e13+e47+e48+e50+e51+e28+e7+e34+e26+e42+e22+e1+e18+e36+e32+e39+e44+e35+e23+e46+e16+e45+e43+e11+e21+e19+e6+e15\n",
      "Target units: ate\n",
      "\n",
      "## Estimate\n",
      "Mean value: 0.14779499404052443\n",
      "\n"
     ]
    }
   ],
   "source": [
    "# Paso 3: Estimar el efecto causal basado en el estimando identificado\n",
    "estimate = model.estimate_effect(identified_estimand,\n",
    "                                 method_name='backdoor.propensity_score_matching')\n",
    "print(estimate)"
   ]
  },
  {
   "cell_type": "code",
   "execution_count": 17,
   "metadata": {},
   "outputs": [],
   "source": [
    "# Paso 4: Refutar el estimado obtenido\n",
    "refute_results = model.refute_estimate(identified_estimand, estimate,\n",
    "                                       method_name='random_common_cause')"
   ]
  },
  {
   "cell_type": "code",
   "execution_count": null,
   "metadata": {},
   "outputs": [
    {
     "name": "stdout",
     "output_type": "stream",
     "text": [
      "*** Causal Estimate ***\n",
      "\n",
      "## Identified estimand\n",
      "Estimand type: nonparametric-ate\n",
      "\n",
      "### Estimand : 1\n",
      "Estimand name: backdoor\n",
      "Estimand expression:\n",
      "  d                                                                           \n",
      "──────(E[aprobado|e50,e37,e11,e9,e12,e18,e2,e17,e24,e49,e47,e22,e51,e25,e30,e4\n",
      "d[e₂₉]                                                                        \n",
      "\n",
      "                                                                              \n",
      "2,e31,e3,e48,e36,e15,e5,e43,e44,e35,e27,e32,e7,e1,e13,e23,e38,e0,e52,e16,e39,e\n",
      "                                                                              \n",
      "\n",
      "                                                             \n",
      "41,e21,e14,e6,e28,e10,e4,e20,e34,e8,e19,e26,e46,e33,e40,e45])\n",
      "                                                             \n",
      "Estimand assumption 1, Unconfoundedness: If U→{e29} and U→aprobado then P(aprobado|e29,e50,e37,e11,e9,e12,e18,e2,e17,e24,e49,e47,e22,e51,e25,e30,e42,e31,e3,e48,e36,e15,e5,e43,e44,e35,e27,e32,e7,e1,e13,e23,e38,e0,e52,e16,e39,e41,e21,e14,e6,e28,e10,e4,e20,e34,e8,e19,e26,e46,e33,e40,e45,U) = P(aprobado|e29,e50,e37,e11,e9,e12,e18,e2,e17,e24,e49,e47,e22,e51,e25,e30,e42,e31,e3,e48,e36,e15,e5,e43,e44,e35,e27,e32,e7,e1,e13,e23,e38,e0,e52,e16,e39,e41,e21,e14,e6,e28,e10,e4,e20,e34,e8,e19,e26,e46,e33,e40,e45)\n",
      "\n",
      "## Realized estimand\n",
      "b: aprobado~e29+e50+e37+e11+e9+e12+e18+e2+e17+e24+e49+e47+e22+e51+e25+e30+e42+e31+e3+e48+e36+e15+e5+e43+e44+e35+e27+e32+e7+e1+e13+e23+e38+e0+e52+e16+e39+e41+e21+e14+e6+e28+e10+e4+e20+e34+e8+e19+e26+e46+e33+e40+e45\n",
      "Target units: ate\n",
      "\n",
      "## Estimate\n",
      "Mean value: 0.14779499404052443\n",
      "\n",
      "Refute: Add a random common cause\n",
      "Estimated effect:0.14779499404052443\n",
      "New effect:0.1337663885578069\n",
      "p value:0.7\n",
      "\n"
     ]
    }
   ],
   "source": [
    "# Resultados\n",
    "print(estimate)\n",
    "print(refute_results)"
   ]
  }
 ],
 "metadata": {
  "kernelspec": {
   "display_name": "Python 3",
   "language": "python",
   "name": "python3"
  },
  "language_info": {
   "codemirror_mode": {
    "name": "ipython",
    "version": 3
   },
   "file_extension": ".py",
   "mimetype": "text/x-python",
   "name": "python",
   "nbconvert_exporter": "python",
   "pygments_lexer": "ipython3",
   "version": "3.11.3"
  },
  "orig_nbformat": 4
 },
 "nbformat": 4,
 "nbformat_minor": 2
}
