{
 "cells": [
  {
   "cell_type": "code",
   "execution_count": 2,
   "metadata": {},
   "outputs": [
    {
     "name": "stdout",
     "output_type": "stream",
     "text": [
      "../resources/allColProSol.xlsx\n",
      "../resources/dataset_a_2021.csv\n",
      "../resources/dataset_a_2021c2.csv\n",
      "../resources/dataset_a_2021v1.xlsx\n",
      "../resources/dataset_unab_ORIGINAL SIN P1.csv\n",
      "../resources/dataset_unab_P1.csv\n",
      "../resources/exitoFallidoEnviosProgramaSol.xlsx\n",
      "../resources/exitoFallidoProgramaSol.xlsx\n",
      "../resources/exitosoFallidosEnviosAllColProSol.xlsx\n",
      "../resources/exitosoFallidosEnviosAllColSol.xlsx\n",
      "../resources/exitososFallidosEnviosSol.xlsx\n",
      "../resources/Hito12sinColCeroExitosoFallidosSol.xlsx\n",
      "../resources/sinColCeroExitosoFallidosEnviosSol.xlsx\n",
      "../resources/sinColCeroExitosoFallidosSol.xlsx\n",
      "../resources/v2_hitosExitoFalloColESol1.csv\n",
      "../resources/v2_hitosExitoFalloColESol1Prograna.csv\n",
      "../resources/v2_hitosExitoFalloSol1Programa.csv\n"
     ]
    }
   ],
   "source": [
    "import dowhy\n",
    "from dowhy import CausalModel\n",
    "import warnings\n",
    "import pandas as pd # data processing, CSV file I/O (e.g. pd.read_csv)\n",
    "from sys import path\n",
    "import os\n",
    "for dirname, _, filenames in os.walk('../resources/'):\n",
    "    for filename in filenames:\n",
    "        print(os.path.join(dirname, filename))\n",
    "path.append(os.path.realpath('../'))\n",
    "\n",
    "from custom import funtions\n",
    "\n",
    "warnings.filterwarnings('ignore')"
   ]
  },
  {
   "cell_type": "code",
   "execution_count": 3,
   "metadata": {},
   "outputs": [],
   "source": [
    "# Read and preview data\n",
    "df = pd.read_csv(\"../resources/v2_hitosExitoFalloColESol1.csv\", delimiter=\";\", skipinitialspace=True)"
   ]
  },
  {
   "cell_type": "code",
   "execution_count": 4,
   "metadata": {},
   "outputs": [],
   "source": [
    "# Convertir la columna \"sol1\" a números de punto flotante\n",
    "df['sol1'] = df['sol1'].astype(float)\n",
    "df['exitosos'] = df['exitosos'].astype(int)\n",
    "df['fallidos'] = df['fallidos'].astype(int)"
   ]
  },
  {
   "cell_type": "code",
   "execution_count": 5,
   "metadata": {},
   "outputs": [
    {
     "name": "stdout",
     "output_type": "stream",
     "text": [
      "Index(['hito1', 'hito2', 'exitosos', 'fallidos', 'e0', 'e1', 'e2', 'e3', 'e4',\n",
      "       'e5', 'e6', 'e7', 'e8', 'e9', 'e10', 'e11', 'e12', 'e13', 'e14', 'e15',\n",
      "       'e16', 'e17', 'e18', 'e19', 'e20', 'e21', 'e22', 'e23', 'e24', 'e25',\n",
      "       'e26', 'e27', 'e28', 'e29', 'e30', 'e31', 'e32', 'e33', 'e34', 'e35',\n",
      "       'e36', 'e37', 'e38', 'e39', 'e40', 'e41', 'e42', 'e43', 'e44', 'e45',\n",
      "       'e46', 'e47', 'e48', 'e49', 'e50', 'e51', 'e52', 'sol1', 'aprobado'],\n",
      "      dtype='object')\n"
     ]
    }
   ],
   "source": [
    "#creando columna aprobado y con la funcion set_in_aprobado_nota poblamos la nueva columna.\n",
    "df['aprobado']=df.apply(lambda x: funtions.set_in_aprobado_nota(x['sol1']),axis = 1 )\n",
    "#revisamos la existencia de la nueva columna.\n",
    "print(df.columns)"
   ]
  },
  {
   "cell_type": "code",
   "execution_count": 7,
   "metadata": {},
   "outputs": [
    {
     "ename": "FileNotFoundError",
     "evalue": "[Errno 2] No such file or directory: 'E:\\\\dev\\\\tesis\\\\jupyter_notebook\\\\resources\\\\causalidad\\\\causalidad.dot'",
     "output_type": "error",
     "traceback": [
      "\u001b[1;31m---------------------------------------------------------------------------\u001b[0m",
      "\u001b[1;31mModuleNotFoundError\u001b[0m                       Traceback (most recent call last)",
      "File \u001b[1;32mc:\\Users\\ton\\AppData\\Local\\Programs\\Python\\Python311\\Lib\\site-packages\\dowhy\\causal_graph.py:57\u001b[0m, in \u001b[0;36mCausalGraph.__init__\u001b[1;34m(self, treatment_name, outcome_name, graph, common_cause_names, instrument_names, effect_modifier_names, mediator_names, observed_node_names, missing_nodes_as_confounders)\u001b[0m\n\u001b[0;32m     56\u001b[0m \u001b[39mtry\u001b[39;00m:\n\u001b[1;32m---> 57\u001b[0m     \u001b[39mimport\u001b[39;00m \u001b[39mpygraphviz\u001b[39;00m \u001b[39mas\u001b[39;00m \u001b[39mpgv\u001b[39;00m\n\u001b[0;32m     58\u001b[0m     \u001b[39mself\u001b[39m\u001b[39m.\u001b[39m_graph \u001b[39m=\u001b[39m nx\u001b[39m.\u001b[39mDiGraph(nx\u001b[39m.\u001b[39mdrawing\u001b[39m.\u001b[39mnx_agraph\u001b[39m.\u001b[39mread_dot(graph))\n",
      "\u001b[1;31mModuleNotFoundError\u001b[0m: No module named 'pygraphviz'",
      "\nDuring handling of the above exception, another exception occurred:\n",
      "\u001b[1;31mFileNotFoundError\u001b[0m                         Traceback (most recent call last)",
      "Cell \u001b[1;32mIn[7], line 5\u001b[0m\n\u001b[0;32m      2\u001b[0m data \u001b[39m=\u001b[39m df\u001b[39m.\u001b[39mcopy()\n\u001b[0;32m      4\u001b[0m \u001b[39m# Crear el objeto CausalModel y especificar las variables y sus relaciones causales\u001b[39;00m\n\u001b[1;32m----> 5\u001b[0m model \u001b[39m=\u001b[39m CausalModel(\n\u001b[0;32m      6\u001b[0m     data\u001b[39m=\u001b[39;49mdata,\n\u001b[0;32m      7\u001b[0m     treatment\u001b[39m=\u001b[39;49m\u001b[39m\"\u001b[39;49m\u001b[39mvariable_tratamiento\u001b[39;49m\u001b[39m\"\u001b[39;49m,\n\u001b[0;32m      8\u001b[0m     outcome\u001b[39m=\u001b[39;49m\u001b[39m\"\u001b[39;49m\u001b[39mvariable_objetivo\u001b[39;49m\u001b[39m\"\u001b[39;49m,\n\u001b[0;32m      9\u001b[0m     graph\u001b[39m=\u001b[39;49m\u001b[39m\"\u001b[39;49m\u001b[39mE:\u001b[39;49m\u001b[39m\\\\\u001b[39;49;00m\u001b[39mdev\u001b[39;49m\u001b[39m\\\\\u001b[39;49;00m\u001b[39mtesis\u001b[39;49m\u001b[39m\\\\\u001b[39;49;00m\u001b[39mjupyter_notebook\u001b[39;49m\u001b[39m\\\\\u001b[39;49;00m\u001b[39mresources\u001b[39;49m\u001b[39m\\\\\u001b[39;49;00m\u001b[39mcausalidad\u001b[39;49m\u001b[39m\\\\\u001b[39;49;00m\u001b[39mcausalidad.dot\u001b[39;49m\u001b[39m\"\u001b[39;49m  \u001b[39m# Especifica la ruta y el nombre del archivo DOT de salida\u001b[39;49;00m\n\u001b[0;32m     10\u001b[0m )\n",
      "File \u001b[1;32mc:\\Users\\ton\\AppData\\Local\\Programs\\Python\\Python311\\Lib\\site-packages\\dowhy\\causal_model.py:109\u001b[0m, in \u001b[0;36mCausalModel.__init__\u001b[1;34m(self, data, treatment, outcome, graph, common_causes, instruments, effect_modifiers, estimand_type, proceed_when_unidentifiable, missing_nodes_as_confounders, identify_vars, **kwargs)\u001b[0m\n\u001b[0;32m    102\u001b[0m         \u001b[39mself\u001b[39m\u001b[39m.\u001b[39m_graph \u001b[39m=\u001b[39m CausalGraph(\n\u001b[0;32m    103\u001b[0m             \u001b[39mself\u001b[39m\u001b[39m.\u001b[39m_treatment,\n\u001b[0;32m    104\u001b[0m             \u001b[39mself\u001b[39m\u001b[39m.\u001b[39m_outcome,\n\u001b[0;32m    105\u001b[0m             effect_modifier_names \u001b[39m=\u001b[39m \u001b[39mself\u001b[39m\u001b[39m.\u001b[39m_effect_modifiers,\n\u001b[0;32m    106\u001b[0m             observed_node_names\u001b[39m=\u001b[39m\u001b[39mself\u001b[39m\u001b[39m.\u001b[39m_data\u001b[39m.\u001b[39mcolumns\u001b[39m.\u001b[39mtolist()\n\u001b[0;32m    107\u001b[0m         )\n\u001b[0;32m    108\u001b[0m \u001b[39melse\u001b[39;00m:\n\u001b[1;32m--> 109\u001b[0m     \u001b[39mself\u001b[39;49m\u001b[39m.\u001b[39;49minit_graph(graph\u001b[39m=\u001b[39;49mgraph, identify_vars\u001b[39m=\u001b[39;49midentify_vars)\n\u001b[0;32m    111\u001b[0m \u001b[39mself\u001b[39m\u001b[39m.\u001b[39m_other_variables \u001b[39m=\u001b[39m kwargs\n\u001b[0;32m    112\u001b[0m \u001b[39mself\u001b[39m\u001b[39m.\u001b[39msummary()\n",
      "File \u001b[1;32mc:\\Users\\ton\\AppData\\Local\\Programs\\Python\\Python311\\Lib\\site-packages\\dowhy\\causal_model.py:120\u001b[0m, in \u001b[0;36mCausalModel.init_graph\u001b[1;34m(self, graph, identify_vars)\u001b[0m\n\u001b[0;32m    115\u001b[0m \u001b[39m\u001b[39m\u001b[39m'''\u001b[39;00m\n\u001b[0;32m    116\u001b[0m \u001b[39mInitialize self._graph using graph provided by the user.\u001b[39;00m\n\u001b[0;32m    117\u001b[0m \n\u001b[0;32m    118\u001b[0m \u001b[39m'''\u001b[39;00m\n\u001b[0;32m    119\u001b[0m \u001b[39m# Create causal graph object\u001b[39;00m\n\u001b[1;32m--> 120\u001b[0m \u001b[39mself\u001b[39m\u001b[39m.\u001b[39m_graph \u001b[39m=\u001b[39m CausalGraph(\n\u001b[0;32m    121\u001b[0m     \u001b[39mself\u001b[39;49m\u001b[39m.\u001b[39;49m_treatment,\n\u001b[0;32m    122\u001b[0m     \u001b[39mself\u001b[39;49m\u001b[39m.\u001b[39;49m_outcome,\n\u001b[0;32m    123\u001b[0m     graph,\n\u001b[0;32m    124\u001b[0m     effect_modifier_names\u001b[39m=\u001b[39;49m\u001b[39mself\u001b[39;49m\u001b[39m.\u001b[39;49m_effect_modifiers,\n\u001b[0;32m    125\u001b[0m     observed_node_names\u001b[39m=\u001b[39;49m\u001b[39mself\u001b[39;49m\u001b[39m.\u001b[39;49m_data\u001b[39m.\u001b[39;49mcolumns\u001b[39m.\u001b[39;49mtolist(),\n\u001b[0;32m    126\u001b[0m     missing_nodes_as_confounders \u001b[39m=\u001b[39;49m \u001b[39mself\u001b[39;49m\u001b[39m.\u001b[39;49m_missing_nodes_as_confounders\n\u001b[0;32m    127\u001b[0m )\n\u001b[0;32m    129\u001b[0m \u001b[39mif\u001b[39;00m identify_vars:\n\u001b[0;32m    130\u001b[0m     \u001b[39mself\u001b[39m\u001b[39m.\u001b[39m_common_causes \u001b[39m=\u001b[39m \u001b[39mself\u001b[39m\u001b[39m.\u001b[39m_graph\u001b[39m.\u001b[39mget_common_causes(\u001b[39mself\u001b[39m\u001b[39m.\u001b[39m_treatment, \u001b[39mself\u001b[39m\u001b[39m.\u001b[39m_outcome)\n",
      "File \u001b[1;32mc:\\Users\\ton\\AppData\\Local\\Programs\\Python\\Python311\\Lib\\site-packages\\dowhy\\causal_graph.py:66\u001b[0m, in \u001b[0;36mCausalGraph.__init__\u001b[1;34m(self, treatment_name, outcome_name, graph, common_cause_names, instrument_names, effect_modifier_names, mediator_names, observed_node_names, missing_nodes_as_confounders)\u001b[0m\n\u001b[0;32m     64\u001b[0m         \u001b[39mexcept\u001b[39;00m \u001b[39mException\u001b[39;00m \u001b[39mas\u001b[39;00m e:\n\u001b[0;32m     65\u001b[0m             \u001b[39mself\u001b[39m\u001b[39m.\u001b[39mlogger\u001b[39m.\u001b[39merror(\u001b[39m\"\u001b[39m\u001b[39mError: Pydot cannot be loaded. \u001b[39m\u001b[39m\"\u001b[39m \u001b[39m+\u001b[39m \u001b[39mstr\u001b[39m(e))\n\u001b[1;32m---> 66\u001b[0m             \u001b[39mraise\u001b[39;00m e\n\u001b[0;32m     67\u001b[0m \u001b[39melif\u001b[39;00m re\u001b[39m.\u001b[39mmatch(\u001b[39mr\u001b[39m\u001b[39m\"\u001b[39m\u001b[39m.*\u001b[39m\u001b[39m\\\u001b[39m\u001b[39m.gml\u001b[39m\u001b[39m\"\u001b[39m, graph):\n\u001b[0;32m     68\u001b[0m     \u001b[39mself\u001b[39m\u001b[39m.\u001b[39m_graph \u001b[39m=\u001b[39m nx\u001b[39m.\u001b[39mDiGraph(nx\u001b[39m.\u001b[39mread_gml(graph))\n",
      "File \u001b[1;32mc:\\Users\\ton\\AppData\\Local\\Programs\\Python\\Python311\\Lib\\site-packages\\dowhy\\causal_graph.py:63\u001b[0m, in \u001b[0;36mCausalGraph.__init__\u001b[1;34m(self, treatment_name, outcome_name, graph, common_cause_names, instrument_names, effect_modifier_names, mediator_names, observed_node_names, missing_nodes_as_confounders)\u001b[0m\n\u001b[0;32m     61\u001b[0m \u001b[39mtry\u001b[39;00m:\n\u001b[0;32m     62\u001b[0m     \u001b[39mimport\u001b[39;00m \u001b[39mpydot\u001b[39;00m\n\u001b[1;32m---> 63\u001b[0m     \u001b[39mself\u001b[39m\u001b[39m.\u001b[39m_graph \u001b[39m=\u001b[39m nx\u001b[39m.\u001b[39mDiGraph(nx\u001b[39m.\u001b[39;49mdrawing\u001b[39m.\u001b[39;49mnx_pydot\u001b[39m.\u001b[39;49mread_dot(graph))\n\u001b[0;32m     64\u001b[0m \u001b[39mexcept\u001b[39;00m \u001b[39mException\u001b[39;00m \u001b[39mas\u001b[39;00m e:\n\u001b[0;32m     65\u001b[0m     \u001b[39mself\u001b[39m\u001b[39m.\u001b[39mlogger\u001b[39m.\u001b[39merror(\u001b[39m\"\u001b[39m\u001b[39mError: Pydot cannot be loaded. \u001b[39m\u001b[39m\"\u001b[39m \u001b[39m+\u001b[39m \u001b[39mstr\u001b[39m(e))\n",
      "File \u001b[1;32m<class 'networkx.utils.decorators.argmap'> compilation 5:3\u001b[0m, in \u001b[0;36margmap_read_dot_1\u001b[1;34m(path)\u001b[0m\n\u001b[0;32m      1\u001b[0m \u001b[39mimport\u001b[39;00m \u001b[39mbz2\u001b[39;00m\n\u001b[0;32m      2\u001b[0m \u001b[39mimport\u001b[39;00m \u001b[39mcollections\u001b[39;00m\n\u001b[1;32m----> 3\u001b[0m \u001b[39mimport\u001b[39;00m \u001b[39mgzip\u001b[39;00m\n\u001b[0;32m      4\u001b[0m \u001b[39mimport\u001b[39;00m \u001b[39minspect\u001b[39;00m\n\u001b[0;32m      5\u001b[0m \u001b[39mimport\u001b[39;00m \u001b[39mitertools\u001b[39;00m\n",
      "File \u001b[1;32m~\\AppData\\Roaming\\Python\\Python311\\site-packages\\networkx\\utils\\decorators.py:189\u001b[0m, in \u001b[0;36mopen_file.<locals>._open_file\u001b[1;34m(path)\u001b[0m\n\u001b[0;32m    185\u001b[0m \u001b[39melse\u001b[39;00m:\n\u001b[0;32m    186\u001b[0m     \u001b[39m# could be None, or a file handle, in which case the algorithm will deal with it\u001b[39;00m\n\u001b[0;32m    187\u001b[0m     \u001b[39mreturn\u001b[39;00m path, \u001b[39mlambda\u001b[39;00m: \u001b[39mNone\u001b[39;00m\n\u001b[1;32m--> 189\u001b[0m fobj \u001b[39m=\u001b[39m _dispatch_dict[ext](path, mode\u001b[39m=\u001b[39;49mmode)\n\u001b[0;32m    190\u001b[0m \u001b[39mreturn\u001b[39;00m fobj, \u001b[39mlambda\u001b[39;00m: fobj\u001b[39m.\u001b[39mclose()\n",
      "\u001b[1;31mFileNotFoundError\u001b[0m: [Errno 2] No such file or directory: 'E:\\\\dev\\\\tesis\\\\jupyter_notebook\\\\resources\\\\causalidad\\\\causalidad.dot'"
     ]
    }
   ],
   "source": [
    "# Cargar los datos en un DataFrame\n",
    "data = df.copy()\n",
    "\n",
    "# Crear el objeto CausalModel y especificar las variables y sus relaciones causales\n",
    "model = CausalModel(\n",
    "    data=data,\n",
    "    treatment=\"variable_tratamiento\",\n",
    "    outcome=\"variable_objetivo\",\n",
    "    graph=\"E:\\\\dev\\\\tesis\\\\jupyter_notebook\\\\resources\\\\causalidad\\\\causalidad.dot\"  # Especifica la ruta y el nombre del archivo DOT de salida\n",
    ")"
   ]
  }
 ],
 "metadata": {
  "kernelspec": {
   "display_name": "Python 3",
   "language": "python",
   "name": "python3"
  },
  "language_info": {
   "codemirror_mode": {
    "name": "ipython",
    "version": 3
   },
   "file_extension": ".py",
   "mimetype": "text/x-python",
   "name": "python",
   "nbconvert_exporter": "python",
   "pygments_lexer": "ipython3",
   "version": "3.11.0"
  },
  "orig_nbformat": 4
 },
 "nbformat": 4,
 "nbformat_minor": 2
}
