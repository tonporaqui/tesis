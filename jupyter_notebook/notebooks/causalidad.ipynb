{
 "cells": [
  {
   "cell_type": "code",
   "execution_count": 84,
   "metadata": {},
   "outputs": [
    {
     "name": "stdout",
     "output_type": "stream",
     "text": [
      "../resources/allColProSol.xlsx\n",
      "../resources/dataset_a_2021.csv\n",
      "../resources/dataset_a_2021c2.csv\n",
      "../resources/dataset_a_2021v1.xlsx\n",
      "../resources/dataset_unab_ORIGINAL SIN P1.csv\n",
      "../resources/dataset_unab_P1.csv\n",
      "../resources/exitoFallidoEnviosProgramaSol.xlsx\n",
      "../resources/exitoFallidoProgramaSol.xlsx\n",
      "../resources/exitosoFallidosEnviosAllColProSol.xlsx\n",
      "../resources/exitosoFallidosEnviosAllColSol.xlsx\n",
      "../resources/exitososFallidosEnviosSol.xlsx\n",
      "../resources/Hito12sinColCeroExitosoFallidosSol.xlsx\n",
      "../resources/sinColCeroExitosoFallidosEnviosSol.xlsx\n",
      "../resources/sinColCeroExitosoFallidosSol.xlsx\n",
      "../resources/v2_hitosExitoFalloColESol1.csv\n",
      "../resources/v2_hitosExitoFalloColESol1Prograna.csv\n",
      "../resources/v2_hitosExitoFalloSol1Programa.csv\n",
      "../resources/causalidad\\causalidad.dot\n"
     ]
    }
   ],
   "source": [
    "import pygraphviz as pgv\n",
    "import pandas as pd\n",
    "import dowhy\n",
    "from dowhy import CausalModel\n",
    "import warnings\n",
    "import pandas as pd # data processing, CSV file I/O (e.g. pd.read_csv)\n",
    "from sys import path\n",
    "import os\n",
    "for dirname, _, filenames in os.walk('../resources/'):\n",
    "    for filename in filenames:\n",
    "        print(os.path.join(dirname, filename))\n",
    "path.append(os.path.realpath('../'))\n",
    "\n",
    "from custom import funtions\n",
    "\n",
    "warnings.filterwarnings('ignore')"
   ]
  },
  {
   "cell_type": "code",
   "execution_count": 85,
   "metadata": {},
   "outputs": [],
   "source": [
    "# Read and preview data\n",
    "df = pd.read_csv(\"../resources/v2_hitosExitoFalloColESol1.csv\", delimiter=\";\", skipinitialspace=True)"
   ]
  },
  {
   "cell_type": "code",
   "execution_count": 86,
   "metadata": {},
   "outputs": [],
   "source": [
    "# Convertir la columna \"sol1\" a números de punto flotante\n",
    "df['sol1'] = df['sol1'].astype(float)\n",
    "df['exitosos'] = df['exitosos'].astype(int)\n",
    "df['fallidos'] = df['fallidos'].astype(int)"
   ]
  },
  {
   "cell_type": "code",
   "execution_count": 87,
   "metadata": {},
   "outputs": [
    {
     "name": "stdout",
     "output_type": "stream",
     "text": [
      "Index(['hito1', 'hito2', 'exitosos', 'fallidos', 'e0', 'e1', 'e2', 'e3', 'e4',\n",
      "       'e5', 'e6', 'e7', 'e8', 'e9', 'e10', 'e11', 'e12', 'e13', 'e14', 'e15',\n",
      "       'e16', 'e17', 'e18', 'e19', 'e20', 'e21', 'e22', 'e23', 'e24', 'e25',\n",
      "       'e26', 'e27', 'e28', 'e29', 'e30', 'e31', 'e32', 'e33', 'e34', 'e35',\n",
      "       'e36', 'e37', 'e38', 'e39', 'e40', 'e41', 'e42', 'e43', 'e44', 'e45',\n",
      "       'e46', 'e47', 'e48', 'e49', 'e50', 'e51', 'e52', 'sol1', 'aprobado'],\n",
      "      dtype='object')\n"
     ]
    }
   ],
   "source": [
    "#creando columna aprobado y con la funcion set_in_aprobado_nota poblamos la nueva columna.\n",
    "df['aprobado']=df.apply(lambda x: funtions.set_in_aprobado_nota(x['sol1']),axis = 1 )\n",
    "#revisamos la existencia de la nueva columna.\n",
    "print(df.columns)"
   ]
  },
  {
   "cell_type": "code",
   "execution_count": 88,
   "metadata": {},
   "outputs": [],
   "source": [
    "# Crear un objeto del tipo AGraph\n",
    "graph = pgv.AGraph(directed=True)"
   ]
  },
  {
   "cell_type": "code",
   "execution_count": 89,
   "metadata": {},
   "outputs": [],
   "source": [
    "# Agregar nodos al gráfico\n",
    "for column in df.columns:\n",
    "    graph.add_node(column)\n",
    "\n",
    "# Agregar aristas al gráfico\n",
    "for column in df.columns:\n",
    "    if column != 'exitosos' and column != 'aprobado':\n",
    "        graph.add_edge(column, 'exitosos')\n",
    "        graph.add_edge(column, 'aprobado')\n",
    "\n",
    "# Guardar el grafo en un archivo DOT en la ruta deseada\n",
    "graph.write(\"../resources/causalidad/causalidad.dot\")\n",
    "# Visualizar el gráfico\n",
    "graph.layout(prog='dot')\n",
    "graph.draw('../resources/causalidad/graph.png')"
   ]
  },
  {
   "cell_type": "code",
   "execution_count": 90,
   "metadata": {},
   "outputs": [],
   "source": [
    "# Lee el archivo DOT\n",
    "graph_path = \"../resources/causalidad/causalidad.dot\"\n",
    "model = CausalModel(\n",
    "    data=df,\n",
    "    graph=graph_path,\n",
    "    treatment='exitosos',\n",
    "    outcome='aprobado'\n",
    ")"
   ]
  },
  {
   "cell_type": "code",
   "execution_count": 91,
   "metadata": {},
   "outputs": [
    {
     "name": "stdout",
     "output_type": "stream",
     "text": [
      "propensity_score_matching\n",
      "*** Causal Estimate ***\n",
      "\n",
      "## Identified estimand\n",
      "No directed path from ['exitosos'] to ['aprobado'] in the causal graph.\n",
      "Causal effect is zero.\n",
      "## Realized estimand\n",
      "None\n",
      "## Estimate\n",
      "Mean value: 0\n",
      "\n"
     ]
    }
   ],
   "source": [
    "# Utilizar DoWhy para realizar un análisis causal\n",
    "# model = dowhy.api.CausalModel(\n",
    "#     data=df,\n",
    "#     treatment='hito1',\n",
    "#     outcome='aprobado',\n",
    "#     graph=graph\n",
    "# )\n",
    "identified_estimand = model.identify_effect()\n",
    "estimate = model.estimate_effect(identified_estimand, method_name=\"backdoor.propensity_score_matching\")\n",
    "\n",
    "print(estimate)\n"
   ]
  }
 ],
 "metadata": {
  "kernelspec": {
   "display_name": "Python 3",
   "language": "python",
   "name": "python3"
  },
  "language_info": {
   "codemirror_mode": {
    "name": "ipython",
    "version": 3
   },
   "file_extension": ".py",
   "mimetype": "text/x-python",
   "name": "python",
   "nbconvert_exporter": "python",
   "pygments_lexer": "ipython3",
   "version": "3.11.3"
  },
  "orig_nbformat": 4
 },
 "nbformat": 4,
 "nbformat_minor": 2
}
