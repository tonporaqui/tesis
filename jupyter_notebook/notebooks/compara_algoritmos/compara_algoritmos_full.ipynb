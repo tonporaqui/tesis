{
 "cells": [
  {
   "cell_type": "markdown",
   "metadata": {},
   "source": [
    "# **Comparar Algoritmos**\n",
    "\n",
    "# _Objetivo_\n",
    "\n",
    "- Realizar entrenamiento para los tipos de modelos.\n",
    "- Realizar Stratified K-Fold Cross-Validation (Validación cruzada estratificada de K particiones).\n",
    "- Realizar K-Fold Cross-Validation (Validación cruzada estratificada de K particiones).\n",
    "- Realizar entrenamiento y prediccion en cada kfold.\n",
    "- Realizar prediccion sobre el test del entrenamiento, asi obtener el mejor modelo.\n",
    "- Revisar los resultados obtenidos.\n",
    "- Conclusion\n"
   ]
  },
  {
   "cell_type": "markdown",
   "metadata": {},
   "source": [
    "# _Liberias_\n"
   ]
  },
  {
   "cell_type": "code",
   "execution_count": 1,
   "metadata": {},
   "outputs": [
    {
     "name": "stdout",
     "output_type": "stream",
     "text": [
      "../../resources/allColProSol.xlsx\n",
      "../../resources/dataset_a_2021.csv\n",
      "../../resources/dataset_a_2021c2.csv\n",
      "../../resources/dataset_a_2021v1.xlsx\n",
      "../../resources/dataset_unab_ORIGINAL SIN P1.csv\n",
      "../../resources/dataset_unab_P1.csv\n",
      "../../resources/exitoFallidoEnviosProgramaSol.xlsx\n",
      "../../resources/exitoFallidoProgramaSol.xlsx\n",
      "../../resources/exitosoFallidosEnviosAllColProSol.xlsx\n",
      "../../resources/exitosoFallidosEnviosAllColSol.xlsx\n",
      "../../resources/exitososFallidosEnviosSol.xlsx\n",
      "../../resources/Hito12sinColCeroExitosoFallidosSol.xlsx\n",
      "../../resources/sinColCeroExitosoFallidosEnviosSol.xlsx\n",
      "../../resources/sinColCeroExitosoFallidosSol.xlsx\n",
      "../../resources/v2_hitosExitoFalloColESol1.csv\n",
      "../../resources/v2_hitosExitoFalloColESol1Prograna.csv\n",
      "../../resources/v2_hitosExitoFalloSol1Programa.csv\n",
      "../../resources/causalidad\\causalidad.dot\n",
      "../../resources/causalidad\\causalidad.png\n",
      "../../resources/causalidad\\causalidad_e29.dot\n",
      "../../resources/causalidad\\graph_causal_model_e29.png\n",
      "../../resources/causalidad\\graph_causal_model_e29_with_unobserved.png\n",
      "../../resources/causalidad\\graph_causal_model_e3.png\n",
      "../../resources/causalidad\\graph_causal_model_e35.png\n",
      "../../resources/causalidad\\graph_causal_model_e35_with_unobserved.png\n",
      "../../resources/causalidad\\graph_causal_model_e3_2.png\n",
      "../../resources/causalidad\\graph_causal_model_e3_full.png\n",
      "../../resources/causalidad\\graph_causal_model_e3_full_with_unobserved.png\n",
      "../../resources/causalidad\\graph_causal_model_e3_with_unobserved.png\n",
      "../../resources/causalidad\\graph_causal_model_e42.png\n",
      "../../resources/causalidad\\graph_causal_model_e42_with_unobserved.png\n",
      "../../resources/causalidad\\graph_causal_model_exitosos.png\n",
      "../../resources/causalidad\\graph_causal_model_fallidos.png\n",
      "../../resources/causalidad\\graph_causal_model_hito1.png\n",
      "../../resources/causalidad\\graph_e29.png\n"
     ]
    }
   ],
   "source": [
    "import numpy as np  # Importa la biblioteca numpy para operaciones numéricas eficientes\n",
    "import pandas as pd  # Importa la biblioteca pandas para el análisis y manipulación de datos\n",
    "import matplotlib.pyplot as plt  # Importa la biblioteca matplotlib para visualización de datos\n",
    "from sklearn.model_selection import train_test_split, cross_validate\n",
    "from sklearn.metrics import make_scorer, accuracy_score, precision_score, recall_score, f1_score\n",
    "from sklearn.tree import DecisionTreeClassifier\n",
    "from sklearn.linear_model import LogisticRegression\n",
    "from sklearn.ensemble import RandomForestClassifier\n",
    "from xgboost import XGBClassifier\n",
    "\n",
    "import seaborn as sns  # Importa la biblioteca seaborn para visualización de datos avanzada\n",
    "\n",
    "import warnings  # Importa la biblioteca warnings para manejar advertencias\n",
    "from sys import path  # Importa la biblioteca sys para manejar rutas del sistema\n",
    "import os  # Importa la biblioteca os para interactuar con el sistema operativo\n",
    "\n",
    "# Itera sobre los archivos en el directorio \"../resources/\" e imprime sus rutas\n",
    "for dirname, _, filenames in os.walk(\"../../resources/\"):\n",
    "    for filename in filenames:\n",
    "        print(os.path.join(dirname, filename))\n",
    "\n",
    "path.append(os.path.realpath(\"../../\"))  # Agrega la ruta \"../\" al path del sistema\n",
    "\n",
    "from custom import functions  # Importa un módulo personalizado llamado \"functions\"\n",
    "\n",
    "warnings.filterwarnings(\n",
    "    \"ignore\"\n",
    ")  # Ignora las advertencias durante la ejecución del programa"
   ]
  },
  {
   "cell_type": "markdown",
   "metadata": {},
   "source": [
    "# _Carga DataFrame_\n"
   ]
  },
  {
   "cell_type": "code",
   "execution_count": 2,
   "metadata": {},
   "outputs": [],
   "source": [
    "df = pd.read_csv(\n",
    "    \"../../resources/v2_hitosExitoFalloColESol1.csv\", delimiter=\";\", skipinitialspace=True\n",
    ")"
   ]
  },
  {
   "cell_type": "markdown",
   "metadata": {},
   "source": [
    "# _Normalizacion de variables_\n"
   ]
  },
  {
   "cell_type": "code",
   "execution_count": 3,
   "metadata": {},
   "outputs": [],
   "source": [
    "# Convertir la columna \"sol1\" a números de punto flotante\n",
    "df[\"sol1\"] = df[\"sol1\"].astype(float)\n",
    "df[\"exitosos\"] = df[\"exitosos\"].astype(int)\n",
    "df[\"fallidos\"] = df[\"fallidos\"].astype(int)\n",
    "df[\"hito1\"] = df[\"hito1\"].astype(int)\n",
    "df[\"hito2\"] = df[\"hito2\"].astype(int)"
   ]
  },
  {
   "cell_type": "code",
   "execution_count": 4,
   "metadata": {},
   "outputs": [
    {
     "data": {
      "text/html": [
       "<div>\n",
       "<style scoped>\n",
       "    .dataframe tbody tr th:only-of-type {\n",
       "        vertical-align: middle;\n",
       "    }\n",
       "\n",
       "    .dataframe tbody tr th {\n",
       "        vertical-align: top;\n",
       "    }\n",
       "\n",
       "    .dataframe thead th {\n",
       "        text-align: right;\n",
       "    }\n",
       "</style>\n",
       "<table border=\"1\" class=\"dataframe\">\n",
       "  <thead>\n",
       "    <tr style=\"text-align: right;\">\n",
       "      <th></th>\n",
       "      <th>hito1</th>\n",
       "      <th>hito2</th>\n",
       "      <th>exitosos</th>\n",
       "      <th>fallidos</th>\n",
       "      <th>e0</th>\n",
       "      <th>e1</th>\n",
       "      <th>e2</th>\n",
       "      <th>e3</th>\n",
       "      <th>e4</th>\n",
       "      <th>e5</th>\n",
       "      <th>...</th>\n",
       "      <th>e44</th>\n",
       "      <th>e45</th>\n",
       "      <th>e46</th>\n",
       "      <th>e47</th>\n",
       "      <th>e48</th>\n",
       "      <th>e49</th>\n",
       "      <th>e50</th>\n",
       "      <th>e51</th>\n",
       "      <th>e52</th>\n",
       "      <th>sol1</th>\n",
       "    </tr>\n",
       "  </thead>\n",
       "  <tbody>\n",
       "    <tr>\n",
       "      <th>count</th>\n",
       "      <td>839.000000</td>\n",
       "      <td>839.000000</td>\n",
       "      <td>839.000000</td>\n",
       "      <td>839.000000</td>\n",
       "      <td>839.000000</td>\n",
       "      <td>839.000000</td>\n",
       "      <td>839.0</td>\n",
       "      <td>839.000000</td>\n",
       "      <td>839.000000</td>\n",
       "      <td>839.0</td>\n",
       "      <td>...</td>\n",
       "      <td>839.000000</td>\n",
       "      <td>839.0</td>\n",
       "      <td>839.0</td>\n",
       "      <td>839.0</td>\n",
       "      <td>839.0</td>\n",
       "      <td>839.0</td>\n",
       "      <td>839.0</td>\n",
       "      <td>839.0</td>\n",
       "      <td>839.0</td>\n",
       "      <td>839.000000</td>\n",
       "    </tr>\n",
       "    <tr>\n",
       "      <th>mean</th>\n",
       "      <td>13.353993</td>\n",
       "      <td>0.168057</td>\n",
       "      <td>7.476758</td>\n",
       "      <td>11.287247</td>\n",
       "      <td>0.505364</td>\n",
       "      <td>0.009535</td>\n",
       "      <td>0.0</td>\n",
       "      <td>0.352801</td>\n",
       "      <td>0.734207</td>\n",
       "      <td>0.0</td>\n",
       "      <td>...</td>\n",
       "      <td>0.010727</td>\n",
       "      <td>0.0</td>\n",
       "      <td>0.0</td>\n",
       "      <td>0.0</td>\n",
       "      <td>0.0</td>\n",
       "      <td>0.0</td>\n",
       "      <td>0.0</td>\n",
       "      <td>0.0</td>\n",
       "      <td>0.0</td>\n",
       "      <td>3.642789</td>\n",
       "    </tr>\n",
       "    <tr>\n",
       "      <th>std</th>\n",
       "      <td>10.370917</td>\n",
       "      <td>1.929950</td>\n",
       "      <td>5.361101</td>\n",
       "      <td>8.432787</td>\n",
       "      <td>0.500269</td>\n",
       "      <td>0.097239</td>\n",
       "      <td>0.0</td>\n",
       "      <td>0.478126</td>\n",
       "      <td>0.442018</td>\n",
       "      <td>0.0</td>\n",
       "      <td>...</td>\n",
       "      <td>0.103076</td>\n",
       "      <td>0.0</td>\n",
       "      <td>0.0</td>\n",
       "      <td>0.0</td>\n",
       "      <td>0.0</td>\n",
       "      <td>0.0</td>\n",
       "      <td>0.0</td>\n",
       "      <td>0.0</td>\n",
       "      <td>0.0</td>\n",
       "      <td>1.832625</td>\n",
       "    </tr>\n",
       "    <tr>\n",
       "      <th>min</th>\n",
       "      <td>0.000000</td>\n",
       "      <td>0.000000</td>\n",
       "      <td>0.000000</td>\n",
       "      <td>0.000000</td>\n",
       "      <td>0.000000</td>\n",
       "      <td>0.000000</td>\n",
       "      <td>0.0</td>\n",
       "      <td>0.000000</td>\n",
       "      <td>0.000000</td>\n",
       "      <td>0.0</td>\n",
       "      <td>...</td>\n",
       "      <td>0.000000</td>\n",
       "      <td>0.0</td>\n",
       "      <td>0.0</td>\n",
       "      <td>0.0</td>\n",
       "      <td>0.0</td>\n",
       "      <td>0.0</td>\n",
       "      <td>0.0</td>\n",
       "      <td>0.0</td>\n",
       "      <td>0.0</td>\n",
       "      <td>1.000000</td>\n",
       "    </tr>\n",
       "    <tr>\n",
       "      <th>25%</th>\n",
       "      <td>3.000000</td>\n",
       "      <td>0.000000</td>\n",
       "      <td>3.000000</td>\n",
       "      <td>5.000000</td>\n",
       "      <td>0.000000</td>\n",
       "      <td>0.000000</td>\n",
       "      <td>0.0</td>\n",
       "      <td>0.000000</td>\n",
       "      <td>0.000000</td>\n",
       "      <td>0.0</td>\n",
       "      <td>...</td>\n",
       "      <td>0.000000</td>\n",
       "      <td>0.0</td>\n",
       "      <td>0.0</td>\n",
       "      <td>0.0</td>\n",
       "      <td>0.0</td>\n",
       "      <td>0.0</td>\n",
       "      <td>0.0</td>\n",
       "      <td>0.0</td>\n",
       "      <td>0.0</td>\n",
       "      <td>2.200000</td>\n",
       "    </tr>\n",
       "    <tr>\n",
       "      <th>50%</th>\n",
       "      <td>13.000000</td>\n",
       "      <td>0.000000</td>\n",
       "      <td>7.000000</td>\n",
       "      <td>10.000000</td>\n",
       "      <td>1.000000</td>\n",
       "      <td>0.000000</td>\n",
       "      <td>0.0</td>\n",
       "      <td>0.000000</td>\n",
       "      <td>1.000000</td>\n",
       "      <td>0.0</td>\n",
       "      <td>...</td>\n",
       "      <td>0.000000</td>\n",
       "      <td>0.0</td>\n",
       "      <td>0.0</td>\n",
       "      <td>0.0</td>\n",
       "      <td>0.0</td>\n",
       "      <td>0.0</td>\n",
       "      <td>0.0</td>\n",
       "      <td>0.0</td>\n",
       "      <td>0.0</td>\n",
       "      <td>3.700000</td>\n",
       "    </tr>\n",
       "    <tr>\n",
       "      <th>75%</th>\n",
       "      <td>20.000000</td>\n",
       "      <td>0.000000</td>\n",
       "      <td>11.000000</td>\n",
       "      <td>16.000000</td>\n",
       "      <td>1.000000</td>\n",
       "      <td>0.000000</td>\n",
       "      <td>0.0</td>\n",
       "      <td>1.000000</td>\n",
       "      <td>1.000000</td>\n",
       "      <td>0.0</td>\n",
       "      <td>...</td>\n",
       "      <td>0.000000</td>\n",
       "      <td>0.0</td>\n",
       "      <td>0.0</td>\n",
       "      <td>0.0</td>\n",
       "      <td>0.0</td>\n",
       "      <td>0.0</td>\n",
       "      <td>0.0</td>\n",
       "      <td>0.0</td>\n",
       "      <td>0.0</td>\n",
       "      <td>5.100000</td>\n",
       "    </tr>\n",
       "    <tr>\n",
       "      <th>max</th>\n",
       "      <td>42.000000</td>\n",
       "      <td>32.000000</td>\n",
       "      <td>28.000000</td>\n",
       "      <td>47.000000</td>\n",
       "      <td>1.000000</td>\n",
       "      <td>1.000000</td>\n",
       "      <td>0.0</td>\n",
       "      <td>1.000000</td>\n",
       "      <td>1.000000</td>\n",
       "      <td>0.0</td>\n",
       "      <td>...</td>\n",
       "      <td>1.000000</td>\n",
       "      <td>0.0</td>\n",
       "      <td>0.0</td>\n",
       "      <td>0.0</td>\n",
       "      <td>0.0</td>\n",
       "      <td>0.0</td>\n",
       "      <td>0.0</td>\n",
       "      <td>0.0</td>\n",
       "      <td>0.0</td>\n",
       "      <td>7.000000</td>\n",
       "    </tr>\n",
       "  </tbody>\n",
       "</table>\n",
       "<p>8 rows × 58 columns</p>\n",
       "</div>"
      ],
      "text/plain": [
       "            hito1       hito2    exitosos    fallidos          e0          e1  \\\n",
       "count  839.000000  839.000000  839.000000  839.000000  839.000000  839.000000   \n",
       "mean    13.353993    0.168057    7.476758   11.287247    0.505364    0.009535   \n",
       "std     10.370917    1.929950    5.361101    8.432787    0.500269    0.097239   \n",
       "min      0.000000    0.000000    0.000000    0.000000    0.000000    0.000000   \n",
       "25%      3.000000    0.000000    3.000000    5.000000    0.000000    0.000000   \n",
       "50%     13.000000    0.000000    7.000000   10.000000    1.000000    0.000000   \n",
       "75%     20.000000    0.000000   11.000000   16.000000    1.000000    0.000000   \n",
       "max     42.000000   32.000000   28.000000   47.000000    1.000000    1.000000   \n",
       "\n",
       "          e2          e3          e4     e5  ...         e44    e45    e46  \\\n",
       "count  839.0  839.000000  839.000000  839.0  ...  839.000000  839.0  839.0   \n",
       "mean     0.0    0.352801    0.734207    0.0  ...    0.010727    0.0    0.0   \n",
       "std      0.0    0.478126    0.442018    0.0  ...    0.103076    0.0    0.0   \n",
       "min      0.0    0.000000    0.000000    0.0  ...    0.000000    0.0    0.0   \n",
       "25%      0.0    0.000000    0.000000    0.0  ...    0.000000    0.0    0.0   \n",
       "50%      0.0    0.000000    1.000000    0.0  ...    0.000000    0.0    0.0   \n",
       "75%      0.0    1.000000    1.000000    0.0  ...    0.000000    0.0    0.0   \n",
       "max      0.0    1.000000    1.000000    0.0  ...    1.000000    0.0    0.0   \n",
       "\n",
       "         e47    e48    e49    e50    e51    e52        sol1  \n",
       "count  839.0  839.0  839.0  839.0  839.0  839.0  839.000000  \n",
       "mean     0.0    0.0    0.0    0.0    0.0    0.0    3.642789  \n",
       "std      0.0    0.0    0.0    0.0    0.0    0.0    1.832625  \n",
       "min      0.0    0.0    0.0    0.0    0.0    0.0    1.000000  \n",
       "25%      0.0    0.0    0.0    0.0    0.0    0.0    2.200000  \n",
       "50%      0.0    0.0    0.0    0.0    0.0    0.0    3.700000  \n",
       "75%      0.0    0.0    0.0    0.0    0.0    0.0    5.100000  \n",
       "max      0.0    0.0    0.0    0.0    0.0    0.0    7.000000  \n",
       "\n",
       "[8 rows x 58 columns]"
      ]
     },
     "execution_count": 4,
     "metadata": {},
     "output_type": "execute_result"
    }
   ],
   "source": [
    "df.describe()"
   ]
  },
  {
   "cell_type": "markdown",
   "metadata": {},
   "source": [
    "# _Transformacion y generacion de Columnas_\n"
   ]
  },
  {
   "cell_type": "code",
   "execution_count": 5,
   "metadata": {},
   "outputs": [
    {
     "name": "stdout",
     "output_type": "stream",
     "text": [
      "Index(['hito1', 'hito2', 'exitosos', 'fallidos', 'e0', 'e1', 'e2', 'e3', 'e4',\n",
      "       'e5', 'e6', 'e7', 'e8', 'e9', 'e10', 'e11', 'e12', 'e13', 'e14', 'e15',\n",
      "       'e16', 'e17', 'e18', 'e19', 'e20', 'e21', 'e22', 'e23', 'e24', 'e25',\n",
      "       'e26', 'e27', 'e28', 'e29', 'e30', 'e31', 'e32', 'e33', 'e34', 'e35',\n",
      "       'e36', 'e37', 'e38', 'e39', 'e40', 'e41', 'e42', 'e43', 'e44', 'e45',\n",
      "       'e46', 'e47', 'e48', 'e49', 'e50', 'e51', 'e52', 'sol1', 'aprobado'],\n",
      "      dtype='object')\n"
     ]
    }
   ],
   "source": [
    "# creando columna aprobado y con la funcion set_in_aprobado_nota poblamos la nueva columna.\n",
    "df[\"aprobado\"] = df.apply(lambda x: functions.set_in_aprobado_nota(x[\"sol1\"]), axis=1)\n",
    "\n",
    "# revisamos la existencia de la nueva columna.\n",
    "print(df.columns)"
   ]
  },
  {
   "cell_type": "markdown",
   "metadata": {},
   "source": [
    "# _Selección de características y variable objetivo para los modelos de clasificacion_\n"
   ]
  },
  {
   "cell_type": "code",
   "execution_count": 6,
   "metadata": {},
   "outputs": [],
   "source": [
    "# Selección de características y variable objetivo para los modelos de clasificacion.\n",
    "y = df[\"aprobado\"]\n",
    "X = df[\n",
    "    ['hito1', 'hito2', 'exitosos', 'fallidos', 'e0', 'e1', 'e2', 'e3', 'e4', 'e5', 'e6', 'e7', 'e8', 'e9', 'e10', 'e11', 'e12', 'e13', 'e14', 'e15', 'e16', 'e17', 'e18', 'e19', 'e20', 'e21', 'e22', 'e23', 'e24', 'e25', 'e26', 'e27', 'e28', 'e29', 'e30', 'e31', 'e32', 'e33', 'e34', 'e35', 'e36', 'e37', 'e38', 'e39', 'e40', 'e41', 'e42', 'e43', 'e44', 'e45', 'e46', 'e47', 'e48', 'e49', 'e50', 'e51', 'e52']\n",
    "]"
   ]
  },
  {
   "cell_type": "markdown",
   "metadata": {},
   "source": [
    "# **Modelos de clasificacion**\n"
   ]
  },
  {
   "cell_type": "code",
   "execution_count": 7,
   "metadata": {},
   "outputs": [],
   "source": [
    "# Dividir los datos en conjuntos de entrenamiento y prueba usando train_test_split\n",
    "X_train, X_test, y_train, y_test = train_test_split(X, y, test_size=0.2, random_state=1502)"
   ]
  },
  {
   "cell_type": "markdown",
   "metadata": {},
   "source": [
    "# _Descripcion de configuraciones utilizadas_\n",
    "\n",
    "`DecisionTreeClassifier`\n",
    "\n",
    "- `min_samples_split:` (cantidad mínima de muestras para dividir): Se establece en 10, lo que indica que se requiere un mínimo de 10 muestras en un nodo para que se realice una división.\n",
    "- `min_samples_leaf:` (cantidad mínima de muestras en una hoja): Se establece en 5, lo que significa que se requiere un mínimo de 5 muestras en una hoja para que se considere como una hoja válida.\n",
    "\n",
    "`LogisticRegression`\n",
    "\n",
    "- `penalty:` (penalización) Se establece en \"l2\", lo que significa que se utiliza la regularización L2 (ridge) para evitar el sobreajuste.\n",
    "- `c:` (inverso de la fuerza de regularización) Se establece en 1.0, lo que indica una regularización moderada.\n",
    "- `solver:` (solucionador) Se establece en \"lbfgs\", que es un algoritmo de optimización utilizado para ajustar el modelo.\n",
    "- `max_iter:` (máximo número de iteraciones) Se establece en 150, lo que indica el número máximo de iteraciones permitidas para la convergencia del modelo.\n",
    "\n",
    "`RandomForestClassifier`\n",
    "\n",
    "- `max_depth` (máxima profundidad del árbol): Se establece en 10, lo que limita la profundidad máxima de los árboles en el bosque.\n",
    "- `min_samples_split` (cantidad mínima de muestras para dividir): Se establece en 10, lo que indica que se requiere un mínimo de 10 muestras en un nodo para que se realice una división.\n",
    "- `min_samples_leaf` (cantidad mínima de muestras en una hoja): Se establece en 5, lo que significa que se requiere un mínimo de 5 muestras en una hoja para que se considere como una hoja válida.\n",
    "- `random_state` (semilla para la generación de números aleatorios): Se establece en 1502, lo que garantiza la reproducibilidad de los resultados.\n",
    "- `n_estimators` (número de estimadores): Se establece en 500, lo que indica el número de árboles en el bosque.\n",
    "\n",
    "`XGBClassifier`\n",
    "\n",
    "- `learning_rate` (tasa de aprendizaje): Se establece en 0.1, lo que controla la velocidad de aprendizaje del algoritmo.\n",
    "- `max_depth` (máxima profundidad del árbol): Se establece en 10, lo que limita la profundidad máxima de los árboles.\n",
    "- `n_estimators` (número de estimadores): Se establece en 150, lo que determina el número de árboles en el modelo.\n",
    "- `subsample`: Se establece en 1.0, lo que indica que se utilizan todas las muestras en cada árbol.\n"
   ]
  },
  {
   "cell_type": "code",
   "execution_count": 8,
   "metadata": {},
   "outputs": [],
   "source": [
    "# Definir los modelos de Clasificacion\n",
    "models_clasificacion = [\n",
    "    DecisionTreeClassifier(\n",
    "        min_samples_split=10,\n",
    "        min_samples_leaf=5,\n",
    "    ),\n",
    "    LogisticRegression(penalty=\"l2\", C=1.0, solver=\"lbfgs\", max_iter=150),\n",
    "    RandomForestClassifier(\n",
    "        max_depth=10,\n",
    "        min_samples_split=10,\n",
    "        min_samples_leaf=5,\n",
    "        random_state=1502,\n",
    "        n_estimators=500,\n",
    "    ),\n",
    "    XGBClassifier(learning_rate=0.1, max_depth=10, n_estimators=150, subsample=1.0),\n",
    "]"
   ]
  },
  {
   "cell_type": "markdown",
   "metadata": {},
   "source": [
    "# _Aplicando StratifiedKfold y Entrenamiento_\n"
   ]
  },
  {
   "cell_type": "code",
   "execution_count": 9,
   "metadata": {},
   "outputs": [],
   "source": [
    "scoring = {\n",
    "    'accuracy': make_scorer(accuracy_score),\n",
    "    'precision': make_scorer(precision_score),\n",
    "    'recall': make_scorer(recall_score),\n",
    "    'f1': make_scorer(f1_score)\n",
    "}\n",
    "\n",
    "# Crear un diccionario para almacenar los resultados de las métricas para cada modelo\n",
    "results_train = {}\n",
    "\n",
    "# Calcular las métricas utilizando cross_validate\n",
    "for model in models_clasificacion:\n",
    "    model_name = model.__class__.__name__\n",
    "    scores = cross_validate(model, X_train, y_train, cv=5, scoring=scoring)\n",
    "    results_train[model_name] = {\n",
    "        metric: scores['test_' + metric] for metric in scoring\n",
    "    }"
   ]
  },
  {
   "cell_type": "markdown",
   "metadata": {},
   "source": [
    "# _Realizar predicciones utilizando el mejor modelo sobre test_\n"
   ]
  },
  {
   "cell_type": "markdown",
   "metadata": {},
   "source": [
    "# _Grafico Comparación de Métricas de Rendimiento (Conjunto de Entrenamiento) Modelos de Clasificación_\n"
   ]
  },
  {
   "cell_type": "code",
   "execution_count": 10,
   "metadata": {},
   "outputs": [
    {
     "data": {
      "image/png": "[encoded data removed]",
      "text/plain": [
       "<Figure size 1200x800 with 1 Axes>"
      ]
     },
     "metadata": {},
     "output_type": "display_data"
    }
   ],
   "source": [
    "# Crear el gráfico de barras\n",
    "fig, ax = plt.subplots(figsize=(12, 8))\n",
    "x = np.arange(len(models_clasificacion))\n",
    "width = 0.225\n",
    "\n",
    "model_names = [model.__class__.__name__ for model in models_clasificacion]\n",
    "\n",
    "for i, metric in enumerate(scoring.keys()):\n",
    "    scores = [\n",
    "        np.mean(results_train[model_name][metric]) for model_name in model_names\n",
    "    ]\n",
    "    bars = ax.bar(x + i * width, scores, width, label=metric)\n",
    "    for bar in bars:\n",
    "        height = bar.get_height()\n",
    "        ax.text(\n",
    "            bar.get_x() + bar.get_width() / 2,\n",
    "            height / 2,  # Cambio aquí para colocar el texto en el centro\n",
    "            f\"{height:.2%}\",\n",
    "            ha=\"center\",\n",
    "            va=\"center\",\n",
    "            color=\"black\"  # Cambio aquí para que el texto sea blanco y visible en el centro de la barra\n",
    "        )\n",
    "\n",
    "ax.set_xticks(x + len(scoring.keys()) * width / 2)\n",
    "ax.set_xticklabels(model_names)\n",
    "plt.xlabel(\"Modelos de Clasificación\")\n",
    "plt.ylabel(\"Puntuación\")\n",
    "plt.title(\"Comparación de Métricas de Rendimiento (Conjunto de Entrenamiento)\")\n",
    "plt.legend(loc=\"center\", bbox_to_anchor=(0.5, -0.15), ncol=len(scoring.keys()))\n",
    "plt.tight_layout()\n",
    "plt.show()"
   ]
  },
  {
   "cell_type": "markdown",
   "metadata": {},
   "source": [
    "# _Comparación de Métricas entre Modelos_\n",
    "\n",
    "`Accuracy (Precisión)`:\n",
    "El accuracy, o precisión, es una métrica que mide la proporción de instancias clasificadas correctamente sobre el total de instancias en los datos de prueba. En otras palabras, es la capacidad del modelo para predecir correctamente tanto las instancias positivas como las negativas. Un valor de accuracy alto indica un buen rendimiento general del modelo en la clasificación.\n",
    "\n",
    "- `Fórmula:\n",
    "Accuracy = (Verdaderos Positivos + Verdaderos Negativos) / Total de instancias`\n",
    "\n",
    "`Precision (Precisión)`:\n",
    "La precision es una métrica que mide la proporción de instancias clasificadas como positivas que son realmente positivas. Es la capacidad del modelo para evitar hacer falsas afirmaciones de que una instancia pertenece a la clase positiva cuando no lo hace. Una precision alta indica que el modelo tiene una baja tasa de falsos positivos.\n",
    "\n",
    "- `Fórmula:\n",
    "Precision = Verdaderos Positivos / (Verdaderos Positivos + Falsos Positivos)`\n",
    "\n",
    "`Recall (Recall o Sensibilidad)`:\n",
    "El recall, también conocido como sensibilidad o tasa de verdaderos positivos, mide la proporción de instancias positivas que son correctamente identificadas por el modelo. Es la capacidad del modelo para detectar y clasificar correctamente las instancias positivas. Un recall alto indica que el modelo tiene una baja tasa de falsos negativos.\n",
    "\n",
    "- `Fórmula:\n",
    "Recall = Verdaderos Positivos / (Verdaderos Positivos + Falsos Negativos)`\n",
    "\n",
    "`F1 Score`:\n",
    "El F1 score es una métrica que combina la precision y el recall en una sola medida. Es la media armónica de la precision y el recall, y proporciona una evaluación equilibrada del rendimiento del modelo. El F1 score es especialmente útil cuando hay un desequilibrio entre las clases o cuando se desea tener un equilibrio entre la precision y el recall.\n",
    "\n",
    "- `Fórmula:\n",
    "F1 Score = 2 * (Precision * Recall) / (Precision + Recall)`\n",
    "\n",
    "`Stratified K-Fold Cross-Validation (Validación cruzada estratificada de K particiones)`:\n",
    "La validación cruzada estratificada de K particiones, o Stratified K-Fold CV, es una variante de K-Fold CV que tiene en cuenta la distribución de las clases en los datos al realizar la partición. En lugar de realizar la partición de forma aleatoria, Stratified K-Fold CV garantiza que la proporción de clases en cada partición sea lo más similar posible a la proporción de clases en el conjunto de datos original. Esto es especialmente útil cuando hay un desequilibrio entre las clases en los datos.\n"
   ]
  },
  {
   "cell_type": "markdown",
   "metadata": {},
   "source": [
    "# _Grafico de resultados mejor modelo Mean y R2_\n"
   ]
  },
  {
   "cell_type": "markdown",
   "metadata": {},
   "source": [
    "# **Análisis de los resultados del gráfico de Clasificación**\n",
    "\n",
    "En este trabajo de investigación, se realizó un análisis de clasificación comparando diferentes modelos. Los resultados obtenidos revelan que el modelo de clasificación RandomForestClassifier logró un mejor desempeño en términos de equilibrio F1 con un 62.53%, recall con un 58.90%, precisión con un 67.61% y exactitud con un 68.26% en comparación con los otros modelos evaluados.\n",
    "\n",
    "**Conclusión:** Con base en los resultados obtenidos, se puede concluir que el modelo RandomForestClassifier es el más adecuado para problemas de clasificación.\n",
    "\n",
    "- El mejor modelo en la validación fue: RandomForestClassifier 63.85%\n",
    "- Resultados del mejor modelo en el conjunto de prueba:\n",
    "  - Mean Squared Error: 36.3%\n",
    "  - R2 Score: -45.3%\n"
   ]
  },
  {
   "cell_type": "markdown",
   "metadata": {},
   "source": [
    "# **Modelos de Regresion**\n"
   ]
  },
  {
   "attachments": {},
   "cell_type": "markdown",
   "metadata": {},
   "source": [
    "`LinearRegression`:\n",
    "\n",
    "Es un modelo de regresión lineal que busca establecer una relación lineal entre las características y la variable objetivo continua.\n",
    "Se basa en ajustar una línea recta a los datos que minimiza la suma de los errores cuadráticos.\n",
    "Estima los coeficientes de las características para predecir los valores de la variable objetivo.\n",
    "\n",
    "- `positive` (positividad): Se establece en True, lo que indica que los coeficientes del modelo de regresión lineal se forzarán a ser positivos.\n",
    "- `fit_intercept` (ajuste de intersección): Se establece en True, lo que significa que se calculará la intersección (ordenada al origen) en el modelo de regresión lineal.\n",
    "\n",
    "`DecisionTreeRegressor`:\n",
    "\n",
    "Es un modelo de regresión basado en árboles de decisión.\n",
    "Divide recursivamente el espacio de características en subespacios más pequeños para predecir los valores de las muestras.\n",
    "Cada nodo interno representa una pregunta o prueba sobre una característica, y las hojas representan los valores de regresión.\n",
    "\n",
    "- `min_samples_split` (cantidad mínima de muestras para dividir): Se establece en 5, lo que indica que se requiere un mínimo de 5 muestras en un nodo para que se realice una división.\n",
    "- `min_samples_leaf` (cantidad mínima de muestras en una hoja): Se establece en 3, lo que significa que se requiere un mínimo de 3 muestras en una hoja para que se considere como una hoja válida.\n",
    "\n",
    "`KNeighborsRegressor`:\n",
    "\n",
    "Es un modelo de regresión basado en vecinos más cercanos (K-Nearest Neighbors).\n",
    "Estima el valor de la variable objetivo mediante la media (promedio) de los valores de los K vecinos más cercanos en el espacio de características.\n",
    "Puede manejar problemas de regresión con múltiples características y valores continuos.\n",
    "\n",
    "- `n_neighbors` (número de vecinos): Se establece en 8, lo que indica que se utilizarán los 8 vecinos más cercanos para predecir el valor de la variable objetivo en el modelo de regresión basado en vecinos más cercanos.\n",
    "\n",
    "`NOTA: Para estos modelos se utiliza la columna sol1 donde nota igual o superior a 4 es aprobado`\n"
   ]
  },
  {
   "cell_type": "markdown",
   "metadata": {},
   "source": [
    "# _Selección de características y variable objetivo para los modelos de Regresion_\n"
   ]
  },
  {
   "cell_type": "markdown",
   "metadata": {},
   "source": [
    "# _Definir los modelos de regresión_\n"
   ]
  },
  {
   "cell_type": "markdown",
   "metadata": {},
   "source": [
    "# _Realizar K-Fold Cross-Validation y entrenamiento en los datos de entrenados y obtener las métricas para cada modelo_\n"
   ]
  },
  {
   "cell_type": "markdown",
   "metadata": {},
   "source": [
    "# _Grafico Comparación de Medidas de Rendimiento Modelos de Regresión_\n"
   ]
  },
  {
   "cell_type": "markdown",
   "metadata": {},
   "source": [
    "# _Medidas de rendimiento de cada modelo_\n",
    "\n",
    "`MSE (Mean Squared Error) - Error Cuadrático Medio`: Es la media de los errores al cuadrado entre las predicciones y los valores reales. El MSE proporciona una medida de la calidad general del modelo, donde valores más bajos indican que las predicciones se ajustan mejor a los datos reales.\n",
    "\n",
    "`MAE (Mean Absolute Error) - Error Absoluto Medio`: Es la media de los errores absolutos entre las predicciones y los valores reales. El MAE representa la magnitud promedio de los errores de predicción y se utiliza para evaluar la precisión del modelo. Valores más bajos indican una mejor precisión.\n",
    "\n",
    "`R2 (Coeficiente de determinación)`: Es una medida de qué tan bien se ajustan las predicciones del modelo a los datos reales. R2 varía entre 0 y 1, donde 1 indica un ajuste perfecto del modelo a los datos. Un valor más cercano a 1 indica un mejor ajuste del modelo.\n"
   ]
  },
  {
   "cell_type": "markdown",
   "metadata": {},
   "source": [
    "# _Identificar el mejor modelo_\n"
   ]
  },
  {
   "cell_type": "markdown",
   "metadata": {},
   "source": [
    "# **Análisis de los resultados del gráfico de regresión**\n",
    "\n",
    "En este trabajo de investigación, se realizaron análisis de regresión para evaluar diferentes modelos. Los resultados obtenidos revelan que el modelo de LinearRegression obtuvo los mejores resultados en todas sus características. Se logró un MSE de 3.6% y un MAE de 1.6%, valores inferiores a los de los otros modelos evaluados. Además, el modelo de LinearRegression presentó un R2 más cercano a 1, con un aumento del 0.1% en comparación con los demás modelos.\n",
    "\n",
    "**Conclusión:** De acuerdo con los hallazgos de este estudio, se puede concluir que el modelo de LinearRegression es el más adecuado para este análisis de regresión.\n"
   ]
  },
  {
   "cell_type": "markdown",
   "metadata": {},
   "source": [
    "# **Conclusión Final de la Investigación**\n",
    "\n",
    "En este estudio de investigación, se realizó una comparación exhaustiva de diferentes algoritmos de modelos predictivos para determinar cuál es el más adecuado en términos de origen de datos. El objetivo principal fue evaluar y seleccionar el mejor modelo para abordar el problema de manera efectiva.\n",
    "\n",
    "Después de analizar y comparar varios algoritmos, se llegó a la conclusión de que el modelo de clasificación RandomForestClassifier se destaca como el enfoque más efectivo para el origen de datos en cuestión. Este modelo demostró un mejor desempeño en términos de equilibrio F1 con un 62.08%, recall con un 58.67%, precisión con un 66.54% y exactitud con un 68.11% en comparación con los otros modelos evaluados. Estos resultados indican que el modelo RandomForestClassifier es altamente eficaz para problemas de clasificación.\n",
    "\n",
    "Es importante destacar que este experimento forma parte de una investigación más amplia para una tesis en curso. Al realizar la comparación de algoritmos de modelos predictivos, se pudo determinar que la clasificación es la mejor manera de tratar el origen de los datos en este contexto específico.\n",
    "\n",
    "Se recomienda el uso del modelo RandomForestClassifier para futuros análisis y aplicaciones similares. Sin embargo, es importante tener en cuenta que la selección del algoritmo de modelo predictivo adecuado debe considerar las características específicas de los datos y el objetivo de la investigación.\n"
   ]
  }
 ],
 "metadata": {
  "kernelspec": {
   "display_name": "Python 3",
   "language": "python",
   "name": "python3"
  },
  "language_info": {
   "codemirror_mode": {
    "name": "ipython",
    "version": 3
   },
   "file_extension": ".py",
   "mimetype": "text/x-python",
   "name": "python",
   "nbconvert_exporter": "python",
   "pygments_lexer": "ipython3",
   "version": "3.10.9"
  },
  "orig_nbformat": 4
 },
 "nbformat": 4,
 "nbformat_minor": 2
}
